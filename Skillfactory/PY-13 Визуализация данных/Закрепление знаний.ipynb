{
 "cells": [
  {
   "cell_type": "code",
   "execution_count": 23,
   "metadata": {},
   "outputs": [
    {
     "data": {
      "text/html": [
       "<div>\n",
       "<style scoped>\n",
       "    .dataframe tbody tr th:only-of-type {\n",
       "        vertical-align: middle;\n",
       "    }\n",
       "\n",
       "    .dataframe tbody tr th {\n",
       "        vertical-align: top;\n",
       "    }\n",
       "\n",
       "    .dataframe thead th {\n",
       "        text-align: right;\n",
       "    }\n",
       "</style>\n",
       "<table border=\"1\" class=\"dataframe\">\n",
       "  <thead>\n",
       "    <tr style=\"text-align: right;\">\n",
       "      <th></th>\n",
       "      <th>RowNumber</th>\n",
       "      <th>CustomerId</th>\n",
       "      <th>Surname</th>\n",
       "      <th>CreditScore</th>\n",
       "      <th>Geography</th>\n",
       "      <th>Gender</th>\n",
       "      <th>Age</th>\n",
       "      <th>Tenure</th>\n",
       "      <th>Balance</th>\n",
       "      <th>NumOfProducts</th>\n",
       "      <th>HasCrCard</th>\n",
       "      <th>IsActiveMember</th>\n",
       "      <th>EstimatedSalary</th>\n",
       "      <th>Exited</th>\n",
       "    </tr>\n",
       "  </thead>\n",
       "  <tbody>\n",
       "    <tr>\n",
       "      <th>0</th>\n",
       "      <td>1</td>\n",
       "      <td>15634602</td>\n",
       "      <td>Hargrave</td>\n",
       "      <td>619</td>\n",
       "      <td>France</td>\n",
       "      <td>Female</td>\n",
       "      <td>42</td>\n",
       "      <td>2</td>\n",
       "      <td>0.00</td>\n",
       "      <td>1</td>\n",
       "      <td>1</td>\n",
       "      <td>1</td>\n",
       "      <td>101348.88</td>\n",
       "      <td>1</td>\n",
       "    </tr>\n",
       "    <tr>\n",
       "      <th>1</th>\n",
       "      <td>2</td>\n",
       "      <td>15647311</td>\n",
       "      <td>Hill</td>\n",
       "      <td>608</td>\n",
       "      <td>Spain</td>\n",
       "      <td>Female</td>\n",
       "      <td>41</td>\n",
       "      <td>1</td>\n",
       "      <td>83807.86</td>\n",
       "      <td>1</td>\n",
       "      <td>0</td>\n",
       "      <td>1</td>\n",
       "      <td>112542.58</td>\n",
       "      <td>0</td>\n",
       "    </tr>\n",
       "    <tr>\n",
       "      <th>2</th>\n",
       "      <td>3</td>\n",
       "      <td>15619304</td>\n",
       "      <td>Onio</td>\n",
       "      <td>502</td>\n",
       "      <td>France</td>\n",
       "      <td>Female</td>\n",
       "      <td>42</td>\n",
       "      <td>8</td>\n",
       "      <td>159660.80</td>\n",
       "      <td>3</td>\n",
       "      <td>1</td>\n",
       "      <td>0</td>\n",
       "      <td>113931.57</td>\n",
       "      <td>1</td>\n",
       "    </tr>\n",
       "    <tr>\n",
       "      <th>3</th>\n",
       "      <td>4</td>\n",
       "      <td>15701354</td>\n",
       "      <td>Boni</td>\n",
       "      <td>699</td>\n",
       "      <td>France</td>\n",
       "      <td>Female</td>\n",
       "      <td>39</td>\n",
       "      <td>1</td>\n",
       "      <td>0.00</td>\n",
       "      <td>2</td>\n",
       "      <td>0</td>\n",
       "      <td>0</td>\n",
       "      <td>93826.63</td>\n",
       "      <td>0</td>\n",
       "    </tr>\n",
       "    <tr>\n",
       "      <th>4</th>\n",
       "      <td>5</td>\n",
       "      <td>15737888</td>\n",
       "      <td>Mitchell</td>\n",
       "      <td>850</td>\n",
       "      <td>Spain</td>\n",
       "      <td>Female</td>\n",
       "      <td>43</td>\n",
       "      <td>2</td>\n",
       "      <td>125510.82</td>\n",
       "      <td>1</td>\n",
       "      <td>1</td>\n",
       "      <td>1</td>\n",
       "      <td>79084.10</td>\n",
       "      <td>0</td>\n",
       "    </tr>\n",
       "  </tbody>\n",
       "</table>\n",
       "</div>"
      ],
      "text/plain": [
       "   RowNumber  CustomerId   Surname  CreditScore Geography  Gender  Age  \\\n",
       "0          1    15634602  Hargrave          619    France  Female   42   \n",
       "1          2    15647311      Hill          608     Spain  Female   41   \n",
       "2          3    15619304      Onio          502    France  Female   42   \n",
       "3          4    15701354      Boni          699    France  Female   39   \n",
       "4          5    15737888  Mitchell          850     Spain  Female   43   \n",
       "\n",
       "   Tenure    Balance  NumOfProducts  HasCrCard  IsActiveMember  \\\n",
       "0       2       0.00              1          1               1   \n",
       "1       1   83807.86              1          0               1   \n",
       "2       8  159660.80              3          1               0   \n",
       "3       1       0.00              2          0               0   \n",
       "4       2  125510.82              1          1               1   \n",
       "\n",
       "   EstimatedSalary  Exited  \n",
       "0        101348.88       1  \n",
       "1        112542.58       0  \n",
       "2        113931.57       1  \n",
       "3         93826.63       0  \n",
       "4         79084.10       0  "
      ]
     },
     "execution_count": 23,
     "metadata": {},
     "output_type": "execute_result"
    }
   ],
   "source": [
    "import pandas as pd\n",
    "\n",
    "churn_data = pd.read_csv('data/churn.csv')\n",
    "churn_data.head()"
   ]
  },
  {
   "cell_type": "markdown",
   "metadata": {},
   "source": [
    "Задание 9.1 Каково соотношение ушедших и лояльных клиентов? Покажите это на графике и дайте комментарий по соотношению."
   ]
  },
  {
   "cell_type": "code",
   "execution_count": 24,
   "metadata": {},
   "outputs": [
    {
     "data": {
      "image/png": "[encoded data removed]",
      "text/plain": [
       "<Figure size 500x500 with 1 Axes>"
      ]
     },
     "metadata": {},
     "output_type": "display_data"
    }
   ],
   "source": [
    "import matplotlib.pyplot as plt\n",
    "%matplotlib inline\n",
    "plt.style.use('default')\n",
    "\n",
    "exited = churn_data[\"Exited\"].value_counts()\n",
    "\n",
    "fig = plt.figure(figsize=(5, 5))\n",
    "axes = fig.add_axes([0, 0, 1, 1])\n",
    "axes.pie(\n",
    "    exited,\n",
    "    labels=[\"Лояльные клиенты\", \"Ушедшие клиенты\"],\n",
    "    autopct='%.1f%%',\n",
    "    explode = [0.2, 0]);"
   ]
  },
  {
   "cell_type": "code",
   "execution_count": 187,
   "metadata": {},
   "outputs": [],
   "source": [
    "#Из графика видно что количество лояльных клиентов превышает количество ушедших более чем в 3 раза."
   ]
  },
  {
   "cell_type": "markdown",
   "metadata": {},
   "source": [
    "Задание 9.2 Постройте график, показывающий распределение баланса пользователей, у которых на счету больше 2 500 долларов. Опишите распределение и сделайте выводы."
   ]
  },
  {
   "cell_type": "code",
   "execution_count": 25,
   "metadata": {},
   "outputs": [
    {
     "data": {
      "text/html": [
       "<div>\n",
       "<style scoped>\n",
       "    .dataframe tbody tr th:only-of-type {\n",
       "        vertical-align: middle;\n",
       "    }\n",
       "\n",
       "    .dataframe tbody tr th {\n",
       "        vertical-align: top;\n",
       "    }\n",
       "\n",
       "    .dataframe thead th {\n",
       "        text-align: right;\n",
       "    }\n",
       "</style>\n",
       "<table border=\"1\" class=\"dataframe\">\n",
       "  <thead>\n",
       "    <tr style=\"text-align: right;\">\n",
       "      <th></th>\n",
       "      <th>RowNumber</th>\n",
       "      <th>CustomerId</th>\n",
       "      <th>Surname</th>\n",
       "      <th>CreditScore</th>\n",
       "      <th>Geography</th>\n",
       "      <th>Gender</th>\n",
       "      <th>Age</th>\n",
       "      <th>Tenure</th>\n",
       "      <th>Balance</th>\n",
       "      <th>NumOfProducts</th>\n",
       "      <th>HasCrCard</th>\n",
       "      <th>IsActiveMember</th>\n",
       "      <th>EstimatedSalary</th>\n",
       "      <th>Exited</th>\n",
       "    </tr>\n",
       "  </thead>\n",
       "  <tbody>\n",
       "    <tr>\n",
       "      <th>1</th>\n",
       "      <td>2</td>\n",
       "      <td>15647311</td>\n",
       "      <td>Hill</td>\n",
       "      <td>608</td>\n",
       "      <td>Spain</td>\n",
       "      <td>Female</td>\n",
       "      <td>41</td>\n",
       "      <td>1</td>\n",
       "      <td>83807.86</td>\n",
       "      <td>1</td>\n",
       "      <td>0</td>\n",
       "      <td>1</td>\n",
       "      <td>112542.58</td>\n",
       "      <td>0</td>\n",
       "    </tr>\n",
       "    <tr>\n",
       "      <th>2</th>\n",
       "      <td>3</td>\n",
       "      <td>15619304</td>\n",
       "      <td>Onio</td>\n",
       "      <td>502</td>\n",
       "      <td>France</td>\n",
       "      <td>Female</td>\n",
       "      <td>42</td>\n",
       "      <td>8</td>\n",
       "      <td>159660.80</td>\n",
       "      <td>3</td>\n",
       "      <td>1</td>\n",
       "      <td>0</td>\n",
       "      <td>113931.57</td>\n",
       "      <td>1</td>\n",
       "    </tr>\n",
       "    <tr>\n",
       "      <th>4</th>\n",
       "      <td>5</td>\n",
       "      <td>15737888</td>\n",
       "      <td>Mitchell</td>\n",
       "      <td>850</td>\n",
       "      <td>Spain</td>\n",
       "      <td>Female</td>\n",
       "      <td>43</td>\n",
       "      <td>2</td>\n",
       "      <td>125510.82</td>\n",
       "      <td>1</td>\n",
       "      <td>1</td>\n",
       "      <td>1</td>\n",
       "      <td>79084.10</td>\n",
       "      <td>0</td>\n",
       "    </tr>\n",
       "    <tr>\n",
       "      <th>5</th>\n",
       "      <td>6</td>\n",
       "      <td>15574012</td>\n",
       "      <td>Chu</td>\n",
       "      <td>645</td>\n",
       "      <td>Spain</td>\n",
       "      <td>Male</td>\n",
       "      <td>44</td>\n",
       "      <td>8</td>\n",
       "      <td>113755.78</td>\n",
       "      <td>2</td>\n",
       "      <td>1</td>\n",
       "      <td>0</td>\n",
       "      <td>149756.71</td>\n",
       "      <td>1</td>\n",
       "    </tr>\n",
       "    <tr>\n",
       "      <th>7</th>\n",
       "      <td>8</td>\n",
       "      <td>15656148</td>\n",
       "      <td>Obinna</td>\n",
       "      <td>376</td>\n",
       "      <td>Germany</td>\n",
       "      <td>Female</td>\n",
       "      <td>29</td>\n",
       "      <td>4</td>\n",
       "      <td>115046.74</td>\n",
       "      <td>4</td>\n",
       "      <td>1</td>\n",
       "      <td>0</td>\n",
       "      <td>119346.88</td>\n",
       "      <td>1</td>\n",
       "    </tr>\n",
       "    <tr>\n",
       "      <th>...</th>\n",
       "      <td>...</td>\n",
       "      <td>...</td>\n",
       "      <td>...</td>\n",
       "      <td>...</td>\n",
       "      <td>...</td>\n",
       "      <td>...</td>\n",
       "      <td>...</td>\n",
       "      <td>...</td>\n",
       "      <td>...</td>\n",
       "      <td>...</td>\n",
       "      <td>...</td>\n",
       "      <td>...</td>\n",
       "      <td>...</td>\n",
       "      <td>...</td>\n",
       "    </tr>\n",
       "    <tr>\n",
       "      <th>9991</th>\n",
       "      <td>9992</td>\n",
       "      <td>15769959</td>\n",
       "      <td>Ajuluchukwu</td>\n",
       "      <td>597</td>\n",
       "      <td>France</td>\n",
       "      <td>Female</td>\n",
       "      <td>53</td>\n",
       "      <td>4</td>\n",
       "      <td>88381.21</td>\n",
       "      <td>1</td>\n",
       "      <td>1</td>\n",
       "      <td>0</td>\n",
       "      <td>69384.71</td>\n",
       "      <td>1</td>\n",
       "    </tr>\n",
       "    <tr>\n",
       "      <th>9993</th>\n",
       "      <td>9994</td>\n",
       "      <td>15569266</td>\n",
       "      <td>Rahman</td>\n",
       "      <td>644</td>\n",
       "      <td>France</td>\n",
       "      <td>Male</td>\n",
       "      <td>28</td>\n",
       "      <td>7</td>\n",
       "      <td>155060.41</td>\n",
       "      <td>1</td>\n",
       "      <td>1</td>\n",
       "      <td>0</td>\n",
       "      <td>29179.52</td>\n",
       "      <td>0</td>\n",
       "    </tr>\n",
       "    <tr>\n",
       "      <th>9996</th>\n",
       "      <td>9997</td>\n",
       "      <td>15569892</td>\n",
       "      <td>Johnstone</td>\n",
       "      <td>516</td>\n",
       "      <td>France</td>\n",
       "      <td>Male</td>\n",
       "      <td>35</td>\n",
       "      <td>10</td>\n",
       "      <td>57369.61</td>\n",
       "      <td>1</td>\n",
       "      <td>1</td>\n",
       "      <td>1</td>\n",
       "      <td>101699.77</td>\n",
       "      <td>0</td>\n",
       "    </tr>\n",
       "    <tr>\n",
       "      <th>9998</th>\n",
       "      <td>9999</td>\n",
       "      <td>15682355</td>\n",
       "      <td>Sabbatini</td>\n",
       "      <td>772</td>\n",
       "      <td>Germany</td>\n",
       "      <td>Male</td>\n",
       "      <td>42</td>\n",
       "      <td>3</td>\n",
       "      <td>75075.31</td>\n",
       "      <td>2</td>\n",
       "      <td>1</td>\n",
       "      <td>0</td>\n",
       "      <td>92888.52</td>\n",
       "      <td>1</td>\n",
       "    </tr>\n",
       "    <tr>\n",
       "      <th>9999</th>\n",
       "      <td>10000</td>\n",
       "      <td>15628319</td>\n",
       "      <td>Walker</td>\n",
       "      <td>792</td>\n",
       "      <td>France</td>\n",
       "      <td>Female</td>\n",
       "      <td>28</td>\n",
       "      <td>4</td>\n",
       "      <td>130142.79</td>\n",
       "      <td>1</td>\n",
       "      <td>1</td>\n",
       "      <td>0</td>\n",
       "      <td>38190.78</td>\n",
       "      <td>0</td>\n",
       "    </tr>\n",
       "  </tbody>\n",
       "</table>\n",
       "<p>6383 rows × 14 columns</p>\n",
       "</div>"
      ],
      "text/plain": [
       "      RowNumber  CustomerId      Surname  CreditScore Geography  Gender  Age  \\\n",
       "1             2    15647311         Hill          608     Spain  Female   41   \n",
       "2             3    15619304         Onio          502    France  Female   42   \n",
       "4             5    15737888     Mitchell          850     Spain  Female   43   \n",
       "5             6    15574012          Chu          645     Spain    Male   44   \n",
       "7             8    15656148       Obinna          376   Germany  Female   29   \n",
       "...         ...         ...          ...          ...       ...     ...  ...   \n",
       "9991       9992    15769959  Ajuluchukwu          597    France  Female   53   \n",
       "9993       9994    15569266       Rahman          644    France    Male   28   \n",
       "9996       9997    15569892    Johnstone          516    France    Male   35   \n",
       "9998       9999    15682355    Sabbatini          772   Germany    Male   42   \n",
       "9999      10000    15628319       Walker          792    France  Female   28   \n",
       "\n",
       "      Tenure    Balance  NumOfProducts  HasCrCard  IsActiveMember  \\\n",
       "1          1   83807.86              1          0               1   \n",
       "2          8  159660.80              3          1               0   \n",
       "4          2  125510.82              1          1               1   \n",
       "5          8  113755.78              2          1               0   \n",
       "7          4  115046.74              4          1               0   \n",
       "...      ...        ...            ...        ...             ...   \n",
       "9991       4   88381.21              1          1               0   \n",
       "9993       7  155060.41              1          1               0   \n",
       "9996      10   57369.61              1          1               1   \n",
       "9998       3   75075.31              2          1               0   \n",
       "9999       4  130142.79              1          1               0   \n",
       "\n",
       "      EstimatedSalary  Exited  \n",
       "1           112542.58       0  \n",
       "2           113931.57       1  \n",
       "4            79084.10       0  \n",
       "5           149756.71       1  \n",
       "7           119346.88       1  \n",
       "...               ...     ...  \n",
       "9991         69384.71       1  \n",
       "9993         29179.52       0  \n",
       "9996        101699.77       0  \n",
       "9998         92888.52       1  \n",
       "9999         38190.78       0  \n",
       "\n",
       "[6383 rows x 14 columns]"
      ]
     },
     "metadata": {},
     "output_type": "display_data"
    },
    {
     "data": {
      "image/png": "[encoded data removed]",
      "text/plain": [
       "<Figure size 1000x500 with 1 Axes>"
      ]
     },
     "metadata": {},
     "output_type": "display_data"
    }
   ],
   "source": [
    "import seaborn as sns\n",
    "\n",
    "Customer = churn_data[churn_data['Balance']>2500] # убираем не интересующие данные\n",
    "display(Customer)\n",
    "\n",
    "fig=plt.figure(figsize=(10, 5))\n",
    "boxplot = sns.boxplot(data = Customer,\n",
    "                      x=\"Balance\",\n",
    "                      orient='h',\n",
    "                      width=0.9)\n",
    "boxplot.set_title(\"Распределение пользователей\")\n",
    "boxplot.set_xlabel(\"Баланс\")\n",
    "boxplot.grid()"
   ]
  },
  {
   "cell_type": "code",
   "execution_count": 4,
   "metadata": {},
   "outputs": [],
   "source": [
    "#Распределение показывает что большинство пользователей имеют на счету более 100000 и немногим менее 150000. Среднее же значение баланса составляет порядка 120000."
   ]
  },
  {
   "cell_type": "markdown",
   "metadata": {},
   "source": [
    "Задание 9.3 Посмотрите на распределение баланса клиента в разрезе признака оттока. Как различаются суммы на накопительном счёте ушедших и лояльных клиентов? Подумайте и напишите, с чем это может быть связано, что может не устраивать ушедших клиентов в банке."
   ]
  },
  {
   "cell_type": "code",
   "execution_count": 26,
   "metadata": {},
   "outputs": [
    {
     "data": {
      "image/png": "[encoded data removed]",
      "text/plain": [
       "<Figure size 800x500 with 1 Axes>"
      ]
     },
     "metadata": {},
     "output_type": "display_data"
    }
   ],
   "source": [
    "fig = plt.figure(figsize=(8, 5))\n",
    "boxplot = sns.boxplot(\n",
    "    data=churn_data,\n",
    "    y='Exited',\n",
    "    x='Balance',\n",
    "    orient='h',\n",
    "    width=0.9\n",
    ")\n",
    "boxplot.set_title('График баланса клиента в разрезе признака оттока', fontsize=16);\n",
    "boxplot.set_xlabel('Баланс');\n",
    "boxplot.set_ylabel('Лояльные (0) и ушедшие (1) пользователи');\n",
    "boxplot.grid()"
   ]
  },
  {
   "cell_type": "code",
   "execution_count": 135,
   "metadata": {},
   "outputs": [],
   "source": [
    "#График показывает что средняя сумма на счету ушедших клиентов (1) больше чем на счету лояльных клиентов (0).\n",
    "#Так же минимальный размер средств на счету ушедших клиентов гораздо выше чем у лояльных, поэтому на более\n",
    "#выгодных условиях сбережения этих средств такие клиенты могли бы стать лояльными. Лояльные же клиенты обладая\n",
    "#незначительным размером средств на счету с удовольствием пользуются продуктами банка. "
   ]
  },
  {
   "cell_type": "markdown",
   "metadata": {},
   "source": [
    "Задание 9.4 Посмотрите на распределение возраста в разрезе признака оттока. В какой группе больше потенциальных выбросов? На какую возрастную категорию клиентов стоит обратить внимание банку?"
   ]
  },
  {
   "cell_type": "code",
   "execution_count": 27,
   "metadata": {},
   "outputs": [
    {
     "data": {
      "image/png": "[encoded data removed]",
      "text/plain": [
       "<Figure size 700x500 with 1 Axes>"
      ]
     },
     "metadata": {},
     "output_type": "display_data"
    }
   ],
   "source": [
    "fig = plt.figure(figsize=(7, 5))\n",
    "boxplot = sns.boxplot(\n",
    "    data=churn_data,\n",
    "    y='Exited',\n",
    "    x='Age',\n",
    "    orient='h',\n",
    "    width=0.9\n",
    ")\n",
    "boxplot.set_title('График возраста пользователей в разрезе признака оттока', fontsize=16);\n",
    "boxplot.set_xlabel('Возраст пользователей');\n",
    "boxplot.set_ylabel('Лояльные (0) и ушедшие (1) пользователи');\n",
    "boxplot.grid()"
   ]
  },
  {
   "cell_type": "code",
   "execution_count": 53,
   "metadata": {},
   "outputs": [],
   "source": [
    "#Большинство лояльных клиентов (0) относятся к возрастной группе от 30 до 40 лет, со средним значением порядка 36 лет.\n",
    "#Так же начиная с пятидесяти пяти летнего возраста в этой группе появляется большое количество потенциальных выбросов."
   ]
  },
  {
   "cell_type": "markdown",
   "metadata": {},
   "source": [
    "Задание 9.5 Постройте график, который показывает взаимосвязь кредитного рейтинга клиента и его предполагаемой зарплаты. Добавьте расцветку по признаку оттока клиентов. Какова взаимосвязь между признаками? Если не видите явной взаимосвязи, укажите это."
   ]
  },
  {
   "cell_type": "code",
   "execution_count": 82,
   "metadata": {},
   "outputs": [
    {
     "data": {
      "text/html": [
       "        <script type=\"text/javascript\">\n",
       "        window.PlotlyConfig = {MathJaxConfig: 'local'};\n",
       "        if (window.MathJax && window.MathJax.Hub && window.MathJax.Hub.Config) {window.MathJax.Hub.Config({SVG: {font: \"STIX-Web\"}});}\n",
       "        if (typeof require !== 'undefined') {\n",
       "        require.undef(\"plotly\");\n",
       "        requirejs.config({\n",
       "            paths: {\n",
       "                'plotly': ['https://cdn.plot.ly/plotly-2.18.2.min']\n",
       "            }\n",
       "        });\n",
       "        require(['plotly'], function(Plotly) {\n",
       "            window._Plotly = Plotly;\n",
       "        });\n",
       "        }\n",
       "        </script>\n",
       "        "
      ]
     },
     "metadata": {},
     "output_type": "display_data"
    },
    {
     "data": {
      "text/html": [
       "        <script type=\"text/javascript\">\n",
       "        window.PlotlyConfig = {MathJaxConfig: 'local'};\n",
       "        if (window.MathJax && window.MathJax.Hub && window.MathJax.Hub.Config) {window.MathJax.Hub.Config({SVG: {font: \"STIX-Web\"}});}\n",
       "        if (typeof require !== 'undefined') {\n",
       "        require.undef(\"plotly\");\n",
       "        requirejs.config({\n",
       "            paths: {\n",
       "                'plotly': ['https://cdn.plot.ly/plotly-2.18.2.min']\n",
       "            }\n",
       "        });\n",
       "        require(['plotly'], function(Plotly) {\n",
       "            window._Plotly = Plotly;\n",
       "        });\n",
       "        }\n",
       "        </script>\n",
       "        "
      ]
     },
     "metadata": {},
     "output_type": "display_data"
    },
    {
     "data": {
      "text/html": [
       "<div>                            <div id=\"6599660f-38f2-402e-ba17-bb8d0bfa625b\" class=\"plotly-graph-div\" style=\"height:525px; width:100%;\"></div>            <script type=\"text/javascript\">                require([\"plotly\"], function(Plotly) {                    window.PLOTLYENV=window.PLOTLYENV || {};                                    if (document.getElementById(\"6599660f-38f2-402e-ba17-bb8d0bfa625b\")) {                    Plotly.newPlot(                        \"6599660f-38f2-402e-ba17-bb8d0bfa625b\",                        [{\"hovertemplate\":\"CreditScore=%{x}<br>EstimatedSalary=%{y}<br>Exited=%{marker.color}<extra></extra>\",\"legendgroup\":\"\",\"marker\":{\"color\":[1,0,1,0,0,1,0,1,0,0,0,0,0,0,0,0,1,0,0,0,0,0,1,0,0,0,0,0,0,0,1,0,0,0,0,1,0,0,0,0,0,1,0,1,0,0,1,1,0,0,0,0,0,1,1,0,0,0,1,0,0,0,0,0,0,0,0,0,0,0,1,0,0,0,0,0,0,0,0,0,0,1,0,0,0,0,1,0,1,0,1,0,0,0,0,0,0,0,0,0,0,0,0,0,1,1,0,0,0,1,0,0,0,0,1,0,0,0,1,0,0,0,0,0,0,1,1,1,0,0,0,0,0,0,0,0,0,0,1,1,0,0,0,1,1,0,0,0,0,0,0,1,0,0,0,1,0,0,0,0,0,0,0,0,1,0,1,0,1,0,0,0,1,0,0,0,0,0,0,1,0,0,0,0,1,0,0,0,0,0,1,0,0,0,0,0,0,0,0,0,0,0,1,1,0,0,1,0,1,0,0,0,0,0,0,1,0,0,1,1,0,0,0,1,1,0,0,1,1,0,0,0,0,0,0,1,0,1,1,0,0,0,0,1,0,1,0,0,0,1,0,0,0,0,0,0,0,0,0,0,0,0,0,0,0,0,0,0,1,0,0,1,0,0,0,0,1,0,0,1,0,0,1,0,0,0,0,0,0,0,0,0,0,1,0,0,0,1,0,0,0,0,0,0,0,0,1,0,1,0,0,0,0,0,0,0,1,0,0,0,0,0,1,0,0,0,0,1,0,0,0,0,0,1,0,1,0,0,1,1,1,0,0,0,0,0,0,0,0,0,0,0,0,0,0,0,0,1,0,0,0,1,0,0,0,0,0,0,0,0,0,0,0,0,0,0,1,0,0,1,0,0,0,0,0,0,0,0,0,0,0,0,1,1,0,0,0,0,0,1,0,0,0,0,0,0,1,0,0,0,0,0,0,1,0,0,1,0,0,0,1,0,1,0,0,0,0,0,0,1,1,0,0,1,0,0,0,0,0,0,0,0,0,0,1,0,0,0,1,0,0,0,0,0,0,0,0,0,1,0,0,0,0,1,0,0,0,1,0,0,0,1,0,0,0,1,0,0,0,0,0,0,0,0,1,0,0,1,0,0,0,0,0,1,1,0,0,0,0,1,0,0,1,0,0,0,0,0,0,0,0,0,0,0,1,0,1,0,1,0,1,0,0,0,0,0,0,0,1,0,0,0,0,0,0,1,0,0,1,1,0,0,0,1,1,0,0,0,0,0,0,1,0,0,0,1,0,1,0,0,0,0,0,1,0,0,1,0,0,0,0,1,0,1,0,0,0,0,0,0,0,1,0,0,1,1,1,0,0,1,1,0,0,0,0,0,0,0,1,0,1,0,0,1,0,0,0,0,0,0,0,0,0,0,0,1,0,1,0,0,0,0,0,0,0,0,0,0,0,0,1,1,0,0,1,0,0,0,0,0,1,0,0,1,1,1,0,0,0,0,0,0,0,1,0,0,0,0,0,0,0,0,0,0,0,0,0,0,0,0,0,0,0,0,0,0,0,1,0,0,0,0,0,0,0,1,0,1,1,0,0,0,0,0,0,0,1,1,0,0,0,0,0,0,0,1,0,0,0,0,0,0,0,0,1,0,0,0,0,0,1,1,0,0,0,0,0,0,0,1,0,0,0,1,1,0,0,0,0,0,0,0,0,1,0,0,0,0,0,0,0,0,0,0,0,0,0,0,0,0,0,1,1,0,1,0,0,1,0,1,1,0,0,0,1,0,1,1,0,0,0,0,0,0,1,0,0,0,0,0,0,0,0,0,0,0,0,0,0,0,0,0,0,0,0,1,0,0,0,0,0,0,0,1,0,0,0,1,0,0,0,0,0,1,0,0,0,0,0,0,0,0,0,0,0,0,0,0,1,0,1,0,0,1,0,0,0,0,0,0,0,1,0,0,0,0,1,0,0,1,1,1,0,0,0,0,0,1,1,0,0,1,0,0,0,0,0,0,0,0,1,1,0,1,0,0,0,0,0,0,0,0,0,1,1,0,0,0,1,0,1,0,0,0,1,1,0,1,0,0,0,0,0,0,0,0,1,0,0,0,0,1,1,0,0,0,0,0,0,0,0,0,0,1,0,0,1,0,0,0,0,0,1,0,0,0,1,1,0,1,0,0,0,0,1,0,0,0,0,0,0,0,0,1,1,0,0,0,0,0,0,0,0,0,0,0,1,0,0,0,0,0,0,1,0,0,0,1,0,1,0,0,0,0,0,0,0,0,0,0,0,0,0,1,0,1,0,0,1,0,1,0,0,0,0,1,0,0,1,0,1,0,0,0,0,0,0,0,0,0,0,0,0,0,0,0,0,0,0,0,0,0,1,0,0,0,1,1,0,1,0,0,0,0,0,0,0,1,0,0,0,0,1,0,0,1,1,0,1,1,1,0,0,0,0,0,0,0,0,0,0,0,1,0,0,1,1,0,0,0,0,0,1,0,0,1,1,0,0,0,0,0,0,0,0,0,0,1,0,0,1,1,0,1,1,0,0,1,0,0,0,0,1,1,1,0,0,0,0,1,0,0,0,0,0,0,0,0,0,0,1,0,0,0,1,0,0,0,0,0,0,0,0,1,0,0,0,0,1,0,1,1,0,0,0,0,0,0,0,0,0,1,0,0,1,0,0,0,1,0,0,0,1,0,0,0,0,1,0,1,0,0,1,1,0,0,0,0,0,0,0,1,0,0,0,0,0,0,0,0,1,0,1,0,1,1,0,0,1,1,0,0,0,0,0,0,0,0,0,0,0,0,1,0,0,0,0,0,0,0,0,0,0,0,0,1,0,0,0,0,0,1,0,0,1,0,0,0,0,0,1,0,0,0,0,1,0,0,0,0,0,0,0,1,0,0,1,0,0,0,0,1,0,0,0,0,0,0,0,1,0,0,0,0,0,0,0,0,0,0,0,0,0,1,0,1,1,0,0,0,0,0,1,0,1,0,0,1,1,0,0,0,0,1,0,0,0,0,1,1,0,0,0,0,0,1,0,0,0,0,1,1,0,0,1,0,0,0,0,0,0,1,1,0,1,0,0,0,0,0,0,0,0,0,0,1,0,1,0,1,0,0,0,1,0,0,1,0,0,0,0,1,0,0,1,0,0,0,1,1,0,1,0,0,0,0,1,1,1,0,0,0,0,0,1,1,0,0,0,0,1,0,0,0,0,0,0,0,0,0,0,0,0,0,1,0,0,1,0,0,0,0,0,0,0,0,0,0,1,0,1,0,0,1,0,0,0,1,1,0,1,0,1,0,1,0,0,0,0,1,0,0,1,0,0,0,0,0,1,1,0,0,0,0,0,0,0,0,1,0,0,0,0,0,0,1,0,1,1,0,0,1,1,0,0,0,0,0,0,0,1,0,0,1,0,1,0,0,0,0,0,0,0,0,0,0,0,0,0,1,1,0,0,0,0,0,0,0,0,0,0,0,0,0,1,0,0,0,0,0,0,0,0,0,0,0,0,0,0,1,0,0,0,0,0,1,0,1,0,0,0,0,1,0,0,0,0,1,0,1,1,0,1,0,0,0,0,0,0,0,0,0,0,1,0,0,0,0,0,0,0,0,0,0,0,0,0,0,1,0,0,0,1,0,0,0,0,0,0,0,0,1,1,0,0,0,0,0,0,0,0,1,0,0,0,0,1,0,0,1,1,1,0,0,0,0,0,0,0,0,0,0,0,0,0,0,1,0,0,0,0,1,0,1,0,0,0,1,0,0,0,0,0,1,0,0,1,0,0,0,1,0,0,0,1,0,1,0,0,0,0,0,0,0,0,1,0,0,0,1,0,0,0,0,0,0,0,0,0,0,0,1,0,0,0,0,0,0,0,0,0,0,0,0,0,0,0,1,0,0,0,0,0,0,0,0,0,0,0,0,0,0,0,0,0,0,0,0,0,0,0,0,1,0,0,0,1,0,1,1,0,0,0,0,0,1,0,1,0,0,1,1,0,0,0,0,0,0,0,0,1,0,0,0,0,0,0,0,0,0,0,0,1,0,0,0,1,1,0,0,0,0,0,0,0,0,0,1,1,0,0,0,0,0,0,0,0,1,0,0,0,0,0,0,0,0,0,0,0,0,0,0,0,1,0,1,0,1,0,1,0,0,0,1,0,0,0,1,1,0,0,0,0,0,0,1,0,1,0,0,0,0,0,0,1,1,1,0,0,0,0,0,1,0,0,0,0,0,0,0,0,0,0,0,0,0,1,1,0,0,0,0,0,0,0,0,0,0,0,0,0,0,0,0,0,0,0,0,1,0,0,0,0,0,0,0,0,0,0,0,0,0,1,0,0,0,1,1,0,1,0,1,1,1,0,0,0,0,1,0,0,1,0,0,0,0,0,0,0,0,1,0,0,0,0,1,0,0,0,0,1,1,0,0,0,1,1,1,0,0,0,0,1,0,1,1,0,0,0,0,0,0,0,0,0,0,0,1,0,0,0,0,0,0,0,1,0,1,1,0,0,0,0,1,1,0,1,0,0,0,0,0,0,0,0,1,0,1,0,1,0,0,0,0,0,0,0,0,0,0,0,0,0,0,1,0,0,1,0,0,0,0,1,0,0,0,0,1,1,0,0,0,0,0,0,0,0,0,0,1,1,0,0,1,0,0,1,0,0,0,0,0,0,1,0,0,0,0,1,0,1,0,0,0,1,0,1,0,1,0,1,0,0,0,1,0,0,1,0,0,0,0,1,0,0,0,0,0,1,0,0,0,0,0,0,0,1,0,0,0,1,0,0,0,0,1,0,0,1,0,1,0,0,0,1,0,0,0,0,0,0,0,1,0,0,1,0,0,0,1,0,1,0,0,0,0,0,0,0,1,0,1,1,1,1,0,0,0,0,0,0,0,0,0,0,0,0,0,1,0,0,0,0,0,0,0,0,0,0,0,0,1,0,0,0,0,1,0,0,0,1,1,0,0,0,1,1,0,0,0,0,0,0,0,0,0,0,0,1,0,0,0,0,1,0,0,0,0,0,0,0,1,0,0,0,0,0,0,0,0,0,0,0,0,1,1,1,1,0,1,0,1,0,1,0,1,0,0,0,0,0,0,0,0,0,0,0,0,0,0,0,0,1,0,0,0,1,0,1,0,1,0,1,0,1,0,1,0,0,0,0,0,0,0,0,1,0,0,0,1,0,0,0,1,0,1,1,0,0,0,0,0,0,0,0,0,0,0,0,1,0,0,1,0,0,0,1,0,0,0,0,0,0,0,0,0,0,0,0,0,0,0,0,0,0,1,1,0,0,0,1,0,0,0,1,0,1,1,0,1,1,1,1,0,0,1,0,0,0,0,0,0,1,0,0,0,0,1,0,1,0,0,1,0,0,0,0,0,0,0,0,1,0,0,0,0,0,0,1,0,0,0,0,1,0,1,0,0,0,0,0,0,0,0,1,0,0,1,0,0,0,0,0,0,1,0,0,0,1,0,0,0,0,0,0,0,0,1,0,0,1,1,1,0,1,0,0,0,1,1,0,0,0,0,0,0,0,0,0,1,0,0,0,0,1,1,0,0,0,1,1,0,1,0,0,0,0,0,0,1,0,0,0,1,1,0,0,1,0,0,0,0,0,0,0,0,0,0,0,0,0,0,1,0,0,1,0,0,0,1,0,0,0,0,0,0,0,0,0,1,0,0,0,0,0,1,0,0,1,0,1,0,0,0,1,0,0,0,0,0,1,0,0,0,0,1,1,0,0,1,1,1,1,0,0,0,1,0,1,1,0,0,0,1,0,0,0,0,0,0,1,0,0,0,1,0,0,0,1,0,0,0,0,0,1,1,0,0,0,1,1,0,0,0,0,0,0,0,0,0,0,0,0,0,1,0,0,0,0,0,1,0,0,0,0,0,0,0,0,0,0,0,0,0,1,0,0,1,0,1,0,0,0,0,0,0,0,0,1,1,0,0,0,0,1,0,0,0,0,1,0,0,0,0,0,0,0,1,0,0,0,0,0,0,1,0,0,0,1,1,0,1,1,0,0,1,0,0,1,0,1,0,0,0,0,0,1,0,0,0,0,0,0,0,0,0,0,0,0,1,0,0,0,0,0,1,0,0,1,0,0,0,0,1,0,0,0,0,0,0,0,0,0,0,0,0,0,0,0,1,1,1,0,0,0,0,0,0,0,0,0,0,1,0,0,0,0,0,1,0,0,0,0,1,0,0,0,0,1,0,1,0,1,0,0,0,0,1,0,0,0,0,0,0,0,0,0,0,0,1,0,0,0,0,0,1,0,1,0,0,0,1,0,0,0,1,1,1,0,1,0,0,0,0,1,0,0,0,0,0,0,0,1,0,0,1,1,0,0,0,0,0,0,1,0,0,0,0,0,0,0,0,0,0,0,0,0,0,0,0,0,0,0,0,0,0,0,0,0,0,0,0,1,0,0,1,0,1,0,0,0,1,0,1,0,0,1,0,0,0,0,0,0,0,0,0,0,0,1,0,0,0,1,0,0,0,0,0,0,1,1,0,0,0,0,0,0,0,0,0,0,0,0,0,0,0,0,0,1,0,1,0,0,0,0,0,0,0,0,0,0,0,1,0,0,1,1,1,1,0,0,0,0,0,0,0,0,0,1,0,0,0,1,0,1,0,0,0,0,1,0,0,0,0,0,1,0,0,0,0,0,1,0,0,0,0,0,1,0,0,0,0,1,0,0,0,1,1,0,0,1,0,0,1,0,0,0,1,0,0,0,0,0,0,0,0,0,1,1,1,0,0,0,0,0,0,0,0,0,0,0,0,0,0,0,0,1,1,0,0,1,0,0,0,0,0,0,0,0,0,0,0,0,0,0,0,0,0,0,0,0,0,1,0,0,1,0,0,0,0,0,0,0,0,0,0,1,0,0,0,1,0,0,0,0,0,0,0,0,0,0,0,0,0,0,0,0,0,0,1,0,0,0,0,1,0,0,0,0,0,0,0,1,1,0,1,0,0,0,0,1,0,0,0,0,0,1,0,0,0,0,0,0,0,0,1,0,1,0,1,1,0,1,0,1,0,0,0,0,1,0,0,0,0,1,0,0,1,0,0,1,0,0,0,0,0,0,1,1,0,0,1,0,0,0,1,1,0,1,0,0,0,1,0,0,0,1,0,0,0,0,0,0,1,0,0,1,1,1,0,1,1,0,0,0,1,0,0,0,0,1,0,0,0,1,1,0,0,0,0,0,0,0,1,0,0,0,0,0,1,0,0,0,0,1,1,1,0,0,0,0,0,1,0,0,0,0,0,0,0,0,0,0,0,1,0,0,0,0,1,0,0,0,0,1,0,0,0,1,0,1,0,0,0,0,1,1,0,0,0,1,1,0,0,1,0,0,0,0,0,1,0,1,1,0,0,0,0,1,0,0,0,1,1,1,0,0,0,0,0,1,0,0,0,0,1,0,0,0,0,0,0,0,0,1,0,0,0,0,0,1,0,0,1,0,0,0,0,0,0,0,0,0,0,1,0,1,1,0,0,0,0,0,0,0,0,1,0,1,0,0,0,0,0,0,0,0,1,0,1,0,0,0,0,0,0,0,0,0,1,0,0,0,0,0,0,0,0,1,0,0,0,0,0,0,1,0,1,0,0,1,1,1,0,0,1,1,1,0,0,0,0,0,0,0,1,0,0,0,1,0,0,0,0,0,0,0,0,0,1,0,0,0,0,0,0,0,0,0,1,0,0,0,0,0,1,0,0,0,0,0,0,0,0,0,0,0,0,0,1,0,0,0,0,0,0,0,0,0,0,1,0,0,1,0,0,0,1,0,0,0,0,1,0,0,0,1,1,0,0,0,0,0,1,0,0,0,0,0,0,0,0,0,1,0,0,1,0,0,0,1,0,0,0,0,1,0,0,0,0,1,0,0,0,0,0,0,1,0,0,0,0,1,0,0,0,0,0,0,0,0,0,0,0,0,0,0,0,0,1,1,0,0,0,0,0,0,0,0,0,1,1,1,1,0,0,0,0,1,0,0,0,0,1,0,0,0,1,0,1,0,0,0,1,0,1,1,0,0,1,1,0,1,0,1,0,0,0,0,1,1,0,0,0,0,0,0,0,1,0,0,0,0,1,0,0,0,0,0,0,0,0,1,0,0,0,0,0,0,0,1,1,0,1,0,0,0,0,0,0,1,0,0,0,0,1,1,1,1,0,0,0,0,0,0,0,1,0,0,0,0,0,0,0,0,0,0,1,0,1,0,0,0,0,0,1,1,0,1,0,0,0,0,0,0,0,1,0,1,1,0,0,0,1,0,0,0,0,1,0,0,0,0,0,0,0,0,0,0,0,0,1,0,1,0,0,0,0,0,0,0,0,0,1,1,0,0,0,0,0,0,0,0,1,0,0,0,0,0,1,0,1,0,0,0,1,0,0,0,1,0,0,0,0,1,0,1,1,0,0,0,1,1,0,0,0,0,0,0,0,0,1,0,1,1,0,1,0,0,0,0,0,0,0,0,0,0,0,1,0,0,0,0,1,0,0,0,0,0,0,0,0,0,0,1,0,0,0,0,0,1,0,1,1,0,0,1,1,0,0,1,0,0,1,0,0,0,1,0,0,0,0,0,1,0,0,0,0,0,0,0,0,0,0,0,0,0,1,0,1,0,0,0,0,0,0,0,1,0,0,0,0,0,0,0,0,1,0,1,1,1,1,0,1,0,0,0,0,0,0,0,0,0,0,0,0,0,0,0,0,0,1,0,0,0,0,0,0,0,0,0,0,0,0,0,0,0,1,0,1,0,0,0,0,0,1,0,0,0,0,0,0,0,0,0,0,0,0,1,0,0,0,1,0,0,0,0,0,0,0,1,0,0,1,0,0,0,1,0,0,0,1,0,0,0,0,0,0,0,0,1,0,0,0,0,1,0,0,1,0,1,1,0,0,0,0,0,0,0,0,0,1,0,0,0,0,0,1,0,1,0,0,0,0,1,0,0,0,0,1,0,0,0,0,0,1,0,0,0,1,0,0,1,1,0,0,0,0,1,0,0,1,0,0,0,0,0,0,1,0,0,1,0,0,0,1,0,0,0,0,0,0,0,1,1,0,0,1,0,0,0,1,0,0,0,0,1,0,0,0,0,0,0,1,0,0,1,1,1,0,0,0,0,0,0,0,0,0,0,0,0,0,0,0,1,0,0,0,0,0,0,0,1,0,1,0,0,0,0,0,0,0,0,0,0,0,1,0,0,0,1,0,1,0,0,0,0,0,0,0,0,0,0,1,0,0,0,0,0,0,0,0,0,0,1,0,0,1,0,0,0,0,0,0,1,0,0,0,0,0,0,0,0,0,1,0,0,1,0,1,0,0,0,0,0,0,1,0,0,0,0,0,1,0,0,0,0,0,0,0,0,1,0,1,0,0,0,0,0,0,0,0,0,0,0,0,1,0,0,0,0,0,0,0,0,1,0,0,0,0,0,0,1,0,1,0,0,0,0,0,0,0,0,0,0,1,1,1,1,0,0,0,0,0,0,0,1,0,0,1,0,1,0,0,0,1,0,1,1,0,1,0,1,1,1,0,0,0,0,0,0,0,0,0,0,0,0,0,0,0,0,0,1,1,0,0,0,0,0,0,0,0,0,0,0,0,0,0,0,0,1,0,0,0,1,0,1,0,1,0,0,0,0,0,1,0,0,0,0,0,1,0,0,0,0,0,0,1,0,0,0,0,1,0,0,1,0,1,0,0,0,0,1,1,0,1,0,0,0,1,0,1,1,0,0,0,1,0,0,0,0,0,0,1,0,0,0,0,0,0,0,0,1,0,0,1,1,0,0,0,0,0,1,1,0,1,1,1,0,1,0,0,0,0,0,0,0,0,0,0,0,1,0,0,0,0,0,1,0,0,0,1,0,1,0,0,0,1,0,0,1,0,0,0,0,0,0,0,0,0,1,0,0,0,0,0,0,0,0,1,1,0,1,1,0,0,0,0,0,1,0,1,0,0,0,0,0,0,0,0,0,0,0,0,0,0,0,0,0,1,0,0,0,0,0,1,0,1,0,0,0,0,0,0,0,0,0,1,0,0,0,0,1,0,1,0,0,0,0,0,0,0,1,1,0,0,0,0,0,1,1,1,0,0,0,0,0,0,0,0,0,0,0,1,0,0,0,0,0,0,0,0,0,0,0,0,0,1,0,0,0,0,1,0,0,0,0,0,0,0,0,1,1,0,0,0,1,0,0,0,1,0,0,0,0,0,0,0,0,1,0,0,0,1,0,1,0,0,0,0,0,0,0,1,0,0,0,1,1,1,0,1,0,0,0,1,0,0,0,1,0,0,0,1,0,0,0,0,0,0,0,0,0,0,0,0,0,0,0,1,0,0,0,0,0,0,0,0,0,0,0,0,1,0,0,1,0,1,0,0,0,0,0,0,0,0,1,1,1,0,0,0,1,0,0,0,0,0,0,1,0,0,0,0,1,0,0,0,0,1,0,0,0,0,1,0,0,0,0,0,1,0,0,1,0,0,0,0,1,0,0,0,0,1,1,0,0,0,0,0,0,0,0,0,0,0,0,1,0,1,0,1,0,0,0,0,0,1,0,0,0,0,0,0,0,0,1,0,0,1,0,0,0,0,0,0,0,1,0,1,0,0,0,0,0,0,0,0,0,0,0,0,1,0,0,0,0,0,0,1,0,0,0,0,0,0,0,0,0,1,1,0,1,0,1,0,0,0,1,0,0,1,0,0,1,1,0,0,1,0,0,1,0,0,1,0,1,0,0,0,0,0,0,0,0,0,0,0,1,0,0,0,0,0,0,0,0,0,0,1,0,1,0,0,1,0,0,0,0,1,0,0,0,0,0,0,0,0,0,1,0,0,0,0,0,0,0,0,0,0,0,0,0,0,0,0,0,0,0,0,0,0,1,0,0,0,0,1,0,0,0,0,0,0,1,0,0,0,0,1,0,1,1,0,0,0,0,0,0,0,1,0,0,0,0,0,0,0,0,0,0,1,0,0,1,0,0,0,0,1,1,0,0,0,0,0,0,0,0,1,0,0,0,0,1,0,0,0,0,1,0,0,1,0,0,0,0,0,0,1,0,1,0,0,0,0,0,0,1,0,0,1,1,1,0,0,0,0,1,0,0,1,1,0,0,0,0,1,0,0,0,0,0,0,0,0,1,0,0,1,0,1,0,0,0,0,1,0,0,0,0,0,0,0,0,0,0,0,0,0,0,0,0,0,1,0,0,1,0,0,0,0,0,0,1,0,0,0,0,0,1,1,0,0,0,0,0,0,1,0,0,0,1,0,1,0,0,1,0,0,0,0,1,0,1,0,0,1,0,0,1,1,0,1,0,0,0,0,1,1,1,0,0,0,1,1,0,0,1,0,0,1,0,1,0,0,0,0,0,0,0,0,0,0,0,0,0,0,0,0,0,0,0,0,0,0,0,1,0,0,0,0,0,0,0,0,0,1,0,0,0,0,0,0,0,0,0,0,0,0,0,0,1,0,0,1,0,1,1,0,0,0,1,1,0,0,0,0,0,1,0,0,0,1,0,1,0,0,0,0,0,0,0,0,1,1,0,0,0,0,0,0,0,0,0,1,0,1,0,0,0,0,0,0,1,0,0,1,0,1,0,0,0,1,0,0,0,0,0,0,0,0,0,0,0,0,0,0,0,0,0,0,0,0,0,0,0,1,0,0,0,0,0,0,0,0,0,1,0,0,0,0,1,0,0,1,0,1,0,0,0,0,0,0,0,0,0,0,0,0,0,0,1,0,0,0,0,0,0,0,0,0,1,0,1,1,0,0,0,0,1,0,0,0,0,0,0,0,0,0,0,1,1,1,1,1,0,0,0,0,0,0,1,1,0,0,0,0,0,1,0,0,0,0,0,1,1,0,0,0,0,0,0,0,1,0,0,0,0,1,0,1,1,0,0,0,0,0,1,0,1,0,0,0,0,1,0,0,0,0,1,0,0,0,0,0,1,1,0,0,0,0,0,0,0,0,1,1,0,0,1,0,0,0,1,0,0,0,0,0,0,0,0,0,0,1,1,0,0,0,0,1,0,0,0,0,1,1,1,1,0,0,0,0,0,0,0,1,1,0,1,0,0,1,0,0,1,0,0,1,0,0,0,1,0,0,0,0,1,1,1,1,0,0,0,0,0,0,0,0,0,0,0,0,0,1,1,0,1,0,1,0,1,0,0,0,0,0,1,0,0,0,0,0,0,0,0,0,0,0,0,0,1,0,0,0,0,0,0,1,0,0,0,0,1,0,0,0,0,0,0,0,0,0,0,0,0,0,0,0,1,0,1,0,0,0,0,0,1,0,0,0,1,0,0,1,0,0,0,0,0,0,0,0,0,0,0,0,0,0,0,1,0,0,0,0,1,0,0,0,0,1,0,0,1,0,0,0,0,0,0,1,0,0,1,0,0,0,0,0,0,0,0,0,0,0,0,1,0,0,1,0,0,0,1,0,0,0,0,1,0,0,0,0,0,0,0,0,0,0,0,0,0,0,0,1,0,0,0,0,1,0,1,0,0,0,0,1,0,0,0,0,0,0,0,0,0,0,1,1,0,1,0,0,0,0,0,0,0,0,1,1,0,0,0,0,1,0,0,0,0,0,0,0,0,0,0,0,0,1,0,0,0,1,0,0,1,0,0,1,0,0,0,0,0,0,1,0,0,0,0,0,0,0,0,0,0,1,0,0,0,0,0,0,0,0,0,0,0,0,0,0,1,0,0,0,0,0,0,0,1,0,0,1,0,1,1,0,0,0,0,0,0,0,0,1,0,0,1,1,0,0,0,0,1,0,1,0,1,0,0,0,0,0,0,0,0,0,0,0,1,0,0,1,0,1,1,0,0,0,0,0,0,0,0,0,0,0,0,0,1,1,0,0,1,0,0,0,0,0,0,0,1,0,0,0,0,0,0,0,0,1,0,0,0,0,0,1,0,0,0,1,0,1,0,0,0,0,0,0,0,0,1,0,0,0,0,0,0,0,1,0,0,0,0,0,0,0,1,0,0,0,0,0,0,0,0,0,0,0,0,0,0,0,0,0,1,0,0,1,0,0,0,0,0,0,0,0,1,1,0,1,0,0,0,0,0,0,0,1,0,1,0,0,1,0,0,0,1,0,0,0,0,0,0,0,0,0,0,0,0,1,0,1,1,1,0,0,0,0,0,1,0,1,1,0,0,0,1,0,0,1,0,0,0,0,0,1,0,0,0,0,0,1,0,1,0,1,1,0,0,0,0,0,0,0,1,0,0,0,0,1,0,1,0,0,0,0,0,0,0,0,1,0,0,0,0,1,1,0,0,0,0,0,0,0,0,0,0,0,0,0,0,1,1,0,0,0,1,0,0,0,0,0,0,1,0,0,0,0,0,0,1,1,0,0,1,1,0,0,0,1,0,1,0,0,1,0,0,0,1,0,1,0,0,0,0,0,0,1,1,0,1,0,0,1,0,0,0,0,1,0,1,0,0,0,0,0,0,0,0,0,1,0,0,0,1,0,0,0,0,0,0,0,0,0,1,0,0,1,0,0,0,0,0,0,0,0,0,0,1,1,0,0,0,0,0,0,0,0,0,1,0,0,1,0,0,0,0,0,0,0,1,1,0,0,0,0,1,1,0,0,0,0,0,0,0,0,0,0,0,0,0,0,0,0,0,0,0,0,0,0,0,0,1,0,0,0,1,0,1,1,0,0,0,1,0,0,0,0,0,0,0,0,0,0,0,0,0,0,1,1,0,1,0,1,0,1,0,0,0,0,0,0,0,0,0,1,0,1,0,1,0,0,1,0,0,0,0,1,0,0,0,0,1,0,0,0,0,0,0,0,1,0,0,0,0,0,0,0,0,1,0,0,0,0,0,1,1,0,0,0,0,0,0,0,0,0,0,0,1,0,0,0,0,0,0,0,0,1,0,0,0,0,0,1,0,0,0,0,0,0,1,0,0,0,0,1,0,0,0,0,0,0,1,0,1,0,1,0,0,0,0,0,0,0,0,1,0,0,0,0,0,0,0,1,0,0,0,1,0,0,0,0,0,0,0,0,0,0,0,1,0,0,0,0,1,0,0,0,0,1,1,0,0,0,0,0,0,0,0,0,0,0,0,0,1,0,0,0,0,0,0,1,0,1,1,0,0,0,0,0,1,0,0,0,0,1,0,0,0,1,1,1,1,0,1,0,0,1,0,0,0,0,1,0,0,0,0,1,0,0,0,0,0,1,0,0,1,0,0,0,0,1,0,0,0,0,1,0,0,0,0,0,1,1,0,0,1,0,0,0,0,0,1,1,0,0,0,0,0,0,0,0,0,0,0,0,0,0,0,0,0,1,0,0,1,0,0,0,0,0,0,0,1,0,0,0,0,1,0,0,0,0,0,1,0,0,1,0,0,0,0,0,0,1,1,1,1,0,1,0,0,0,0,0,1,0,1,0,0,0,0,0,0,0,0,0,0,1,0,0,0,1,1,0,0,1,0,0,0,0,1,0,0,0,0,0,0,0,0,0,0,0,1,0,0,0,1,0,0,0,0,0,0,0,0,0,0,1,1,0,0,0,0,0,0,0,0,1,0,0,0,0,0,0,0,0,0,0,0,0,0,0,1,0,1,1,0,0,0,0,1,0,0,1,0,0,0,1,0,0,0,0,0,0,0,0,0,0,0,0,0,0,0,1,1,1,0,0,0,0,0,0,0,1,1,0,1,0,1,1,0,0,0,0,0,0,1,1,0,0,0,0,1,0,0,0,0,0,0,0,0,0,0,0,0,0,1,1,0,0,0,0,0,0,0,0,0,0,1,0,0,1,0,0,1,0,0,0,0,1,1,0,1,0,0,1,0,1,0,1,0,0,0,1,0,0,0,0,0,1,0,0,0,0,0,0,0,0,0,0,0,0,1,0,1,0,0,1,1,1,0,0,0,0,0,0,0,0,0,0,0,0,0,0,0,0,0,0,0,1,0,0,0,0,0,1,0,0,0,0,0,1,0,0,0,0,0,0,0,0,0,0,0,0,0,0,0,0,0,0,0,0,0,0,0,0,1,0,0,0,0,0,0,0,0,0,0,1,0,0,0,0,0,0,0,0,0,0,0,0,0,0,1,0,0,0,0,0,0,0,0,0,0,0,0,0,0,0,0,0,1,1,1,0,0,1,0,1,0,0,0,1,0,0,0,1,0,0,0,0,0,0,1,0,1,1,0,1,0,0,0,0,1,1,1,0,0,0,0,0,0,1,0,0,0,0,0,0,1,1,0,0,0,0,1,0,0,0,0,0,0,0,0,0,1,0,0,0,0,0,0,0,1,1,0,0,0,1,0,0,1,0,0,0,0,0,0,0,0,0,0,1,0,0,0,0,0,1,0,1,0,1,0,0,0,0,0,0,0,0,1,0,0,0,1,1,0,0,0,1,0,1,0,0,0,1,0,0,0,1,0,0,0,0,0,0,0,0,0,0,0,0,0,0,0,0,0,0,0,0,1,0,0,1,0,1,0,0,1,0,0,0,1,0,0,0,0,1,0,1,0,0,0,1,0,0,1,0,0,0,0,0,0,0,0,0,0,0,1,1,1,0,0,1,0,1,0,1,0,0,0,0,0,0,0,0,0,0,0,1,1,1,0,0,0,0,0,0,0,0,0,0,0,0,0,0,1,1,0,0,0,0,0,0,0,0,0,0,0,0,0,0,0,0,0,0,1,0,0,1,0,0,0,0,0,0,0,0,0,0,0,0,1,0,0,0,0,0,0,0,1,0,0,0,0,0,0,0,0,1,0,0,1,0,0,0,0,0,0,1,1,0,0,0,0,0,1,1,0,0,0,1,0,0,0,0,1,0,0,0,0,0,0,0,0,1,1,0,0,0,1,0,0,1,0,0,0,1,0,1,0,0,1,0,0,1,0,0,0,0,0,0,0,0,0,0,0,1,0,0,0,1,0,0,0,0,1,0,0,0,0,0,0,0,0,0,1,0,0,0,0,0,0,0,0,0,0,0,1,0,0,0,1,0,0,0,1,0,0,1,0,1,0,1,1,0,1,0,0,0,0,1,0,0,0,0,0,0,0,0,0,0,0,0,1,1,0,0,0,0,0,0,0,0,0,0,0,0,0,0,1,0,0,0,1,0,1,0,0,0,1,0,1,0,0,0,0,0,0,0,1,0,0,1,0,0,1,1,0,0,0,0,0,1,0,0,0,0,0,0,0,0,0,0,0,0,0,0,0,1,0,0,0,0,0,0,0,0,0,0,0,0,0,0,0,0,0,0,0,1,0,0,0,0,0,0,0,1,0,0,1,1,0,0,1,0,0,1,0,0,0,1,0,0,0,1,1,0,0,0,0,0,0,0,0,0,1,1,0,0,1,0,0,0,0,1,1,0,0,0,0,1,0,1,0,1,1,0,0,0,0,0,0,0,1,0,0,1,0,0,0,0,0,0,0,0,0,0,0,1,1,0,0,0,0,0,0,0,0,1,0,0,0,0,0,0,0,0,0,0,0,0,0,0,0,0,1,0,1,0,0,0,1,0,1,1,0,0,0,0,1,0,1,0,0,1,1,0,0,0,0,0,0,0,0,1,1,1,0,1,0,0,0,0,0,0,0,0,0,0,0,1,0,0,0,0,1,0,0,1,0,0,0,1,0,0,0,0,0,0,0,0,1,0,0,0,0,0,0,1,0,1,0,0,0,0,0,0,0,0,0,0,0,1,1,1,1,0,1,0,0,1,0,0,0,0,0,0,0,0,0,0,0,0,0,0,0,0,0,0,0,0,1,1,1,0,0,0,0,0,0,1,0,1,1,0,0,0,0,0,0,0,0,1,0,0,1,0,0,0,0,1,0,1,0,1,0,0,0,0,0,0,1,0,0,0,0,0,0,0,0,0,1,0,0,1,0,0,0,0,0,1,0,0,0,1,0,0,0,0,1,0,0,0,0,0,0,1,0,0,1,0,1,0,1,1,0,0,0,0,0,0,1,0,0,1,0,0,0,0,1,0,0,0,0,0,0,0,0,0,0,1,0,0,1,0,0,0,0,0,0,0,0,0,0,0,0,1,0,0,0,0,1,0,1,0,1,0,0,0,0,0,1,1,1,1,0,0,1,1,0,0,0,0,0,0,0,0,1,0,0,0,0,1,0,0,0,0,1,0,0,0,0,0,0,0,1,1,0,0,0,1,1,0,0,0,0,0,0,0,0,0,0,0,0,0,0,0,0,0,0,0,0,0,0,0,0,1,0,0,0,1,0,0,1,0,0,0,0,0,0,0,0,0,0,0,0,0,0,0,0,1,0,0,0,0,1,0,0,1,1,0,0,0,0,0,0,0,0,1,0,0,0,0,0,0,1,0,0,1,0,0,0,0,0,1,1,0,0,0,0,0,0,1,1,0,1,0,0,1,0,0,0,1,0,0,0,0,0,1,0,0,0,1,0,0,1,0,0,0,0,0,1,0,0,0,0,1,0,1,0,1,0,1,0,1,0,0,1,0,0,0,0,0,0,0,1,1,0,0,0,0,1,0,0,0,0,1,1,0,0,0,1,0,0,1,0,0,0,0,1,1,0,0,0,0,0,0,0,0,0,1,0,0,0,0,0,0,0,0,0,0,0,0,0,0,0,0,1,1,0,0,0,0,0,0,1,1,0,0,0,1,0,0,0,0,0,0,0,0,1,0,0,1,1,0,0,0,0,0,1,0,1,0,0,1,0,0,0,1,0,1,0,0,0,0,0,0,0,1,0,1,0,0,0,0,0,0,0,0,0,0,0,0,0,0,0,1,0,0,0,0,0,0,1,1,1,0,0,0,1,0,1,0,0,0,0,0,0,0,0,0,1,0,0,0,0,0,1,0,0,0,0,0,0,0,0,1,0,0,0,0,0,1,0,0,0,0,0,0,0,0,0,0,1,1,0,0,0,0,0,0,0,0,0,1,0,0,0,0,1,1,1,0,0,0,0,1,0,0,0,0,0,0,0,0,0,0,0,0,1,0,0,1,0,0,0,1,0,0,0,0,1,0,0,0,0,0,0,0,0,0,0,0,0,0,0,0,0,0,0,0,1,0,0,0,1,0,0,0,0,1,0,0,0,1,0,0,1,0,0,0,0,0,0,0,1,0,0,0,1,0,0,0,0,1,0,0,1,0,0,0,0,0,0,0,0,0,0,1,1,0,1,0,0,0,0,1,0,1,0,0,1,0,1,0,0,0,1,0,1,0,0,1,0,0,0,0,0,1,1,0,0,1,1,0,0,0,0,0,0,0,0,0,0,0,1,0,0,0,0,0,0,1,0,1,1,0,0,1,0,1,0,1,0,0,0,0,0,0,0,0,0,0,1,1,0,1,0,0,1,0,1,0,1,1,0,0,0,0,0,0,0,0,0,1,0,0,0,0,0,0,0,0,0,1,0,0,0,0,0,1,1,0,0,0,0,0,0,0,0,1,0,0,0,0,0,0,1,1,0,0,0,0,0,0,0,0,0,0,0,0,1,0,1,0,0,0,0,0,0,0,0,0,0,0,1,0,1,0,0,0,0,0,0,0,0,0,0,0,1,0,0,1,0,0,0,0,1,1,0,0,0,1,0,0,0,0,0,1,0,0,1,0,0,0,0,0,1,0,1,0,0,0,0,0,0,0,0,0,0,1,0,0,0,0,0,0,0,0,0,0,0,1,0,0,0,1,0,0,0,0,0,0,0,0,0,0,0,0,0,0,0,0,0,0,0,0,0,0,0,0,0,0,0,0,1,1,0,1,0,0,0,1,1,0,0,0,0,1,0,0,0,0,0,0,0,0,0,0,0,0,0,0,0,0,0,0,0,0,0,0,1,0,1,0,0,0,0,0,0,1,1,0,0,1,1,1,0,0,1,1,0,0,0,0,1,1,0,0,0,1,1,0,0,0,1,1,0,1,0,0,1,0,1,0,1,1,0,0,0,0,0,0,0,0,1,0,1,0,1,1,0,0,1,1,1,0,0,1,1,0,0,0,0,0,0,0,0,0,1,0,0,0,0,0,0,0,0,0,1,1,1,0,0,1,0,0,0,0,1,0,1,1,0,0,1,0,0,0,0,0,0,0,0,0,1,0,0,0,1,1,0,0,0,0,0,0,1,0,0,1,0,1,0,0,0,0,0,1,0,0,0,1,0,1,0,0,0,0,0,0,1,0,1,0,1,0,1,0,0,1,0,1,0,0,0,0,0,0,0,0,1,0,0,0,0,0,1,0,0,0,0,0,0,0,1,0,0,0,0,1,0,0,0,0,0,0,0,1,1,0,0,1,0,0,0,0,0,0,0,1,0,0,0,0,0,0,1,0,0,0,1,0,0,0,0,0,0,0,1,1,0,1,1,0,0,0,0,0,0,0,0,0,0,1,0,0,0,0,0,0,0,1,0,0,0,0,1,0,0,0,0,1,0,1,0,0,1,0,0,1,0,0,0,0,0,0,0,0,0,0,0,0,0,0,0,0,0,0,0,0,0,1,1,0,0,0,0,0,0,0,0,1,1,0,0,0,0,1,0,0,0,0,0,0,1,0,0,0,0,0,0,0,0,1,0,0,0,0,1,0,0,0,0,0,0,0,0,1,0,1,1,0,0,0,0,1,1,0,0,1,0,0,0,0,1,0,0,0,0,1,0,0,0,0,0,0,0,0,0,0,0,0,1,1,0,0,0,0,0,0,0,0,0,0,1,0,0,0,0,1,0,0,1,0,0,0,0,0,0,1,1,0,0,0,0,0,0,0,0,0,1,0,0,0,1,0,0,0,0,0,0,1,1,0,0,0,0,1,1,1,0,0,0,0,1,0,0,0,0,0,0,0,0,0,0,0,1,0,0,1,1,0,0,0,0,0,0,0,0,0,1,1,0,0,0,0,0,1,0,0,0,0,0,1,1,0,0,0,0,0,0,1,0,0,0,0,0,0,0,0,0,1,0,0,0,0,1,0,0,0,0,0,0,1,1,0,0,0,0,0,0,0,0,0,0,0,1,0,0,1,0,0,0,0,0,0,0,0,1,1,0,0,0,0,0,0,1,0,0,0,0,0,1,0,1,0,1,0,0,0,1,0,0,1,0,0,1,0,0,0,0,0,0,1,0,0,0,0,0,0,1,0,0,0,0,0,1,0,0,0,0,1,0,0,1,0,0,0,0,1,0,0,0,0,0,0,0,1,1,0,0,1,1,0,0,0,0,0,0,0,0,0,0,0,1,0,0,0,1,1,1,1,0,0,0,0,1,0,0,1,0,0,0,0,0,0,0,0,0,0,0,0,0,0,0,0,0,0,0,0,0,0,0,0,0,0,0,1,0,0,0,0,0,0,0,0,0,0,0,0,0,0,0,0,1,0,1,0,0,0,0,0,0,0,0,0,0,0,0,0,1,0,0,0,0,0,1,0,0,0,1,0,0,1,1,0,0,0,0,0,1,1,0,0,0,0,0,0,1,0,0,1,1,0,0,0,1,0,1,0,0,0,0,0,0,1,0,0,0,1,0,1,0,0,1,0,0,0,0,0,1,0,0,0,1,0,0,0,1,0,0,0,0,0,0,0,0,0,0,0,1,0,1,0,0,0,0,0,0,0,0,0,0,0,0,1,0,0,0,0,0,1,1,1,1,1,0,0,0,0,0,1,0,0,1,0,0,0,0,0,0,0,0,0,0,0,0,0,0,1,0,0,1,0,0,0,0,0,1,0,0,0,1,0,0,0,0,0,0,1,0,0,0,0,0,0,0,0,0,0,0,0,0,0,0,0,0,0,0,0,0,1,0,0,0,1,0,0,0,1,0,0,1,1,0,0,1,0,0,0,1,1,0,0,1,0,1,1,0,0,0,0,0,0,0,0,0,0,1,0,1,0,0,1,0,0,0,0,0,0,0,0,0,0,0,0,0,0,0,0,0,1,0,0,0,0,0,0,0,0,0,1,0,0,0,0,0,0,0,0,0,0,1,0,0,0,0,0,0,0,0,0,1,0,0,0,0,0,0,0,0,0,0,0,0,1,0,0,0,0,0,0,0,0,0,0,0,1,0,0,1,0,1,1,0,0,0,1,0,1,0,0,1,0,0,0,0,0,1,0,0,0,0,1,0,0,0,0,0,0,0,0,0,0,0,0,0,0,0,0,0,0,1,1,0,1,0,0,0,0,0,0,0,1,0,0,1,0,0,0,0,1,1,0,0,0,0,0,0,0,1,0,0,0,0,0,0,0,0,1,0,0,0,0,0,0,0,1,0,0,0,1,0,0,0,0,0,1,0,0,1,0,0,0,0,0,0,0,0,0,0,0,1,0,0,0,0,0,0,0,0,0,0,0,1,0,1,0,0,1,0,1,0,1,0,0,0,1,0,0,0,0,0,0,0,0,0,0,0,0,0,0,1,0,0,0,0,0,0,1,0,0,0,1,1,0,0,0,1,0,0,0,0,0,0,1,0,0,1,0,1,0,0,0,0,0,0,0,0,0,0,0,0,0,0,0,0,0,0,1,0,0,0,0,0,0,0,0,0,0,0,1,0,1,0,0,0,0,0,1,0,0,1,0,0,1,1,0,0,0,0,0,0,0,0,0,0,0,0,0,1,1,1,0,1,0,1,0,0,0,0,1,1,0,0,0,0,1,1,0,0,0,0,1,0,0,0,0,0,0,1,0,0,0,0,0,0,0,0,0,0,0,0,0,0,0,1,0,1,0,0,0,0,0,0,0,0,0,0,1,0,1,0,0,0,0,0,0,0,0,1,1,0,0,0,0,0,0,0,0,0,1,1,0,1,0,0,0,0,0,0,0,1,0,0,0,0,0,1,0,0,0,0,0,0,0,0,0,0,0,0,0,0,0,0,0,0,0,0,0,0,0,0,1,0,0,0,0,0,0,0,0,0,0,0,0,1,0,0,1,0,0,0,1,0,0,0,0,0,0,0,0,0,0,0,0,0,0,0,0,0,0,1,0,1,1,0,0,0,0,0,1,0,1,1,0,0,0,0,0,0,1,0,0,1,0,0,0,0,0,1,0,0,1,1,0,1,0,0,0,0,0,1,0,0,0,0,0,0,0,0,0,0,0,1,0,1,0,0,0,0,0,0,0,0,0,0,1,0,0,1,0,0,0,0,0,0,1,0,0,0,0,0,0,0,1,1,0,0,0,0,0,0,0,0,1,0,0,0,0,0,0,0,0,0,1,0,0,0,0,0,1,0,0,0,0,0,1,1,0,1,0,0,0,1,0,0,0,0,0,0,0,0,0,0,0,0,0,1,0,0,0,1,0,1,1,0,0,0,1,0,0,0,0,0,0,0,0,0,0,0,0,0,1,0,1,0,0,1,0,1,0,0,0,0,0,0,0,0,0,0,1,0,0,1,0,0,0,0,0,0,1,0,0,0,0,1,0,0,0,0,0,0,1,0,0,1,0,0,0,1,0,0,0,0,0,0,0,0,0,1,0,0,0,0,0,0,0,0,0,0,0,0,1,0,0,0,0,0,0,0,0,1,0,0,0,1,0,1,0,0,0,0,0,0,0,0,0,0,0,0,1,0,0,0,0,0,1,1,0,0,0,0,0,0,0,0,1,0,0,0,0,0,1,1,0],\"coloraxis\":\"coloraxis\",\"symbol\":\"circle\"},\"mode\":\"markers\",\"name\":\"\",\"showlegend\":false,\"x\":[619,608,502,699,850,645,822,376,501,684,528,497,476,549,635,616,653,549,587,726,732,636,510,669,846,577,756,571,574,411,591,533,553,520,722,475,490,804,850,582,472,465,556,834,660,776,829,637,550,776,698,585,788,655,601,619,656,725,511,614,742,687,555,684,603,751,581,735,661,675,738,813,657,604,519,735,664,678,757,416,665,777,543,506,493,652,750,729,646,635,647,808,524,769,730,515,773,814,710,413,665,623,738,528,670,622,582,785,605,479,685,538,562,675,721,628,668,506,524,699,828,674,656,684,625,432,549,625,828,770,758,795,687,686,789,589,461,637,584,579,756,663,682,793,691,485,635,650,735,416,754,535,716,539,614,706,758,586,646,631,717,684,800,721,683,660,704,615,667,682,484,628,480,578,512,484,510,606,597,754,850,510,778,636,804,514,730,525,616,687,715,512,479,601,580,807,616,721,501,521,850,759,516,711,512,550,608,618,643,671,689,603,620,676,572,668,695,730,807,592,726,514,567,850,671,670,694,547,751,594,673,610,512,767,585,763,712,539,668,703,662,725,703,659,523,635,772,545,634,739,771,587,681,544,696,766,727,671,693,850,732,726,557,682,738,531,498,651,549,791,650,733,811,707,712,706,756,777,646,714,782,775,479,807,799,675,602,475,744,588,703,747,583,750,681,773,714,687,511,627,694,616,687,712,553,667,731,629,614,438,652,729,642,806,744,474,559,706,628,429,525,680,749,763,734,716,594,644,671,664,656,667,663,584,626,485,659,649,805,716,642,659,545,543,718,840,630,643,654,582,659,762,568,670,613,539,850,522,737,520,706,643,648,443,640,628,540,460,636,593,801,640,611,802,717,769,745,572,629,687,483,690,492,709,705,560,611,730,709,544,712,752,648,556,594,645,557,547,701,616,605,593,751,443,685,718,538,611,668,537,709,850,745,693,795,626,487,556,643,605,756,586,535,678,596,648,492,702,486,568,619,724,548,545,683,762,627,516,800,464,626,790,534,745,553,748,722,501,675,778,494,850,592,590,758,506,733,711,514,637,468,539,509,662,818,608,850,816,536,753,631,703,774,785,571,621,605,611,569,658,788,525,798,486,615,730,641,542,692,714,591,710,639,531,673,765,622,806,757,570,555,692,774,638,543,584,691,684,733,599,524,632,735,734,605,793,468,779,698,707,850,850,527,696,661,776,701,610,572,673,519,702,729,543,550,608,639,686,564,745,833,622,597,721,504,842,587,479,508,749,721,674,685,417,574,590,587,598,741,850,584,650,607,509,689,543,438,687,737,761,601,651,745,648,848,546,439,755,593,701,701,607,586,547,647,760,621,725,526,519,713,700,666,630,779,611,685,646,683,484,601,762,687,566,702,601,699,584,699,698,495,650,605,667,688,727,754,612,546,673,593,656,535,678,477,850,427,752,649,799,589,583,839,540,850,696,660,682,744,785,752,706,583,660,819,673,752,578,438,652,629,720,668,459,729,498,549,601,544,751,632,694,678,695,661,661,559,503,695,640,624,667,642,640,529,563,593,739,788,684,482,591,651,749,583,661,715,769,625,641,716,767,745,589,796,664,445,543,746,742,750,669,594,574,659,750,626,620,580,686,540,634,632,501,650,786,554,701,474,621,672,459,669,776,694,787,580,711,673,499,591,769,657,738,545,497,816,525,725,692,618,546,635,611,650,606,844,450,727,460,649,758,490,815,838,803,664,736,633,664,600,693,663,742,710,710,700,720,684,531,742,717,589,767,636,648,622,692,754,679,639,774,517,571,747,792,688,714,562,704,698,611,850,743,654,761,702,488,683,601,605,671,614,511,850,790,793,628,598,657,618,681,516,421,700,745,696,580,497,720,659,841,642,732,600,464,680,758,630,577,684,708,732,634,633,559,694,686,553,507,732,818,660,773,640,505,714,468,611,705,646,667,511,653,675,523,567,741,456,598,667,548,725,717,594,678,545,636,603,435,535,629,722,561,645,501,502,652,574,518,749,679,565,643,515,521,739,585,733,542,788,435,577,703,728,728,718,621,523,657,727,643,645,568,599,672,685,516,685,806,604,648,545,756,569,596,475,646,784,552,729,609,555,572,785,714,738,639,520,764,661,564,708,512,592,619,775,850,577,724,710,696,376,675,745,697,599,715,659,684,635,789,571,694,665,706,807,771,531,629,850,685,642,529,683,663,563,637,544,649,638,723,635,750,730,750,586,520,652,550,594,749,668,614,773,551,566,569,659,722,655,615,752,661,838,610,811,587,811,759,648,788,725,646,601,521,561,564,444,650,724,719,548,635,496,676,541,778,850,633,625,485,547,642,718,582,628,737,828,609,730,631,830,645,663,678,521,625,523,714,580,722,630,579,670,588,807,726,812,631,682,625,607,600,602,545,675,581,640,850,490,710,613,812,723,512,731,650,594,844,686,695,624,503,535,743,702,658,677,664,766,461,688,678,796,803,712,498,850,628,539,732,715,651,813,692,756,543,790,494,850,703,432,512,589,514,678,420,679,595,713,833,690,731,608,479,519,731,617,756,848,809,698,779,606,612,663,549,675,669,571,500,628,559,769,733,750,583,468,727,618,617,793,630,765,546,614,593,613,655,700,826,652,755,538,729,615,700,434,729,513,755,615,747,850,712,622,548,607,653,699,693,647,478,705,719,726,626,552,807,621,651,673,652,584,756,670,765,528,701,797,639,785,363,764,676,718,590,584,645,772,399,529,463,630,780,584,752,697,850,711,452,610,694,579,745,572,505,706,693,725,791,536,699,500,707,531,557,659,575,775,772,587,667,771,523,662,717,746,569,579,519,696,693,587,626,666,512,689,803,548,588,693,499,628,624,733,628,633,559,704,744,665,638,837,534,548,837,658,554,724,723,585,474,562,719,635,743,681,521,741,790,622,669,583,520,579,698,548,672,653,734,794,641,824,534,653,498,683,618,538,643,428,593,718,811,823,645,710,591,748,850,542,809,675,607,850,789,598,756,687,724,700,635,687,613,781,703,593,743,640,849,778,539,489,568,618,710,625,682,727,794,652,670,460,568,643,521,615,575,717,648,535,626,611,734,709,591,664,431,647,578,555,775,850,625,645,608,689,652,769,611,489,528,632,429,457,768,715,668,625,846,661,571,582,716,758,725,630,627,653,775,794,831,561,705,636,487,693,517,684,620,757,739,662,359,572,721,707,444,523,685,673,503,485,799,585,607,521,535,724,520,696,657,603,726,591,792,550,601,820,667,573,755,552,598,576,670,504,778,558,627,683,556,583,705,637,697,555,594,632,551,687,672,521,686,639,850,465,817,578,611,616,517,637,806,633,624,691,819,568,806,726,552,755,634,756,776,649,595,646,592,574,850,850,475,642,710,596,609,797,504,735,680,449,685,569,631,595,461,630,661,796,710,741,606,747,549,576,528,535,575,656,440,539,850,646,744,710,544,723,507,787,598,796,569,711,661,415,578,611,600,661,850,573,764,838,821,607,558,530,654,530,656,520,602,701,653,668,652,639,730,780,592,628,658,850,515,571,760,720,632,694,559,773,581,524,713,676,651,717,594,716,668,678,545,613,687,715,618,721,445,690,709,671,538,735,592,747,675,632,621,521,591,706,677,769,771,601,670,517,834,571,576,718,636,566,711,574,619,588,760,665,739,641,685,594,557,697,656,712,689,697,589,525,680,617,680,662,736,657,350,617,562,705,516,573,538,699,504,583,712,626,631,663,506,570,703,698,731,625,634,616,500,446,669,581,704,748,680,655,690,695,700,773,749,611,606,554,567,559,594,513,652,680,784,812,784,570,712,705,681,620,711,613,613,682,850,601,595,675,591,602,554,541,506,814,683,485,696,608,792,686,790,654,452,719,707,699,850,828,850,712,634,730,685,809,707,648,760,805,585,595,630,627,631,776,676,758,637,850,601,735,614,672,642,633,769,796,715,695,747,584,476,850,529,584,586,674,552,601,541,744,595,724,533,618,523,642,584,521,662,758,717,611,766,636,814,760,607,725,600,656,640,439,549,622,715,657,703,802,793,554,533,658,713,711,669,439,763,697,702,686,629,823,683,555,647,714,850,713,452,683,577,552,769,691,818,739,639,651,779,850,829,579,510,531,628,633,714,604,630,850,788,798,770,569,425,547,725,506,632,620,663,700,696,767,561,350,706,464,501,745,587,667,737,485,590,518,581,785,799,698,730,740,785,527,544,705,684,639,565,481,731,607,760,559,715,656,652,624,634,850,659,529,572,640,770,648,579,589,530,831,790,656,563,667,613,429,665,731,584,634,488,535,776,850,673,850,627,570,796,773,752,625,535,786,620,605,670,617,595,687,757,746,503,543,428,768,618,591,658,625,717,667,804,693,729,484,632,536,573,655,666,726,523,728,701,518,739,531,452,684,728,783,734,648,688,680,516,680,604,624,623,624,565,565,710,645,707,655,705,358,578,800,612,681,559,488,717,666,582,733,693,694,622,598,717,494,644,554,476,667,748,531,719,845,738,563,695,841,626,613,824,705,584,534,672,603,633,842,661,601,632,684,785,687,705,639,729,556,570,841,705,553,779,696,728,691,706,627,716,501,601,545,634,451,655,458,520,624,765,667,665,709,583,782,668,621,579,547,840,667,723,487,668,520,549,567,720,492,712,689,850,747,469,539,743,707,581,737,445,703,588,765,626,545,744,658,629,719,686,743,626,661,710,654,569,640,562,721,456,811,534,423,594,725,716,595,679,667,661,655,555,531,611,600,531,601,548,759,678,755,594,768,492,637,646,593,596,722,642,472,738,732,404,701,683,460,690,618,671,765,651,704,544,790,710,743,702,704,614,609,688,713,736,727,850,718,643,653,674,690,819,634,633,850,665,630,836,668,753,745,693,606,660,608,744,731,683,727,561,700,605,767,511,667,787,705,773,554,526,661,698,646,757,699,667,774,745,649,634,665,713,652,739,556,699,708,480,700,525,845,613,850,798,773,614,473,762,701,600,850,613,509,509,609,456,728,663,673,717,741,498,850,493,686,666,733,631,714,767,711,722,631,701,790,633,644,757,696,746,649,565,720,648,632,622,835,493,785,681,621,756,515,625,717,595,539,762,706,677,733,684,679,478,696,686,466,686,576,763,572,757,582,623,617,425,659,605,538,665,491,726,580,550,542,732,473,745,732,848,572,702,664,630,618,556,619,644,658,598,677,689,591,699,749,709,607,650,651,676,723,714,759,582,697,610,488,599,781,645,545,597,561,662,649,630,672,636,593,545,567,583,681,762,648,644,706,850,484,508,439,484,803,724,640,701,537,651,523,717,593,706,714,794,518,589,824,719,617,651,637,554,731,569,625,592,669,663,518,686,709,571,707,701,672,620,557,648,479,730,737,616,639,815,786,549,622,624,841,614,676,697,732,623,541,773,762,655,602,850,649,850,543,672,600,671,706,541,711,630,531,641,631,685,702,708,653,654,596,549,754,815,556,706,850,732,614,580,593,653,746,662,573,684,793,798,524,816,742,540,537,759,774,608,704,581,628,566,701,735,680,560,663,665,758,621,764,537,589,555,734,783,678,661,607,537,513,576,660,637,672,629,583,763,516,617,700,727,689,626,686,351,739,627,451,512,774,652,638,475,567,750,850,753,683,710,645,714,696,612,520,782,666,466,567,613,718,614,711,691,527,476,619,607,695,653,677,655,625,679,734,666,592,564,814,592,758,612,498,638,558,756,782,505,671,801,604,716,624,607,827,606,717,651,691,573,723,584,550,611,549,850,668,686,660,682,524,645,850,537,599,727,756,755,634,837,727,567,650,655,763,843,667,705,660,553,612,641,513,680,711,689,665,551,645,616,582,365,697,704,656,712,748,724,691,563,741,778,848,634,505,692,537,633,833,592,587,550,680,622,594,643,540,635,657,814,600,682,682,566,550,630,546,486,762,692,498,850,603,551,627,515,605,567,568,571,634,768,554,629,638,576,661,592,702,647,593,712,625,538,637,632,736,755,425,461,745,616,587,850,601,730,532,850,779,562,670,729,767,742,669,542,586,612,740,584,524,614,598,799,724,601,804,745,667,518,819,520,625,673,656,850,574,679,530,508,558,414,648,721,751,662,628,597,698,723,586,633,564,649,622,459,718,655,696,637,630,592,634,608,565,763,665,649,695,775,788,569,726,564,544,614,453,471,829,754,749,667,670,670,623,571,641,551,741,472,650,625,650,535,649,689,694,655,620,577,401,599,481,704,698,480,682,700,492,444,624,709,557,646,719,706,660,667,705,598,669,580,676,714,597,559,564,850,689,758,604,733,778,732,646,597,821,640,511,805,540,705,540,532,535,627,646,515,697,652,579,760,769,498,774,705,648,688,592,705,654,624,594,695,597,758,737,694,683,538,669,730,622,714,569,668,628,600,693,704,527,553,575,626,582,683,850,653,679,549,850,558,528,801,513,666,606,599,544,529,850,497,764,603,609,487,748,710,432,534,607,551,674,525,645,755,708,715,727,559,545,524,707,671,439,667,831,545,604,657,487,750,694,711,551,559,620,660,449,703,795,594,586,613,601,657,531,621,782,528,696,586,626,498,691,568,715,680,802,539,494,594,596,649,699,787,604,489,651,698,578,538,696,507,685,705,499,717,510,632,668,744,663,638,688,588,631,687,599,718,730,533,711,555,850,678,576,835,592,774,620,519,734,763,733,650,538,577,792,686,589,530,778,616,550,655,721,499,511,579,696,681,815,681,641,591,565,487,729,505,580,642,850,616,526,523,663,840,570,676,689,703,491,584,810,745,625,535,729,655,751,525,532,696,786,580,596,683,747,602,779,551,666,526,849,471,628,674,797,590,588,577,571,680,648,618,648,759,585,774,697,605,676,678,495,787,770,817,659,693,744,829,716,671,835,636,649,621,658,784,783,615,791,762,607,601,540,812,685,680,680,631,569,584,582,609,506,503,503,806,653,666,674,798,740,531,614,556,678,587,527,757,468,693,483,466,770,734,716,439,538,743,734,656,666,627,480,792,613,476,539,696,810,763,640,655,526,678,554,597,560,850,546,623,698,620,619,561,753,721,451,680,590,634,676,642,760,736,656,776,832,631,795,648,615,682,694,694,607,664,756,645,653,710,697,619,648,482,548,752,648,643,573,686,644,702,652,641,692,574,643,834,591,470,608,649,665,651,555,637,675,677,850,815,665,485,577,586,722,528,542,552,678,575,669,636,667,652,637,516,801,692,585,590,554,659,690,697,610,599,544,548,635,722,564,719,547,850,515,667,607,525,606,686,611,827,572,726,579,598,663,505,576,555,524,776,645,850,603,691,583,584,679,646,559,595,527,684,673,802,675,762,580,621,411,815,631,514,638,791,516,734,611,850,641,585,552,507,735,707,698,841,688,614,511,447,738,422,537,707,690,664,850,584,728,560,629,658,794,790,640,652,583,775,584,635,814,735,678,693,640,773,736,693,496,751,528,754,568,592,558,825,677,653,593,632,601,786,654,572,813,523,506,513,664,684,608,527,666,779,629,430,712,682,634,487,808,527,637,802,529,850,738,817,735,619,671,581,690,579,688,599,729,718,712,474,565,658,714,725,825,665,670,474,591,508,695,660,687,658,705,739,844,602,759,747,673,671,640,581,630,703,698,742,652,644,735,777,644,665,529,803,604,738,655,698,775,735,766,537,599,420,674,570,623,710,466,759,581,820,759,628,676,591,690,624,573,694,632,632,832,598,430,711,582,605,657,578,532,612,792,674,680,593,679,493,688,769,581,465,641,731,625,468,790,587,692,676,571,700,445,746,722,596,850,597,436,660,649,646,560,710,513,607,757,619,612,842,713,657,770,773,470,781,428,600,697,692,791,538,820,679,649,632,594,682,720,769,746,623,537,468,588,729,543,499,784,604,614,671,587,593,453,570,655,632,681,591,779,456,686,617,850,646,735,543,490,640,445,761,426,777,534,777,806,790,643,584,638,771,600,661,554,627,659,835,763,625,799,849,692,623,453,408,778,695,677,662,534,602,554,667,672,838,692,675,731,468,542,662,770,675,647,604,833,741,658,528,590,675,765,650,817,699,495,491,847,676,746,470,714,695,674,664,697,670,541,640,647,757,704,778,639,637,686,577,506,757,826,721,489,446,677,769,677,555,652,722,643,796,720,613,506,608,667,750,610,588,479,682,677,850,580,746,635,664,558,415,798,792,489,730,773,711,592,695,640,470,789,604,493,671,656,739,560,827,681,740,663,845,555,680,638,640,778,679,593,788,770,729,545,597,537,732,542,688,542,754,750,731,699,534,494,497,632,724,751,733,701,525,666,653,850,646,750,764,658,727,687,631,797,650,850,676,620,576,482,695,706,668,679,703,670,590,613,742,608,571,595,745,589,749,678,603,504,739,604,612,629,652,565,707,645,762,639,709,823,817,665,646,568,850,473,731,619,715,772,686,749,781,675,730,683,554,722,689,796,447,498,663,498,627,649,738,587,655,647,776,688,605,596,427,629,496,717,777,535,744,755,593,514,721,835,682,590,653,837,841,584,769,599,698,477,477,745,749,850,528,750,543,579,624,595,596,431,647,640,752,710,638,660,609,596,705,444,727,496,554,537,839,700,458,850,699,615,850,604,668,594,470,701,664,477,756,625,703,646,650,664,682,725,553,576,608,850,627,667,548,774,794,497,587,850,722,555,609,734,718,645,598,628,629,739,653,711,783,681,712,554,611,560,646,680,631,746,654,687,708,679,636,695,677,720,780,653,674,620,623,547,530,746,512,630,570,605,530,813,704,565,645,526,778,677,588,488,519,709,642,710,653,743,418,670,723,549,543,595,673,741,508,662,752,809,575,591,643,698,496,597,603,655,431,620,782,581,553,658,686,539,685,850,763,634,567,539,764,653,566,714,580,548,646,622,706,680,698,581,728,707,761,483,736,716,654,649,649,612,657,511,682,748,554,794,807,594,652,729,625,597,657,633,663,535,702,712,607,476,748,815,602,649,551,509,685,536,711,761,535,566,620,837,685,673,638,614,626,834,691,706,633,644,666,708,496,730,696,809,701,604,665,639,696,520,545,634,750,530,589,654,648,835,446,514,694,554,720,641,813,480,811,715,620,721,772,680,535,655,660,762,662,463,501,603,688,430,632,601,769,551,841,469,479,701,593,738,635,658,687,650,720,602,618,803,793,616,550,602,452,655,510,557,676,640,529,559,689,626,697,823,565,631,646,676,850,810,581,718,713,672,781,656,583,808,721,778,850,693,520,759,637,755,662,503,599,583,764,513,730,820,597,637,696,635,673,662,683,850,815,671,601,709,702,558,691,700,667,624,580,571,561,529,670,666,628,577,652,678,692,675,712,639,618,554,533,540,704,678,712,651,789,775,564,841,850,637,500,655,666,658,749,654,623,761,627,757,695,726,587,605,850,850,751,627,736,652,627,636,775,850,850,516,513,673,564,636,712,568,741,754,709,510,716,607,656,550,486,598,675,755,656,644,598,850,679,632,550,572,626,625,515,612,628,529,668,526,791,573,565,604,656,447,682,437,792,627,767,686,789,794,587,589,543,589,701,850,726,767,648,651,633,740,592,670,628,745,705,559,595,492,498,655,636,634,793,526,768,540,732,617,637,573,531,489,601,452,728,590,490,596,635,782,790,587,794,515,746,667,709,536,711,753,748,623,465,640,562,502,536,670,775,759,604,766,554,487,725,732,623,781,714,577,731,650,779,706,733,579,476,775,538,602,615,700,615,544,573,555,692,476,770,641,705,784,727,576,646,638,632,850,492,673,609,701,651,508,616,489,567,714,678,581,748,781,691,507,724,705,708,580,850,714,559,577,647,554,549,528,720,743,615,635,686,840,695,564,805,558,657,641,755,483,545,678,781,571,634,523,501,662,573,648,662,725,563,628,546,688,850,614,719,757,669,438,492,622,645,728,651,783,732,553,660,670,718,787,775,479,660,721,659,743,670,766,845,710,602,604,564,637,527,687,756,503,657,666,615,712,764,471,608,682,587,714,630,648,785,601,717,707,771,602,626,588,616,621,674,633,698,508,736,672,613,712,624,676,683,489,739,701,666,565,666,633,578,812,809,615,684,544,713,633,672,661,749,635,850,641,633,413,538,437,612,516,826,660,646,767,640,778,679,549,598,655,494,653,539,645,751,528,696,716,602,647,850,590,825,850,789,701,713,570,536,771,512,698,656,761,709,597,592,599,572,611,634,666,696,669,726,497,750,850,617,652,560,629,660,676,581,798,705,714,664,697,609,548,850,656,727,642,710,710,718,586,617,630,791,673,477,662,850,635,537,579,651,610,581,592,688,681,658,792,528,624,562,678,705,650,593,652,554,584,516,789,598,669,645,659,833,697,580,691,534,478,572,501,624,595,603,602,500,422,615,635,711,834,633,650,743,567,706,638,641,574,642,722,623,681,530,797,653,850,581,589,555,748,745,730,565,778,812,526,708,680,567,564,709,629,510,506,605,650,850,489,659,753,477,610,619,619,758,516,789,687,485,446,597,712,522,805,781,689,670,670,524,734,489,578,622,843,687,700,410,537,780,652,620,697,786,850,749,445,443,637,616,756,644,850,703,684,706,580,777,676,708,809,588,623,537,536,769,690,771,497,622,602,543,520,669,631,537,732,844,838,652,660,692,588,533,850,511,530,554,585,754,474,837,567,800,646,627,505,566,619,757,648,621,543,658,633,648,501,683,619,705,638,710,590,725,638,791,702,607,535,651,506,511,757,768,757,663,537,570,850,661,659,454,708,720,785,743,493,557,850,799,756,752,696,630,659,685,599,559,615,580,487,646,811,526,767,548,737,613,711,850,752,710,664,510,577,529,757,691,621,709,756,788,705,483,719,793,593,551,690,823,512,802,450,651,697,611,643,822,632,575,672,517,621,775,600,640,752,613,484,511,745,786,727,622,794,636,741,687,660,660,617,762,752,561,609,803,556,531,411,587,683,654,670,655,752,534,635,491,516,530,687,684,706,490,796,849,779,794,748,663,645,464,737,590,522,648,754,669,648,763,790,581,703,571,657,737,793,783,751,579,655,614,678,562,711,620,437,691,552,765,707,764,585,784,605,699,544,803,735,673,652,694,741,590,809,523,540,596,597,407,748,562,734,710,539,542,717,682,515,526,702,651,792,817,674,641,513,561,627,682,683,420,670,505,580,577,773,616,763,640,592,528,630,529,546,753,772,567,628,658,679,629,731,775,660,752,655,543,811,689,531,515,466,782,611,621,604,655,689,681,643,617,638,743,828,776,540,616,628,667,615,543,553,554,684,452,606,629,659,493,794,554,796,807,500,722,559,584,834,754,590,740,502,733,755,554,534,656,575,480,575,672,758,682,501,746,556,823,491,638,734,555,745,728,626,681,478,709,562,769,684,536,631,657,699,606,612,660,829,567,850,712,562,755,793,471,707,784,703,704,662,636,640,739,767,753,714,707,577,633,849,614,558,832,567,587,712,655,641,676,472,644,598,792,700,616,743,427,731,610,724,653,774,547,719,740,543,688,474,505,688,650,610,705,669,650,550,595,572,622,662,783,714,671,600,847,650,710,682,642,536,754,678,533,741,757,721,700,663,677,655,832,721,542,654,821,508,588,691,664,439,479,850,518,717,698,850,700,626,774,719,646,485,784,850,669,731,721,515,774,585,695,729,713,555,699,587,762,510,842,608,850,642,850,455,726,544,651,814,537,553,800,791,699,756,591,850,760,569,661,670,694,728,764,639,683,663,826,735,682,663,562,696,850,719,804,604,782,512,569,597,753,430,756,493,777,779,702,551,749,742,752,740,576,637,724,685,625,571,584,550,662,803,615,481,701,751,675,733,822,559,731,678,645,701,554,723,766,597,574,655,780,672,717,521,633,669,740,462,619,665,655,463,799,713,807,728,582,704,714,628,809,547,560,811,584,691,680,588,721,850,529,622,683,575,577,510,652,569,687,822,656,745,386,684,635,582,613,795,659,745,604,509,706,619,572,695,543,640,672,701,634,531,699,605,534,449,684,622,714,712,783,743,683,654,700,744,645,525,732,721,622,654,529,720,850,667,620,616,637,710,717,786,651,530,815,715,496,680,646,807,727,787,806,603,649,547,684,477,558,695,592,789,597,839,405,658,684,633,589,750,771,812,539,670,673,538,575,682,712,598,776,606,686,850,642,606,627,850,850,724,579,727,813,642,669,574,774,735,639,738,835,637,589,591,723,831,733,731,654,828,590,657,531,516,561,682,575,623,642,779,671,495,850,630,588,562,740,695,589,607,794,580,644,636,599,507,682,714,696,599,577,733,647,831,543,679,713,690,751,613,701,698,451,665,726,608,549,803,663,558,714,704,805,659,738,635,530,661,531,694,731,556,647,850,573,591,723,617,704,457,787,651,612,828,724,648,569,765,577,603,568,748,573,771,763,410,728,655,580,712,680,383,721,620,774,563,850,681,631,614,704,786,534,590,583,656,597,588,667,627,708,641,527,592,465,628,678,570,815,817,717,641,624,579,698,645,691,638,705,720,553,658,648,636,527,717,614,737,587,682,710,507,609,786,688,710,779,733,583,627,666,620,614,606,700,677,850,564,771,620,610,609,683,633,676,693,709,569,684,565,681,503,656,566,592,687,686,616,494,534,695,579,432,816,730,593,715,775,539,576,617,688,608,597,670,616,579,786,704,796,598,602,619,492,641,518,623,733,625,759,604,512,520,805,626,656,785,553,569,670,586,617,508,624,654,681,578,621,632,644,821,754,568,584,549,729,523,477,675,782,616,738,717,526,660,525,629,616,521,691,687,677,695,663,496,747,546,706,472,703,850,667,559,636,672,667,648,497,743,619,639,540,766,749,655,630,778,757,529,620,615,735,705,644,505,471,722,577,744,573,653,660,787,617,567,682,684,447,625,585,516,732,628,682,746,655,644,778,617,660,537,554,806,611,665,648,692,507,696,681,687,641,507,688,535,701,488,539,674,538,829,768,585,581,682,653,712,620,709,832,635,749,629,836,542,645,844,747,645,752,760,714,717,645,681,681,679,528,710,733,724,726,520,556,579,674,570,631,623,665,523,706,619,593,608,526,684,604,636,669,624,631,753,588,729,602,689,486,809,562,763,669,709,554,699,732,625,599,584,499,526,625,537,696,679,684,850,495,537,850,513,618,802,547,613,592,546,721,671,624,751,636,607,509,653,709,559,684,635,709,656,793,609,618,850,669,594,616,676,608,710,695,530,509,517,758,665,631,576,544,596,481,498,512,594,570,721,453,562,682,748,729,663,735,627,713,562,632,479,658,598,597,512,704,474,604,683,537,794,732,495,552,602,607,675,443,727,482,686,588,605,583,738,744,781,699,639,583,587,694,570,692,511,788,526,749,691,481,752,658,679,754,679,633,674,600,645,698,508,555,751,738,706,595,577,578,699,826,656,556,569,765,544,588,740,850,766,849,612,517,645,696,716,590,656,473,742,834,721,590,516,850,748,798,612,540,719,598,796,579,850,599,724,508,773,526,542,470,805,548,672,773,614,537,704,586,677,558,634,655,619,662,705,527,630,850,668,573,680,758,597,580,622,638,640,644,753,629,775,701,708,521,636,529,757,767,525,759,520,738,548,535,615,850,487,731,726,609,714,694,786,698,601,769,850,646,659,487,740,686,612,655,617,674,711,624,597,682,775,727,629,684,549,593,536,707,592,703,723,452,552,633,479,768,742,668,707,754,544,718,762,772,691,502,563,676,576,629,625,628,471,811,504,687,660,548,609,659,526,725,519,562,482,535,561,661,771,545,850,601,712,589,600,642,575,570,532,796,833,642,655,736,617,762,703,507,581,593,648,462,596,627,494,627,850,632,490,715,679,619,465,736,501,535,759,819,533,632,686,687,667,699,497,780,652,477,652,488,572,755,779,693,530,738,690,611,643,632,727,508,550,754,759,794,549,671,756,632,579,748,488,710,619,773,657,579,542,709,617,568,769,608,503,608,731,850,591,579,570,709,611,775,699,618,704,835,714,581,592,551,689,604,514,698,581,573,449,850,612,690,599,498,497,802,644,714,690,522,502,730,590,458,553,479,693,707,636,807,513,582,694,777,598,762,588,663,777,592,631,725,850,540,674,553,630,466,613,558,775,698,608,670,591,633,678,590,705,608,682,596,395,578,547,609,774,712,585,666,708,513,445,690,850,537,705,670,652,696,747,511,743,532,642,554,604,602,757,491,850,521,726,596,850,637,690,689,633,555,563,494,534,696,535,600,807,714,590,614,766,557,788,648,726,773,583,565,705,685,741,658,575,844,559,725,450,738,642,618,590,735,550,729,743,555,667,790,727,744,629,619,634,608,507,536,730,583,644,790,807,581,627,850,754,551,637,699,542,640,553,741,598,660,618,647,491,652,650,413,416,629,678,527,743,683,536,663,646,707,602,635,597,503,524,700,692,562,679,603,720,797,594,529,606,621,513,753,605,574,726,611,593,466,741,684,550,593,601,676,556,719,850,649,509,684,806,729,683,689,672,602,739,618,674,762,790,754,729,606,616,772,652,743,793,743,746,627,713,678,540,615,415,628,700,623,623,679,632,790,514,491,753,693,679,529,619,680,693,834,636,538,566,597,711,606,615,589,606,582,710,467,749,564,730,678,540,767,615,583,850,651,798,695,497,739,549,850,648,679,606,850,619,719,640,710,580,550,841,760,687,753,661,699,617,595,669,613,782,582,679,611,455,621,596,585,742,850,738,619,628,487,513,563,803,607,628,521,669,686,700,663,671,651,728,574,464,604,836,511,518,756,489,622,652,625,521,546,697,571,748,591,814,709,433,781,656,683,620,637,525,793,638,520,641,840,504,686,533,577,445,720,643,652,663,525,662,724,581,685,595,588,647,785,794,823,687,850,496,527,576,525,727,671,625,643,707,539,498,696,758,685,655,747,601,477,558,586,850,505,591,761,554,774,771,792,673,765,748,422,568,502,524,689,661,606,678,636,647,732,646,559,581,565,657,847,558,596,579,741,613,694,729,480,666,575,850,740,588,681,611,589,717,556,850,685,713,437,605,758,600,827,608,608,554,683,660,628,668,776,820,665,850,703,506,588,622,606,517,758,677,827,729,654,654,619,642,472,470,633,602,640,454,562,636,621,795,550,630,573,561,662,637,651,646,567,638,725,709,787,653,661,681,436,663,662,607,754,850,578,666,599,586,825,808,515,663,444,650,609,824,662,699,752,603,628,745,804,454,631,503,548,668,619,842,707,715,573,509,670,613,678,555,777,552,640,541,756,684,618,604,624,661,627,812,473,717,693,705,661,573,639,718,570,461,638,608,599,762,662,747,539,625,656,469,621,754,679,535,487,850,585,603,728,621,833,502,825,668,487,600,606,623,575,577,651,693,800,760,711,637,662,568,692,614,478,562,709,684,546,779,576,481,445,606,559,608,698,568,528,802,669,581,640,529,547,718,707,735,765,469,594,675,703,810,715,664,850,724,563,714,614,740,587,465,689,656,579,716,551,527,600,685,738,622,528,546,576,733,727,605,586,564,593,736,675,656,462,685,850,636,850,628,798,610,591,614,651,665,570,631,586,691,639,698,733,850,618,473,490,754,649,578,690,610,596,492,575,569,674,507,457,584,744,687,688,519,733,666,511,705,544,564,702,658,654,649,597,782,644,679,678,806,668,659,660,601,781,628,751,531,647,708,550,670,592,589,725,570,575,501,431,719,850,554,418,715,750,766,652,658,659,574,611,738,571,686,679,617,673,745,677,613,576,584,663,466,510,619,696,554,595,659,662,556,701,587,571,539,644,572,753,706,588,825,627,532,764,700,660,518,557,639,557,633,623,611,666,521,775,681,564,646,670,751,544,639,635,672,639,697,850,748,463,572,741,646,805,637,651,672,493,524,624,569,677,464,718,594,574,478,615,651,465,558,540,568,630,523,678,438,544,595,678,850,589,785,563,602,591,643,605,755,769,620,725,818,624,669,712,603,597,580,718,527,729,746,699,759,748,698,686,679,682,778,742,649,763,595,628,625,733,665,805,725,554,675,556,635,601,600,758,606,640,753,559,754,621,654,650,831,519,552,577,576,646,711,806,670,679,850,670,733,764,673,588,564,715,621,796,672,527,722,596,746,523,624,553,850,599,492,707,743,522,681,826,630,430,806,703,755,612,719,554,683,749,724,770,680,699,442,529,574,605,515,632,558,434,525,640,690,607,850,780,616,618,676,507,490,678,637,602,744,640,684,495,559,684,613,794,736,692,703,720,777,653,552,708,647,597,501,709,621,799,675,561,707,670,649,524,689,573,657,686,683,753,520,547,653,648,639,711,484,721,548,679,553,757,581,718,625,744,799,751,781,777,704,539,716,670,555,679,571,512,697,424,684,697,580,600,521,664,634,445,702,485,582,605,628,604,724,567,779,785,563,821,747,600,625,773,726,641,649,434,738,762,507,606,655,697,504,653,660,652,669,594,756,642,486,804,629,581,667,667,679,680,644,571,627,536,599,744,709,653,648,663,613,620,661,669,767,491,653,679,687,837,850,663,547,627,707,629,687,588,502,793,727,632,474,850,584,713,742,607,761,600,650,850,501,418,797,788,699,616,651,654,676,708,499,689,850,502,643,762,719,789,553,448,632,669,654,726,596,733,529,493,615,600,666,644,692,707,603,671,568,598,606,850,644,655,850,683,663,682,639,704,691,599,573,589,620,647,737,634,660,666,696,836,667,596,430,596,599,519,721,603,572,453,668,762,633,647,796,733,556,489,639,715,807,714,626,697,850,737,812,583,730,677,748,753,634,622,699,570,552,619,714,503,685,606,678,724,779,638,610,646,628,528,432,622,721,614,634,742,516,718,636,691,698,712,659,573,778,732,550,790,665,728,645,647,596,610,512,768,666,700,651,542,686,850,658,448,609,704,698,759,677,544,567,490,626,718,616,772,561,814,651,538,600,654,622,682,610,795,557,824,698,630,609,694,681,721,563,654,659,674,576,566,545,798,757,641,718,699,623,644,586,500,583,595,670,610,814,660,580,850,676,578,579,711,692,760,630,808,611,697,655,601,755,553,723,507,777,566,732,697,555,584,705,688,626,636,719,706,731,738,426,622,701,512,635,685,609,598,708,574,629,422,656,697,718,586,481,749,561,676,615,582,601,708,708,797,682,694,490,828,594,579,723,619,794,674,418,502,678,599,736,430,537,683,828,691,608,691,718,680,838,695,681,762,751,678,634,749,590,610,502,578,547,579,661,794,719,728,598,822,670,850,723,705,677,736,661,501,516,517,766,520,541,790,797,811,722,675,660,566,768,610,715,750,431,704,535,614,748,492,573,706,680,458,612,809,590,602,540,494,797,526,631,576,405,555,750,665,640,457,695,645,647,808,641,700,660,615,705,718,754,713,587,569,568,634,770,676,723,614,601,592,605,752,677,850,608,786,777,667,848,486,598,506,612,545,793,682,517,684,692,740,666,693,757,684,691,842,482,735,681,616,850,635,638,820,694,713,543,649,777,561,724,665,441,579,777,739,660,554,850,842,785,550,750,490,605,563,675,621,850,711,549,764,627,850,614,685,683,643,561,601,766,699,850,792,636,850,628,736,711,583,757,749,705,585,437,741,738,586,627,551,606,674,584,590,585,508,458,692,502,518,660,698,678,773,619,684,635,680,608,603,579,756,611,532,684,647,583,774,677,542,613,666,777,581,705,673,594,648,605,734,572,595,749,573,624,703,665,648,850,569,566,537,706,734,586,612,648,557,643,433,643,488,758,743,730,746,666,580,850,563,766,659,607,644,746,588,691,666,640,611,651,529,676,639,782,641,697,623,494,731,657,744,774,850,551,638,792,666,716,594,600,565,678,648,642,706,668,635,603,635,642,785,628,499,567,449,701,613,683,581,620,561,558,642,805,687,695,562,613,589,593,714,588,679,730,833,586,567,637,711,828,500,807,850,782,629,582,468,670,805,720,781,592,542,532,520,759,473,639,705,530,516,850,746,622,743,732,850,850,686,556,673,809,634,630,564,625,677,583,592,637,850,633,751,592,716,641,849,647,608,555,497,599,545,774,464,696,667,812,516,645,664,427,685,585,519,708,717,465,829,826,747,707,590,603,615,634,716,647,591,574,467,701,747,650,731,638,569,459,632,683,850,512,616,664,694,655,607,684,763,671,592,666,667,850,622,577,555,547,613,672,624,698,606,720,835,771,811,734,548,652,707,605,623,686,525,657,730,816,484,728,730,477,663,549,714,430,504,530,619,617,791,609,780,777,817,850,732,693,576,643,757,569,772,576,608,794,593,597,541,692,697,768,802,584,614,850,671,626,770,633,663,581,561,479,769,659,590,560,437,661,677,560,578,421,492,545,640,624,577,704,523,793,564,711,791,629,729,651,695,847,704,613,692,720,577,710,716,410,584,792,605,486,615,676,571,850,717,642,780,492,760,500,654,606,367,799,434,719,641,461,790,588,621,768,681,606,542,713,597,635,599,496,759,757,564,561,702,678,707,610,744,598,562,621,659,722,606,603,506,715,690,644,589,592,632,577,588,617,668,810,767,718,589,778,724,477,580,566,711,706,703,679,603,598,836,687,704,605,516,572,557,443,604,483,702,670,804,850,554,588,758,787,582,633,766,564,602,649,679,639,790,565,478,825,528,577,663,505,633,586,850,629,744,750,637,575,671,571,590,619,640,670,737,555,742,618,560,654,787,611,559,481,753,675,748,610,580,624,709,605,706,567,747,664,711,609,632,725,850,682,797,668,783,766,704,722,692,584,644,598,733,615,850,521,675,746,770,618,556,749,702,555,587,639,643,600,651,666,520,650,564,586,617,712,654,605,491,707,638,683,815,645,645,683,705,647,786,534,602,695,553,516,655,849,520,568,695,807,642,703,556,585,587,524,556,504,731,651,675,657,686,690,567,557,446,850,637,499,622,684,612,813,850,795,628,565,601,802,614,434,522,550,599,493,755,605,708,699,763,743,660,619,739,769,692,560,607,630,767,543,776,535,549,844,586,583,701,726,829,749,743,619,699,749,600,760,528,630,683,677,669,693,612,719,702,755,514,753,548,850,612,628,479,724,512,638,834,781,707,670,663,624,598,619,792,683,691,765,508,637,667,575,744,567,502,609,715,541,850,595,650,625,817,526,850,598,613,709,678,720,662,525,662,770,721,633,701,556,639,632,456,729,632,433,802,670,738,706,592,522,746,651,494,753,671,696,577,587,712,498,660,678,530,559,624,592,767,653,678,586,550,643,612,674,657,724,500,688,599,631,634,545,644,690,711,712,627,694,534,603,808,723,585,706,671,597,646,801,731,620,484,647,688,680,689,513,553,689,517,731,687,507,468,682,603,522,629,729,574,677,627,788,697,578,519,632,679,699,615,622,755,767,752,633,717,585,751,754,495,650,529,585,668,591,731,754,650,588,712,691,771,678,719,610,722,758,709,634,678,633,710,640,656,551,786,561,807,602,727,678,730,596,686,684,797,658,653,641,656,750,768,568,706,430,745,747,657,639,704,651,706,632,751,767,741,651,601,520,626,811,730,604,499,754,716,636,470,444,809,850,637,512,774,641,586,611,660,532,557,730,535,773,510,539,690,821,687,557,532,540,705,542,706,765,529,714,582,609,518,791,747,565,735,697,813,772,606,667,637,542,762,698,850,621,671,775,504,751,691,841,709,673,541,661,784,742,850,443,778,529,678,516,469,786,703,579,565,443,589,691,711,775,621,350,668,633,697,734,434,646,764,727,724,749,706,728,636,634,627,518,687,622,693,450,664,663,660,579,655,683,655,575,574,795,776,707,705,678,663,748,677,634,350,727,773,675,649,552,761,622,615,681,768,617,452,807,567,603,617,701,820,438,600,782,638,850,741,689,743,493,416,725,497,537,706,651,720,797,543,454,691,510,792,721,765,850,681,586,753,593,674,610,652,850,740,637,685,558,677,592,652,662,543,675,643,611,412,638,824,683,562,599,753,594,657,716,850,664,558,606,776,557,614,620,695,729,571,457,559,664,500,782,708,681,674,697,774,624,747,715,808,678,813,687,832,668,526,457,649,669,668,466,685,610,582,702,556,812,645,809,560,744,731,471,686,668,575,435,743,580,599,534,680,631,485,699,712,603,850,584,604,586,467,520,683,557,613,786,593,670,657,718,623,496,429,606,499,642,641,673,570,472,550,625,516,682,620,626,623,569,724,678,713,631,846,660,567,731,693,772,657,774,667,516,551,542,623,701,583,731,461,702,565,711,664,518,728,585,573,568,602,603,687,741,469,477,737,835,717,562,758,408,650,582,706,567,720,631,623,514,650,673,504,723,645,664,760,766,634,640,784,547,608,547,612,573,615,710,674,702,616,688,605,676,708,745,661,726,475,751,645,775,540,591,596,573,577,830,663,421,718,655,712,663,640,577,546,802,590,594,577,541,781,806,723,535,768,653,803,545,581,513,731,727,560,766,630,652,729,629,667,671,768,732,546,630,765,704,470,688,685,567,720,609,521,556,662,704,750,619,468,435,529,702,608,576,666,730,647,516,711,736,768,427,686,690,647,714,736,608,809,745,781,527,595,850,569,728,473,738,659,597,445,671,656,658,698,655,772,681,688,633,735,521,541,612,562,703,710,731,703,618,689,718,608,749,753,630,693,838,756,775,635,705,481,727,595,535,578,597,449,850,494,676,818,712,672,636,698,597,717,614,708,507,581,579,504,737,540,609,778,621,665,608,680,663,627,607,681,766,694,411,742,673,529,519,573,453,798,693,637,672,597,543,695,584,652,601,628,607,646,572,801,597,613,529,794,557,499,544,739,458,528,773,646,564,624,682,726,560,382,457,673,584,629,584,724,644,676,499,598,655,559,543,679,594,586,776,699,847,582,648,618,543,642,462,640,740,773,583,589,509,612,505,546,681,762,786,629,787,713,541,451,644,686,847,765,678,539,800,799,629,734,542,414,675,683,748,596,642,499,649,739,616,560,427,435,633,443,727,674,661,619,562,633,551,720,688,635,561,850,636,461,771,713,658,586,737,742,824,701,623,744,698,616,662,594,685,742,678,651,585,579,722,613,694,550,741,668,529,636,563,767,644,780,635,641,593,540,663,630,605,710,755,641,737,695,466,558,665,737,654,619,845,727,582,716,660,664,801,615,718,667,670,590,739,373,418,837,645,552,580,684,634,607,802,736,629,737,718,561,641,677,641,658,659,567,584,709,690,627,765,645,716,771,687,717,524,679,538,752,846,532,670,597,627,700,766,488,694,639,705,810,638,595,575,850,419,640,570,640,689,725,751,544,768,648,577,639,686,657,613,701,578,689,687,499,693,737,651,753,523,458,643,638,685,684,670,701,705,593,651,741,596,581,689,544,718,583,663,666,524,599,667,727,689,639,678,523,650,744,697,800,664,740,835,559,676,613,713,751,523,775,608,673,616,650,655,782,781,593,505,707,692,813,850,753,850,671,791,624,649,732,664,789,680,701,684,586,522,739,835,790,671,560,651,682,808,644,688,617,738,663,515,845,639,557,543,585,610,727,540,418,660,850,618,642,850,739,508,667,741,592,651,773,850,550,783,777,659,727,603,644,647,648,721,524,626,569,578,769,694,664,646,779,782,769,655,623,705,686,678,738,703,554,582,644,724,593,710,631,739,644,652,554,483,669,841,662,821,783,850,559,602,563,695,546,719,539,632,772,708,668,738,785,597,531,509,508,749,621,659,634,675,770,736,524,674,700,741,455,608,776,635,746,692,683,591,581,684,561,718,590,573,350,504,813,641,662,497,716,526,760,669,655,547,648,790,744,761,750,680,704,521,452,695,850,625,608,715,834,469,480,527,834,583,696,606,713,821,550,675,748,606,726,547,758,596,720,674,756,649,613,643,600,735,585,724,635,472,590,651,686,606,781,593,793,791,850,698,846,765,574,617,581,710,550,533,779,763,563,678,644,682,625,733,512,642,737,575,543,521,637,714,726,680,812,757,710,516,803,560,679,526,485,625,773,530,616,651,586,607,724,733,667,700,659,710,760,677,798,758,715,752,586,818,490,610,627,533,708,681,690,656,673,806,648,501,556,627,652,807,708,619,601,445,800,554,714,656,520,480,660,532,679,780,747,705,732,515,816,641,509,601,527,455,803,553,724,610,559,825,819,772,685,506,642,627,600,653,762,569,756,673,637,644,658,649,603,820,712,645,705,590,631,604,643,690,558,637,648,652,808,551,711,467,789,602,576,584,593,705,595,699,516,838,587,750,581,484,576,567,638,646,658,590,546,603,619,678,459,671,501,719,681,706,763,716,507,678,775,544,756,757,742,591,667,787,718,521,607,633,588,724,720,521,620,505,728,486,584,687,771,678,751,670,675,684,637,760,662,680,604,764,521,684,795,678,589,660,646,706,730,606,690,645,579,481,492,739,624,682,701,718,496,543,616,635,652,688,678,757,667,725,632,694,803,814,611,755,425,850,677,797,692,735,609,700,526,693,748,657,739,784,744,645,669,615,724,850,625,635,724,550,645,714,520,633,537,764,795,573,702,740,479,627,479,623,512,609,518,833,758,611,583,610,637,683,774,677,741,498,655,613,602,659,673,606,775,841,714,597,726,644,800,771,516,709,772,792],\"xaxis\":\"x\",\"y\":[101348.88,112542.58,113931.57,93826.63,79084.1,149756.71,10062.8,119346.88,74940.5,71725.73,80181.12,76390.01,26260.98,190857.79,65951.65,64327.26,5097.67,14406.41,158684.81,54724.03,170886.17,138555.46,118913.53,8487.75,187616.16,124508.29,170041.95,38433.35,100187.43,53483.21,140469.38,156731.91,81898.81,34410.55,142033.07,27822.99,114066.77,98453.45,40812.9,178074.04,70154.22,181297.65,94153.83,194365.76,158338.39,126517.46,119708.21,117622.8,90878.13,194099.12,198059.16,86424.57,116978.19,164040.94,40014.76,113410.49,87107.57,45613.75,1643.11,46775.28,84509.57,126494.82,178798.13,99398.36,92840.67,27758.36,110431.51,196673.28,113656.85,18203.0,28373.86,33953.87,44203.55,58426.81,145562.4,22388.0,139161.64,148210.64,194239.63,98301.61,171413.66,136458.19,26019.59,159235.29,1907.66,114675.75,128643.35,151869.35,93251.42,156791.36,174205.22,147132.46,109614.57,172290.61,85982.47,121277.78,64595.25,197276.13,99645.04,6534.18,161848.03,167162.43,41970.72,60536.56,177655.68,30984.59,10054.53,36976.52,71862.79,99449.86,63082.88,27231.26,86797.41,22994.32,101300.94,74169.13,115638.29,31766.3,199725.39,120834.48,38131.77,100130.95,141069.88,198129.36,183646.41,110265.24,8636.05,46824.08,171378.77,167256.35,124226.16,114935.21,35608.88,16459.37,124411.08,34941.23,167784.28,93165.34,75161.25,8590.83,189543.9,180427.24,193318.33,159123.82,126213.84,54141.5,141075.51,24495.03,74836.34,878.87,89520.75,149892.79,180800.42,98646.22,109041.53,17941.16,82996.47,92067.35,104719.66,112687.57,84699.56,83473.82,47125.11,106977.8,55582.54,139874.43,162503.48,196499.96,40721.24,53134.3,164017.89,155996.96,5472.7,112187.11,146457.83,27286.1,130553.47,179351.89,94774.12,8080.85,19482.5,48071.61,174531.27,55470.78,8546.87,95857.18,194945.8,131521.72,196108.51,148564.76,92982.61,17675.36,114996.43,86957.42,128077.8,600.36,43001.46,158591.12,47847.19,10488.44,5978.2,121409.06,146145.93,14374.86,94670.77,179670.31,199304.74,151954.39,142513.5,158264.62,169381.9,169915.02,88852.47,40645.81,60427.3,157959.02,133007.34,176576.62,34888.04,28737.71,98178.57,125010.24,167984.61,4861.72,108872.45,198252.88,26960.31,85746.52,77206.25,61048.53,111981.19,62232.6,156105.03,150135.38,93146.11,33462.94,144375.0,55803.96,89048.46,162812.16,136259.65,124052.97,74158.8,45071.09,62030.06,131953.23,79414.0,199638.56,157577.29,134420.75,99805.99,97932.68,170968.99,57558.95,176713.47,34283.23,198637.34,156917.12,50457.2,140075.55,65323.11,64323.24,14956.44,111879.21,18606.23,123137.01,148528.24,13898.31,81259.25,161051.75,191599.67,48559.19,186339.74,33159.37,93883.53,110899.3,11199.04,189992.97,164255.69,152167.79,33949.67,68143.93,47251.79,25885.72,192633.85,34577.36,161229.84,100816.29,181694.44,79078.91,137316.32,194926.86,51285.49,150401.53,112491.96,73656.38,106636.89,155853.52,162599.51,103737.82,160990.27,15462.84,10334.05,190686.16,94440.45,28257.63,170034.95,31824.29,127166.49,44937.01,188603.07,145111.37,171463.83,182822.5,87213.33,57175.32,120540.83,28714.34,85426.28,46170.75,64448.36,16278.97,182855.42,50404.72,107640.25,134132.65,103480.69,108761.05,179012.3,95145.14,72143.44,19162.89,144680.18,177772.03,5597.94,116828.51,174652.51,2010.98,14109.85,43527.4,86099.23,161574.19,38970.14,127587.22,30380.12,90908.95,138275.01,32171.79,126143.23,129892.93,102416.84,18719.67,61936.22,78358.94,147224.27,160979.66,132298.49,174248.52,123547.28,32790.02,181543.67,2319.96,189543.19,10940.4,199493.38,188193.25,172572.64,189339.6,53512.16,34004.44,10598.29,113428.77,183487.98,187658.09,172459.39,21016.0,122381.02,128123.66,19570.63,188150.6,111020.24,123775.15,146700.22,145251.35,82463.69,15928.49,45886.33,186489.95,162922.65,9262.77,84932.4,71557.12,77405.95,417.41,71405.17,153400.24,371.05,67789.99,145894.9,183840.51,108887.44,154071.27,179291.85,56937.43,112239.03,45909.87,173779.25,125696.26,159585.61,106761.47,129590.18,80006.65,140451.52,187929.43,167155.36,191420.71,11384.45,94898.1,106781.59,159508.52,93524.19,87168.46,8128.32,125518.32,48963.59,98368.24,148584.61,27474.81,76192.21,134600.94,72467.99,199645.45,42749.85,136050.44,73564.44,85578.63,129826.89,119666.0,68052.08,164104.74,80190.36,84126.75,70179.0,118024.1,145704.19,183049.41,120906.83,100433.83,138777.0,124694.99,40084.32,119232.33,43921.36,62222.81,56577.0,164253.35,7666.73,68487.51,199273.98,186062.36,195711.16,36692.17,106920.57,48725.68,167036.94,68777.26,18924.92,71905.77,64833.28,184843.77,176730.02,20629.4,28415.36,77231.27,102750.7,34580.8,183598.77,147358.27,108469.2,20612.82,181196.76,160249.1,110783.28,144995.33,150227.85,53718.28,75248.3,14353.43,130486.57,100127.71,196356.17,9983.88,118974.77,194998.34,134901.34,72924.56,101057.95,142838.64,127059.04,116503.92,54405.79,88721.84,74135.48,111346.22,194902.16,31474.27,21198.39,186976.6,117202.19,143739.29,161811.23,98090.91,71095.41,13107.24,67110.59,88225.02,62256.87,135925.72,177815.87,126471.13,188574.12,119175.45,139093.73,115916.55,96463.25,112349.51,165303.79,166031.08,38411.79,77783.35,29871.79,59747.63,79919.13,76773.53,54018.93,70649.64,59093.39,127569.8,18260.98,73275.96,136129.49,153237.59,106841.12,109078.35,87822.14,126644.98,47414.15,41879.99,75808.1,47911.03,28737.78,2079.2,121562.33,55003.79,193131.42,191932.27,159418.1,191468.78,38913.68,705.18,138490.03,82970.69,76744.72,71244.59,12182.15,141210.5,191763.07,37938.74,74890.58,166698.18,62678.53,67740.08,161519.77,159835.78,30876.84,14858.1,75685.97,144183.1,65170.66,82526.92,169161.46,109291.39,6057.81,77077.14,54954.51,179614.8,35588.07,117356.14,160696.72,147278.43,56594.36,1299.75,25095.03,146326.45,38296.21,164061.6,107811.28,30838.51,9221.78,33738.27,110916.15,169654.57,69829.4,54926.51,94728.49,80393.27,111307.98,19834.32,78397.24,86410.28,172749.65,1002.39,13601.79,77866.91,175296.76,121751.04,89593.26,193437.89,86945.0,183318.79,71154.1,151887.16,75888.65,89566.74,26475.79,126355.8,93839.3,7698.6,145593.85,45042.56,61108.56,57553.98,62674.42,12120.79,50129.87,55022.43,117834.91,168840.23,24234.11,190627.01,156618.38,42334.38,110784.42,173683.0,27046.46,20598.59,104991.28,8996.97,64420.5,145700.22,196335.48,14781.12,108139.23,19287.06,9567.39,132210.49,21600.11,199661.5,124341.49,15766.1,33642.21,117704.65,58803.28,137537.22,131300.68,84174.81,160941.78,143954.99,56297.85,8404.73,30020.09,58137.42,47472.68,19131.71,187288.5,17603.81,67020.03,147802.94,41610.62,44255.65,78416.14,137254.55,151303.48,86333.63,89801.9,29358.57,181600.72,124118.71,38867.46,31106.67,67611.36,77837.63,6078.46,177896.92,123882.73,15304.08,76569.64,120657.32,16436.56,107667.91,95611.47,19799.26,123214.74,71709.12,149066.14,20451.99,32825.5,6232.31,10357.03,147794.63,116973.48,129964.94,92816.86,172114.67,16649.31,144517.19,182038.6,24210.56,172175.9,47578.45,150694.42,177683.02,66088.83,169291.7,117140.41,79510.37,77108.66,9679.28,81753.92,131372.38,25310.82,187925.75,98820.39,64166.7,176924.21,90055.08,72814.31,168290.06,161767.38,44420.18,37147.61,125381.02,149853.89,161435.02,102925.76,70899.27,145936.28,54227.06,59280.79,126952.5,130567.02,73294.48,3937.37,2383.59,14279.44,141300.53,78140.75,117431.1,72008.61,60887.58,194764.83,88705.14,35817.97,31520.4,157908.19,142200.15,182055.36,157552.08,120284.67,24506.95,47271.61,41176.6,9468.64,123880.19,158887.09,117036.38,120415.61,16064.25,52615.62,121210.09,192247.35,68759.57,75937.47,84569.13,190696.35,67468.67,104435.94,47166.55,119899.52,173498.45,93249.26,142917.54,111755.8,108543.21,180345.44,99444.02,109563.28,92568.07,37976.36,103315.74,173952.5,34673.98,46163.44,140676.98,151738.54,14679.81,175544.02,181964.6,136886.86,122218.23,180439.75,190419.81,58685.59,89017.38,50051.42,146041.45,191166.09,103516.08,164825.04,172557.77,84320.94,122662.98,72085.1,110932.24,143635.36,3710.34,179843.33,10643.38,131167.98,10553.31,130928.22,157003.99,138527.56,167032.49,41642.29,9677.0,147012.22,80553.87,30730.95,140134.43,91936.1,178252.63,198674.08,28266.9,92381.01,135180.11,27330.59,125305.34,149648.45,59887.15,45041.32,113316.77,39087.42,7330.59,95463.29,167848.02,93953.84,174227.66,135399.21,195635.3,97508.04,188083.77,116704.25,97614.87,186884.04,131501.72,24302.95,110510.28,108488.33,197015.2,27689.77,9217.55,15068.18,7797.01,4400.32,182025.95,122763.95,38152.01,63163.99,73418.29,17978.68,115136.51,149575.59,60917.24,142548.33,157878.67,12796.43,18657.77,134589.58,10350.74,66013.27,5907.11,74077.91,77294.56,54359.02,156124.93,94820.85,155155.25,128702.1,22745.5,71865.31,84294.82,149139.13,185489.11,176407.15,92027.69,43932.54,115789.25,125777.28,18461.9,79633.38,121542.29,94739.2,93302.29,193793.78,74835.65,56999.9,57236.44,81483.64,26752.56,9200.54,22447.85,189122.89,16161.82,68600.36,447.73,15650.73,149599.62,90304.01,115676.38,38812.67,34338.21,823.36,135482.26,10656.89,116467.35,96823.32,171096.2,79881.39,157862.82,127951.81,191074.11,157333.69,133457.52,130789.6,128373.88,194273.2,5684.17,131043.2,21228.34,43250.3,4389.4,189271.9,102284.2,156774.94,69865.49,85523.24,51219.8,7222.92,23971.33,132173.31,113639.64,39768.59,108732.96,117349.19,78004.5,152417.79,26057.08,79972.09,107125.79,47679.14,134509.47,153265.31,179883.04,138882.98,9855.81,67046.83,56388.63,77764.37,130590.35,151912.49,151083.8,777.37,69454.24,11723.57,91565.25,79616.37,102299.81,104533.51,140765.57,66214.13,139816.1,140139.28,102297.15,145765.83,83912.24,78439.73,6776.92,9903.42,91561.91,4027.02,116111.51,184023.54,67124.48,50070.59,53793.1,45261.47,36721.4,130009.85,175380.77,127847.25,138231.7,48673.18,70668.77,199505.53,169583.18,49063.42,63337.19,60083.11,48606.71,165580.93,194010.12,69263.1,88698.83,63030.97,59668.81,184230.23,64050.19,81853.98,154642.91,145679.6,30781.77,81622.52,196474.35,176276.1,35113.08,64299.82,180969.55,138176.78,86733.61,7418.92,166376.54,140881.2,4460.2,110472.12,86460.28,16500.66,114020.06,131660.31,52449.62,161465.31,20018.79,176318.27,50488.91,30379.6,161326.73,45348.08,180251.68,34925.56,126555.74,187921.3,136390.88,78566.64,166038.27,140385.33,38629.3,24998.75,128815.33,19376.56,31904.31,173179.79,22485.64,196668.51,136506.86,36278.89,163254.39,99654.13,20207.02,4195.84,112340.2,2035.94,132295.95,177383.68,90284.47,61349.37,196466.83,70758.37,13892.57,9684.52,40546.15,136603.42,133172.48,152821.12,147715.83,43169.15,76755.99,73406.04,176728.28,98309.27,6203.66,176791.27,50679.48,150580.88,80120.19,151645.96,55072.32,115068.99,149471.13,46522.68,189995.86,46369.57,30722.52,70810.6,106663.46,175836.03,85646.41,101485.72,191734.67,101839.77,4888.91,193132.98,193518.76,93982.02,197000.92,106837.06,115161.28,196260.3,96404.38,97658.66,49108.23,195651.66,111698.0,171707.93,66721.98,57876.05,177994.81,105125.65,17439.66,172668.39,753.37,98686.4,107047.92,152153.74,34338.04,173878.87,159254.29,54776.64,134594.99,41724.72,110527.71,8996.79,190200.53,115333.43,143619.52,58467.08,12128.69,49872.33,139735.54,60891.8,100862.54,76640.29,126013.58,87347.82,77370.37,62722.44,196257.68,81723.8,31299.71,63495.86,166520.96,150242.44,27345.18,87000.39,44912.7,179978.68,145759.7,14121.61,66232.23,190296.76,172782.69,99128.13,178341.33,146992.24,151314.98,92915.84,58974.0,174627.06,79579.94,50771.16,153537.55,132975.39,85208.93,170214.82,100615.14,186105.99,55119.53,28760.99,171021.44,176678.72,28667.56,197238.03,139994.68,151169.83,118113.64,34453.17,64872.33,10956.82,36885.85,168053.4,155227.0,38409.79,75279.39,158302.59,11525.72,94993.04,173912.29,41139.05,58019.95,164128.41,46998.13,177279.41,75832.53,61094.53,30117.44,179227.12,52110.45,75248.75,184317.74,158553.1,95686.42,71682.54,1790.48,139431.0,118358.54,130827.88,119404.63,162703.0,172665.21,170142.09,73977.23,60906.12,194867.27,193716.56,14633.35,31730.32,20063.63,99792.82,37654.31,192449.02,181208.47,155165.61,121504.18,61569.07,123269.71,31272.14,62825.03,184056.45,48924.73,191111.02,54184.06,64381.33,78770.86,116766.79,32916.29,50972.6,122066.5,65996.9,79577.38,130529.13,172629.67,15216.53,17512.53,131852.01,181945.52,91482.5,77119.45,95611.74,80428.42,163714.92,27375.15,73873.65,139266.48,131772.51,173454.07,67552.71,34765.33,120219.14,90212.38,164975.82,1285.81,83679.46,34548.74,74275.08,7278.57,162053.92,199336.63,62347.71,91711.66,79240.9,76679.6,162511.55,21360.88,54487.43,53931.05,103165.15,146359.81,28370.95,10023.15,192928.82,50485.7,131662.47,152235.3,68093.23,80061.31,149583.67,7631.27,33082.81,121883.87,100722.72,47093.11,177624.01,106149.48,16874.92,54560.79,153605.75,44390.38,63218.85,41626.78,24765.53,28280.8,89043.19,17294.12,126702.41,13123.41,167973.63,125870.79,91972.49,155593.74,67788.49,62615.35,107415.02,166526.26,120107.1,188227.8,91560.63,166495.2,165614.4,86372.24,2755.53,83594.51,103706.41,5924.38,58203.67,49361.84,73585.18,95135.27,38794.57,198926.36,56099.86,117023.08,62083.0,141822.8,185387.14,57461.13,120380.12,133020.9,13589.93,77830.36,136610.02,17160.94,176843.53,114996.33,196990.79,133146.03,185667.72,24020.49,185750.02,178045.97,199857.47,43595.9,122810.53,3440.47,35989.41,17163.75,44506.09,17848.3,76209.56,141476.56,60032.46,100686.11,96429.29,15795.88,116547.31,191260.74,173870.39,117273.35,92277.47,44244.49,78133.48,103402.88,137835.82,20670.1,77469.38,57572.38,75884.65,146955.71,67040.12,178418.35,30807.02,143835.76,130883.9,194343.72,9796.69,47310.24,141148.21,111138.25,114182.07,127560.77,18082.06,136330.26,34121.81,56246.69,191417.42,23317.88,144675.3,175161.05,14928.8,161479.19,133501.94,23703.52,115985.38,43229.2,94862.93,142377.69,135635.25,148487.9,58976.85,76254.83,55857.48,77867.23,22878.16,114469.55,96754.8,125154.57,113597.64,121408.55,109219.43,50230.31,177719.88,131211.86,82152.83,216.27,1713.1,136910.18,20243.97,86043.27,126561.07,64350.8,10472.31,95941.55,125222.36,170950.58,236.45,31517.16,181610.6,156593.09,4272.0,163587.9,175843.68,166164.3,61796.64,21439.49,19225.85,132547.02,62688.55,21760.96,154460.68,8065.0,173365.9,69428.79,12757.14,180426.2,43093.67,68594.0,197996.65,122953.0,76821.24,141400.51,41921.75,175664.25,117916.63,194690.77,166677.35,160131.58,123622.0,113483.96,79618.79,24472.23,177025.79,103349.74,63606.22,14490.79,105080.53,83499.89,143598.7,36091.91,13007.89,6101.41,48314.0,197111.99,110299.78,30114.32,98894.64,49826.68,10074.05,20769.88,163427.18,140068.77,83206.19,111402.97,92873.5,94780.9,16607.15,161954.43,194733.28,163524.7,48260.19,86678.48,3064.65,112124.98,120801.65,52193.23,56636.28,69372.88,164038.07,118982.51,27472.07,36754.13,46416.36,152872.39,165227.23,75927.35,172930.28,36108.5,36202.74,131886.46,133992.36,96658.26,135112.09,163944.18,53843.71,122398.84,64804.04,19370.73,126192.54,135459.02,94815.04,188366.04,178512.52,97906.38,72861.94,195978.86,19448.93,32635.54,171733.22,46176.22,179634.69,191521.32,67998.45,44731.8,124532.9,160968.44,27341.63,53994.64,91633.53,189613.12,60706.33,154767.34,196853.11,195775.48,3086.89,70618.0,55034.02,168035.62,128449.33,199249.29,149474.69,126726.33,147554.26,149399.7,93536.38,58883.91,154271.41,122022.89,50299.14,187800.63,171344.09,40920.59,63940.68,29483.87,179056.23,129273.94,55558.51,23305.85,17128.64,74641.9,154486.01,3185.67,88463.63,65682.93,140586.08,117232.9,116137.01,105533.96,81514.06,164966.27,23631.55,105433.53,90591.15,127014.32,90905.26,8651.92,15467.98,79915.28,69361.95,86935.08,7597.83,116957.6,157884.83,77981.54,126369.55,191973.49,142940.39,48869.67,73131.73,120037.36,193995.37,179453.66,80963.92,15658.99,92708.1,26542.17,65010.74,106892.91,185210.63,4035.46,177805.44,68831.72,114732.62,22299.27,197283.2,179485.96,17699.48,118490.8,133292.94,58170.24,107137.3,145071.33,85495.24,101139.3,10511.13,137916.49,193383.13,189826.96,144113.42,143538.51,77677.14,183717.94,92180.62,28690.9,85891.02,42050.24,110142.34,179269.79,90558.24,162022.47,66926.83,108891.3,71811.9,92223.59,78065.9,59679.9,85000.32,159808.95,129001.3,113557.7,147758.51,28865.59,160607.06,100015.79,54478.52,141677.33,84077.6,106981.03,73551.44,115842.1,107013.59,24938.84,51113.14,33828.64,128875.86,194700.81,158974.45,198182.73,141404.07,4175.68,126876.47,41052.82,105760.01,27937.12,79355.87,102180.27,95719.73,57121.51,162478.11,194808.51,124045.65,17987.4,133653.38,25101.17,33330.89,2401.26,178361.04,162697.93,80607.33,23146.62,89893.6,3173.31,123218.81,74588.41,31288.77,58561.31,148804.36,51117.06,164537.17,61977.82,193362.99,47722.79,18510.41,65057.71,46374.64,42039.67,138192.98,22735.45,186910.74,75285.47,130260.11,15034.93,175709.4,101069.71,153012.13,86173.92,197548.63,37042.8,121085.72,194113.99,101273.23,118711.75,582.53,192381.21,136507.69,138871.12,60728.89,189175.71,102547.56,36706.56,44756.25,132870.15,16287.38,121945.42,131173.9,88669.89,160835.3,24761.36,138526.96,157442.75,105295.77,97782.92,68255.88,108790.95,143706.18,148993.47,95277.15,152956.33,94925.62,87308.18,83978.86,37543.93,104889.3,149705.25,16445.79,54689.16,194913.86,146371.72,156603.7,182566.76,60194.05,36579.53,5862.53,143030.09,62700.08,99017.34,187987.01,123454.62,10921.5,53817.23,81617.4,192298.84,143882.25,53130.41,190454.04,111906.0,113177.95,30529.88,18800.13,46127.7,75585.48,63085.94,74415.2,139889.15,7267.25,186826.22,162149.07,180150.49,83478.12,26163.74,44381.06,136365.0,99294.22,173464.43,127543.81,52526.65,32589.45,47161.25,45424.13,8018.49,195668.0,133167.11,123602.11,186238.85,158668.87,9249.36,116581.1,44688.08,148608.39,188670.9,107067.37,61759.33,192776.64,46735.19,169117.74,89081.41,105227.86,128246.81,94554.74,33823.5,97468.44,164137.36,191313.7,65257.57,178222.77,179445.28,65500.53,97877.92,113051.57,105969.05,122996.76,68087.15,21478.36,158437.73,76551.7,15887.68,33741.84,20652.69,112781.5,119996.95,6981.43,185211.28,78436.36,139048.0,136329.96,14721.8,3430.38,160450.21,1485.27,19720.08,41183.02,139410.08,163691.48,115147.33,74945.11,180363.56,196021.73,125979.36,111421.77,115818.51,179360.76,82351.06,192744.23,113408.47,124641.42,54871.02,98820.09,45570.84,182336.45,118825.56,103372.79,43486.73,40062.99,46175.7,120830.73,5967.09,122134.56,62972.13,174815.54,192841.13,33310.72,72876.43,50911.41,142400.27,48778.46,156361.58,133807.77,179128.69,91810.71,173195.33,182270.88,177130.33,49954.79,141896.74,120661.71,149814.68,41782.7,46172.47,2704.09,6726.53,170764.08,45742.42,162304.59,80883.82,118508.09,69697.74,183575.01,161203.6,143752.77,121894.31,147055.87,172033.57,143774.06,139366.58,81776.84,190998.96,4470.52,135851.3,172372.63,135875.51,128124.7,167023.95,149807.01,54290.62,86013.96,79886.06,141959.11,66680.77,98640.15,142797.5,163581.67,163221.22,12440.44,145551.6,50908.48,30149.21,57769.2,156381.47,178123.86,51112.8,173783.38,174770.14,172063.09,155294.17,40320.3,134260.34,147090.9,132368.47,164741.5,63051.32,199761.29,55725.04,163145.5,57992.49,193093.77,57531.14,77242.19,153046.16,63405.2,106564.88,42763.12,168753.34,19483.35,158646.46,83172.19,76889.79,51554.58,105570.39,79495.01,52583.79,26848.25,10072.55,187296.78,104016.61,151310.16,62810.91,60830.38,116672.02,77304.49,52894.01,116471.43,4539.38,142367.72,110520.48,188258.49,197322.13,80241.14,172814.99,38410.74,17622.82,48021.71,88958.49,116343.09,166102.61,104353.26,115429.32,178106.34,132152.32,21521.38,27431.62,42143.61,106457.11,133831.37,164083.72,159207.34,84487.62,3674.71,12092.03,77475.73,41291.73,343.38,47432.43,127827.18,35633.15,182865.09,169386.81,149073.88,184107.26,22750.17,11950.29,152880.07,175252.78,174303.29,80701.72,198516.2,175756.36,82824.08,179866.01,159899.97,138504.28,127394.67,58961.49,103644.98,119647.7,28465.86,152979.14,190911.02,95794.98,189742.78,188574.08,183872.88,196555.32,112503.24,46864.0,65864.4,125167.92,177519.39,169653.32,118372.55,16481.12,138525.19,14608.0,81548.38,69608.48,68873.8,81102.81,81054.0,74149.77,99503.19,10109.47,58855.85,84402.46,49713.87,133537.53,124615.59,98090.69,42607.69,192434.11,60686.4,49463.44,81431.99,22909.56,65532.17,141053.85,3472.63,102083.78,1801.77,85185.44,119882.7,83715.66,23425.78,77326.78,156150.08,108577.97,133573.29,102057.86,47247.56,114566.47,184464.7,151401.33,70607.1,147074.67,105780.18,109496.45,137739.45,105140.92,113276.46,172531.23,64375.4,28434.44,46941.41,29333.01,193724.51,34967.75,55663.85,55753.12,176962.31,181507.44,61995.57,98349.13,59748.19,159840.51,6656.64,37141.62,37094.75,159475.08,51548.14,58719.63,7861.68,19199.61,178504.29,189016.14,156048.64,52876.41,19653.08,139451.98,128136.29,45206.57,190146.83,158313.87,96670.2,62163.53,88428.41,35908.46,168780.04,191263.76,83052.03,125962.02,164696.27,187011.96,55324.49,34335.55,17004.14,116331.42,22974.01,49725.16,87412.74,26136.89,126554.96,193321.3,90928.02,76510.46,120115.5,197984.58,142977.05,82522.61,150664.97,114153.44,171706.66,119071.56,143007.49,31302.35,71139.8,54122.89,120031.29,104076.51,175853.64,175795.87,15360.91,168460.12,181177.9,58363.94,20276.87,91514.62,76703.1,110887.14,109843.16,12577.21,179365.1,65816.53,124170.9,175015.12,115441.66,128247.03,141914.94,115566.57,175423.69,133447.49,114474.98,52044.66,180290.68,132034.13,20968.88,158735.1,196134.44,22374.97,161668.15,67339.34,56229.72,140991.23,177644.52,142342.55,154559.28,176570.28,191961.83,9452.88,165257.31,169763.89,160663.11,192072.1,93275.61,112269.67,2186.83,43075.7,12368.11,42410.21,190430.81,138394.37,172501.38,197916.43,7035.36,159676.55,80603.99,187599.8,94450.97,143981.27,26450.57,164482.92,84012.81,101192.08,175324.74,197226.32,99504.03,83700.66,28226.15,35321.65,41229.73,78970.58,107890.69,191870.28,7905.06,65731.53,145698.73,50046.25,60830.24,158853.98,111243.09,171014.69,170835.32,47775.34,139297.71,195167.38,160948.87,44965.54,52137.73,109296.18,20092.89,197804.0,118782.06,152876.13,135655.29,103970.58,35786.76,25325.07,18732.84,118522.73,89972.25,187194.15,106785.7,142516.35,73334.43,186612.47,123613.81,31368.08,40066.95,175969.19,10034.77,151167.94,191387.76,51229.17,87351.42,48984.95,182738.0,153535.27,125079.65,162321.26,3414.72,165082.25,52021.39,148256.43,122899.01,10771.46,18255.51,183566.78,175224.12,147913.56,180598.66,186136.48,7455.2,80552.11,25722.28,170996.86,20603.32,141763.26,122284.38,190011.85,128046.98,135662.17,7571.51,23596.24,92727.42,65156.83,60151.77,149097.38,35199.24,129451.29,145134.49,192709.69,139083.7,83629.6,35625.41,35338.96,15602.8,182355.21,89327.67,151903.6,11.58,77519.62,91423.69,106287.77,161800.77,80582.34,185094.48,172586.89,195649.79,145792.01,138510.01,168895.06,97983.44,85167.88,18210.36,13608.18,110457.99,31231.35,141582.66,14666.35,55400.17,174667.65,154189.08,142170.44,94499.06,182081.45,68562.26,88798.02,113781.99,121866.87,150390.57,60708.72,78858.07,56407.42,125698.97,23235.38,75732.25,179861.79,42976.64,10486.69,56794.73,28157.34,152422.91,167033.83,126082.18,181499.77,41967.03,186300.59,85412.54,23343.18,180698.32,136071.05,175149.2,146949.74,88920.68,45098.62,20339.79,108528.74,145560.38,199357.24,43106.17,137508.31,91957.39,120612.11,102921.17,31686.33,180002.42,28407.4,73743.95,186233.26,31728.86,48244.64,113266.28,71178.09,25684.93,29737.14,149922.38,180702.12,27597.59,95025.27,167035.07,116781.71,21170.81,29641.58,116520.07,44220.4,166188.28,140857.76,37024.28,27513.47,17744.72,4423.63,109718.44,107243.31,115288.24,41233.97,52952.24,78955.8,26025.6,174536.17,147311.47,77965.44,5635.63,81310.1,111421.45,190269.21,100950.48,113033.73,120663.57,187192.23,97825.23,169621.69,191557.1,103287.62,167538.66,64869.32,102426.06,107876.2,37294.88,89248.99,91973.63,16870.2,121681.19,33730.43,104786.59,94790.34,28726.07,67057.27,69079.85,179780.74,183572.39,142587.32,177844.06,197634.11,121053.19,149613.77,142.81,131766.67,53311.78,107665.02,109523.88,112132.86,113645.4,180890.4,70974.13,53379.52,158531.01,179267.94,84606.03,56984.58,116912.45,102999.33,132801.57,85455.62,98657.01,107948.72,67944.09,192892.05,187247.56,114722.42,111687.57,184182.25,52759.82,126451.14,12048.67,95804.33,197911.52,182531.74,168002.31,79450.61,60615.83,8643.21,172172.7,174434.06,194930.3,137476.71,94415.6,120376.87,97623.42,66238.23,131710.59,69052.87,56780.97,170072.9,191849.15,84803.76,31840.59,12096.61,44165.84,91406.62,83282.21,198446.91,7554.68,80416.16,164549.74,175477.03,137903.54,93795.86,67997.13,49492.15,35825.18,67494.23,73963.17,145159.26,123850.58,23822.04,45750.21,159773.14,84238.63,72330.46,26767.85,164768.82,1112.76,176680.16,43999.64,140746.13,152790.92,81537.85,7387.8,183038.33,138849.06,170333.38,60416.76,100240.2,2704.98,68815.05,64839.23,144494.94,185510.34,56055.72,155061.97,119817.19,16259.64,184654.87,5278.78,113244.73,8908.0,64490.67,154971.63,155786.39,129084.82,188533.11,13411.67,15733.19,73127.61,101704.19,101986.16,114442.66,15669.17,157486.1,131281.28,197001.15,128881.87,85101.0,149822.04,108040.86,135795.53,25867.67,130483.56,183479.12,77027.34,94141.75,4092.75,109257.59,104617.99,167705.07,103712.05,161242.99,6089.13,159777.37,7919.08,188274.6,27608.12,183569.25,145537.32,164717.95,76357.43,120158.72,151843.54,5698.97,122865.55,152665.85,192131.77,62851.6,140941.47,56767.67,177235.23,86242.18,34215.58,44406.17,165196.65,34542.41,74838.64,36980.54,111676.63,25858.68,177028.0,30990.16,136915.15,108457.99,131609.48,159737.56,142238.54,105890.55,194270.91,105443.47,173899.42,122823.34,13181.37,140780.8,78560.64,185855.21,128276.95,140197.42,32462.39,162253.9,30498.7,90280.7,32615.21,196142.26,16998.72,62980.96,185660.3,77331.77,97338.62,67234.33,143783.28,77661.12,89123.99,70810.8,17550.49,21497.27,124749.08,36051.46,143681.83,150694.58,170487.4,97684.46,53520.03,15200.61,196894.62,4969.13,26229.24,134034.32,198032.93,119882.86,133102.3,176395.02,193179.88,125062.02,143287.58,87236.4,93769.89,88965.46,30793.61,74532.02,113086.08,32574.01,130113.78,104722.47,14559.62,598.8,129697.99,36315.03,1114.12,70954.41,73470.98,91573.19,3154.95,88187.81,118855.26,125256.53,39016.43,145796.49,168816.22,73322.0,113677.53,124607.7,11276.48,136620.64,70523.92,51980.25,113481.02,49025.79,145937.99,25161.61,175753.55,24903.09,169719.35,179565.57,115337.74,48131.92,160828.98,145151.96,196293.76,161653.5,84635.64,159486.76,38596.34,27814.74,183893.31,140803.7,146585.53,40062.29,181300.32,84136.12,197594.34,125953.83,75465.41,177737.07,7144.46,155639.76,162428.05,12457.76,14917.09,182184.09,129984.2,194872.97,117507.11,157527.6,92612.88,74850.84,127413.0,69584.3,198814.24,162643.15,114092.52,68860.3,16150.34,115227.02,170621.55,103099.22,172495.81,38772.82,44946.29,146007.7,145558.42,193312.33,40257.79,46677.9,153887.93,103108.33,58652.23,91624.11,65986.48,113845.19,67607.9,145471.94,124071.71,67502.12,78707.97,171189.83,149381.32,100335.55,152698.24,41192.95,132540.33,96875.52,152305.47,49672.01,133997.53,50454.8,16402.11,67803.83,9241.78,100601.73,98734.15,160574.09,26015.8,187172.54,55763.66,75848.22,40313.47,23864.21,51380.9,93551.36,169415.54,6935.31,25399.7,66256.27,114709.13,158357.97,164815.59,132127.69,146637.45,90256.06,34827.43,22074.48,109805.17,100478.6,97416.34,24207.86,69132.66,9376.89,43046.7,20856.31,187048.72,53420.53,37013.29,89566.64,149913.84,18066.69,26912.34,173511.72,146785.44,1050.33,89587.34,74405.34,54409.48,3647.57,198874.52,53412.54,194867.78,150452.88,57807.05,107534.32,194073.33,126233.18,182354.46,120586.32,50578.4,86575.46,153392.28,115509.59,82176.48,63717.49,198745.94,5719.11,20058.61,170638.98,30607.11,37171.46,42589.33,66799.28,101866.39,49284.0,27445.4,70760.69,104502.02,165407.96,113580.79,45978.39,152012.36,77349.92,47322.05,38772.65,24489.44,14466.08,63142.12,41858.43,127443.82,84151.98,58595.64,37240.11,114522.68,72549.27,176712.59,152855.96,73371.65,70323.68,9663.28,142514.66,118623.94,68400.14,115291.86,170382.99,112946.67,79812.77,19862.78,158610.89,191212.63,61931.21,58043.02,22247.27,31448.52,146875.86,116081.93,73669.94,93959.96,158918.03,198193.75,13160.03,4660.91,180197.74,63023.02,118971.74,154700.61,97577.17,48990.5,140262.96,130189.53,16301.91,126962.41,158750.53,199644.2,144272.71,98320.27,64129.03,181221.09,163809.08,171457.06,15801.02,102950.79,174918.46,193160.25,5831.0,82298.59,130686.59,52885.23,68985.99,35367.19,196241.94,170705.53,126477.41,159618.17,195395.33,168285.85,138052.51,71179.31,55556.3,31705.19,186118.93,195580.28,54113.38,127528.84,60231.74,156878.42,182784.11,129690.5,113860.81,184524.74,36124.98,121316.07,185630.76,71133.12,32020.42,162760.96,175178.56,177099.71,66406.37,59559.81,175750.21,174311.3,171716.81,189362.39,180716.1,116977.89,185105.44,35046.97,36251.0,103174.5,122642.09,122937.57,8757.39,125782.29,122487.73,20066.38,55473.15,38962.94,63795.8,163060.43,26578.69,5066.76,140497.67,146156.98,199316.19,103944.37,138021.36,68621.98,28149.06,135169.76,116537.96,105922.69,88211.12,26900.63,3494.02,113163.17,19324.5,189678.7,26387.71,106276.55,45015.38,173495.77,52581.96,146339.27,182609.97,197890.65,6225.63,123977.86,170195.4,114190.3,27022.57,59457.0,165038.41,154181.41,134960.98,65708.5,117374.22,77703.19,177651.38,60954.45,151924.9,26318.73,147557.71,125918.17,190803.37,11043.54,119100.05,140579.17,37731.95,1852.58,172049.84,133591.11,192751.18,193828.27,55775.72,102280.29,44965.44,170661.02,197145.89,192359.9,141210.18,100557.03,130805.54,92606.98,123956.83,102758.43,94876.65,94811.85,67840.81,4050.57,134665.25,181647.13,33282.84,27965.0,68343.53,198161.07,196858.4,120511.03,30886.35,2743.69,167778.62,132404.64,144423.17,181204.5,182726.22,120880.72,26812.89,66732.63,100834.22,107815.31,34665.79,147093.84,36942.35,16460.77,45610.63,184954.11,47795.43,196789.9,173425.68,36221.18,174738.2,67131.3,165692.03,194691.95,129525.5,146511.2,51752.18,35418.69,57995.74,108152.75,166144.98,101737.8,33326.71,81140.09,140173.17,166513.49,103232.6,120736.04,15832.43,188772.45,114323.66,181534.04,102640.52,158585.17,178722.24,153955.38,65374.86,102986.15,136643.84,77063.63,9633.01,43496.36,24267.28,59354.24,28269.86,143162.34,20199.3,48606.92,89013.67,59890.29,106655.88,156439.56,24176.44,43507.1,132005.85,80496.71,88947.56,12639.67,94248.16,11865.76,141449.86,149457.81,119814.25,24924.92,139481.53,41268.65,1351.41,147489.76,111175.09,95963.14,43128.95,137674.96,153383.54,96660.76,115818.16,37898.5,145222.93,41219.09,59249.83,116747.62,116249.72,61257.83,141798.98,102638.35,13210.56,35550.97,104469.06,142935.83,195486.28,63170.0,58320.06,177747.03,19632.64,18424.24,18897.78,97879.02,63197.88,75860.01,78622.46,23598.23,13460.27,19998.31,185075.63,135815.38,44251.33,136349.55,52693.99,93767.03,197866.55,126812.85,79503.05,129936.53,175094.62,130379.5,153228.0,111285.85,49553.38,98015.85,88481.32,66879.27,24802.77,21312.16,190263.78,72873.33,57764.65,110273.84,55500.17,57541.08,90384.26,120694.35,178028.96,180990.29,155407.21,33676.48,89666.28,127558.26,77272.62,107665.68,184044.8,91510.71,87363.56,117505.07,180626.68,93478.96,114672.64,13387.88,173240.52,27557.18,5552.37,88307.87,33879.26,181429.87,102655.31,96555.42,189366.03,12847.61,143433.33,183983.82,169137.24,163365.85,123181.44,16447.6,173948.4,192154.66,198224.38,67202.74,68789.93,147964.99,161069.73,127749.61,191914.37,185791.9,184570.04,130446.65,82867.55,187632.22,56759.79,34180.33,158545.25,182337.98,84175.34,22197.8,189641.11,154491.39,90020.74,197264.35,31933.06,8755.69,52820.13,20008.46,34607.14,177384.45,165702.64,167889.1,133122.62,140454.14,59938.81,12016.79,81251.24,134169.85,94888.6,175696.16,96758.58,128019.48,146895.36,139356.3,2923.61,121232.51,2053.42,6382.46,158750.13,74028.36,44099.75,17323.0,175043.69,146388.85,2465.8,47799.15,165562.84,72927.68,38270.47,120893.07,188377.21,55902.93,4523.74,102195.16,60843.09,25548.47,134462.29,132702.64,75698.44,105642.43,102153.75,166677.54,24218.65,117122.5,51871.95,84321.03,160213.27,88695.19,6123.15,167749.54,71638.0,198064.52,54914.92,190659.17,51637.67,119333.38,127095.14,93541.14,89289.54,108762.16,28238.25,34130.43,7926.35,27330.27,79997.14,50213.81,60920.03,197699.8,92809.73,163516.16,62449.07,115800.1,110359.68,78695.68,128378.04,155248.62,123499.27,99920.41,53289.49,67622.34,11783.1,62402.38,186235.98,79005.95,144870.28,95481.0,820.46,174777.98,8991.17,2797.27,22303.17,197562.08,23067.97,190294.12,113167.17,124777.14,124625.08,49599.27,151411.5,122964.18,57088.97,7820.78,149188.41,134638.97,184980.23,122373.42,80215.2,14081.64,199390.45,7667.48,74965.61,30583.95,149682.78,92664.09,138423.1,3148.2,197933.5,37341.17,79577.4,197602.29,87537.32,41623.59,168280.95,125986.18,548.52,96088.54,107787.42,20510.79,192026.02,118188.15,189540.95,63736.17,95740.37,127939.19,193438.69,90655.94,12067.39,54191.38,58667.16,35687.43,14288.93,247.36,78111.84,79547.39,193266.72,105028.46,116106.52,53179.21,140947.05,171837.06,123437.05,197519.66,183058.51,22710.72,69303.15,63705.9,116429.51,58381.77,177378.66,35450.53,164621.43,174435.48,94047.75,119087.25,184800.27,75035.48,62703.38,190882.69,91981.85,91881.29,7118.02,11710.4,25904.12,86911.49,10958.18,5790.9,42855.97,78915.68,81409.0,179252.73,42171.13,58965.04,102681.32,125553.52,53478.02,198376.02,105525.36,47349.0,178822.32,72127.83,163504.33,190623.02,140758.07,132374.41,53949.98,121982.73,136983.77,114371.33,62389.35,24435.77,10908.33,90977.48,81062.93,61230.83,126837.72,115668.53,38819.45,86994.54,195204.99,131301.74,100835.19,198969.78,41542.95,118272.07,69586.27,149629.13,146680.25,132809.18,28707.69,104706.29,75335.68,136827.96,139065.94,70179.91,116160.04,83008.49,188484.52,133699.82,72172.13,191057.76,48233.75,79178.31,162347.05,7611.61,88890.05,63833.09,78310.04,37898.91,179521.24,130726.96,198714.29,89543.25,2423.9,180326.83,166305.16,29883.63,192029.19,1710.89,135163.76,84927.42,149912.28,88206.04,163667.56,100153.43,32275.09,65501.91,189392.66,116069.24,139861.53,144184.06,157888.5,71911.3,45033.75,150465.93,126381.6,90189.72,122433.09,123825.83,11426.7,114951.42,184636.05,91055.27,93991.65,116511.12,190631.23,199970.74,139947.17,8816.37,135650.72,24577.34,131249.46,140126.17,168219.75,171867.08,70613.52,117946.3,84872.66,60590.72,8444.5,159132.83,76998.69,55835.66,177524.19,45985.52,60297.72,194421.12,93568.77,34702.92,54473.6,113943.17,153727.32,19116.97,112554.68,47318.75,36690.49,106918.67,194563.65,91086.73,108008.65,172363.52,178587.36,31907.44,18922.18,147222.95,1474.79,24924.92,46884.1,128918.42,105291.26,145381.65,103792.53,71121.04,52327.57,197428.64,83210.84,193099.43,193008.52,157567.37,108977.5,147759.84,27528.4,36479.27,31726.76,96398.51,139558.6,95007.8,101663.47,106197.44,48466.89,151978.36,13288.46,22666.77,102391.06,67830.2,92090.36,141023.01,104222.8,196395.05,6866.31,77737.86,106116.84,117948.0,184581.68,199378.58,12483.39,22404.64,92887.06,145157.97,134889.95,109309.29,169964.12,26327.42,55072.93,68574.88,41671.81,12409.01,68367.18,74564.41,26843.76,156774.75,46019.43,145411.39,158268.84,74637.57,28391.52,144385.54,95181.06,15627.51,148477.57,79957.95,102763.69,129654.22,40652.33,178291.09,131906.44,118607.4,13848.58,170903.4,13161.66,79304.38,121402.53,23305.01,74510.65,55601.44,134526.87,195424.01,59563.49,34595.58,60036.99,193021.49,48108.72,79082.76,37914.12,74593.84,82967.97,193441.23,191790.29,92455.96,155231.55,9217.92,87941.85,187508.06,171519.06,27012.0,70916.0,73073.68,88783.59,145524.36,21333.22,46675.51,4802.25,102975.72,175071.29,131970.86,14174.09,15378.75,179797.79,93917.68,99490.01,46415.09,151815.76,14865.05,188007.99,98175.74,106851.7,75204.21,141872.05,7103.71,9241.83,149517.71,196079.32,166165.93,55724.24,131768.98,13858.95,82774.07,55389.59,82336.73,163225.48,135536.72,82422.97,194660.78,55347.28,16717.11,160277.65,175905.97,66040.83,92198.05,134625.09,50974.57,171922.72,83058.14,188382.77,198030.24,1055.66,133173.19,189875.83,31802.92,132649.85,53067.83,961.57,71333.44,16658.76,74878.22,112104.55,48421.4,170320.58,37688.31,136592.24,48640.77,89773.45,42131.26,186523.72,41758.9,199256.98,153482.91,21177.1,138743.86,25881.0,66469.2,142670.61,103563.23,69101.23,59475.35,135287.74,38773.74,138396.32,110718.02,118545.49,123207.17,99984.86,58332.91,50906.65,127623.36,169665.79,194144.45,35673.42,177397.49,159677.46,153566.97,52411.99,79222.02,32589.89,93777.61,112549.99,191063.36,153810.41,105886.77,96131.47,15120.86,16989.77,143133.18,93336.93,9972.64,30579.82,199775.67,179908.71,101667.0,171430.16,112973.34,190746.38,187689.91,153229.19,14217.77,64849.74,160122.66,138160.11,64286.39,80178.54,101319.76,92794.61,63708.07,110782.88,10779.69,183289.22,66526.01,123697.95,155700.15,82081.35,121747.96,172810.51,159584.81,108402.54,77330.35,21007.96,9398.45,182156.81,110525.6,51536.99,49722.34,66119.07,37160.28,197923.05,65166.6,49326.07,42495.81,148087.62,9641.4,164844.37,132959.33,135088.58,4441.54,174916.85,1795.93,180249.94,153604.44,189703.65,66393.89,30709.03,71009.84,143049.72,1561.58,49707.85,29837.65,9041.71,198017.05,143481.85,146372.51,101905.34,134767.13,103573.96,139259.54,187776.49,8059.44,124354.92,109135.11,82222.86,136767.16,155516.35,144584.29,164806.89,109153.04,86190.34,106040.97,168008.17,33350.26,119565.34,188492.82,165378.66,14178.73,97847.05,118959.64,50664.07,152996.89,19458.75,115268.86,25843.7,147662.33,134878.34,35795.85,66462.79,69578.49,103182.46,177017.39,53217.3,162756.29,42181.68,31714.08,25017.28,104272.04,84300.4,136877.24,199409.19,163147.99,136497.28,10070.4,190068.53,58309.54,76946.6,54129.86,52990.7,161854.98,172141.33,124429.19,24983.39,86699.98,125440.11,9443.15,195877.06,105409.31,100403.05,48502.88,47019.66,48249.88,84358.71,145986.35,88550.28,3061.0,43196.5,55775.84,134077.71,198490.33,116052.92,123202.99,85129.77,180598.86,198694.2,42934.43,114793.45,63297.7,61820.41,102246.0,154882.79,140723.05,72852.74,85733.33,162597.15,74379.57,173117.22,66485.26,92811.2,46635.11,124830.11,167087.34,163625.56,172129.26,163141.18,94003.11,138351.68,34164.05,97794.71,75786.55,136812.02,84361.72,2766.63,163185.76,180598.28,69849.55,19921.72,147606.71,126160.24,47046.72,143668.58,152577.62,191350.48,14234.31,77906.87,57320.92,27145.73,26912.72,26476.18,79329.7,13464.64,114149.8,135171.6,1187.88,184564.67,33391.38,9238.35,28029.54,42790.29,77142.42,146219.9,70127.93,132104.76,90437.87,113926.31,12050.77,64345.61,199242.65,75578.67,43435.43,183239.71,146213.75,40315.27,16966.73,80608.12,19233.41,135382.23,80410.68,17696.22,17974.08,180712.28,56323.21,77550.18,166957.82,184243.25,114072.91,153917.41,4176.17,142963.29,76844.23,159742.33,177944.64,166678.28,44904.26,10625.91,169781.45,49848.86,51467.92,735.79,182495.7,118740.37,13813.24,130500.65,14152.15,66963.15,93261.69,196582.28,43024.64,130001.13,12106.82,42556.33,197961.93,12538.92,35140.49,117626.9,62454.01,109089.04,142331.39,193209.11,47832.82,70174.03,176768.59,129392.75,97893.32,176142.09,114093.73,158323.81,25514.77,61513.87,59553.34,110253.2,148769.08,8236.78,11407.58,49684.09,68064.83,163911.32,944.41,185547.71,140509.86,164652.02,73641.86,40321.87,173844.89,145613.17,174971.64,131834.75,110498.1,196241.43,194667.92,83093.25,52545.24,59571.5,99818.31,172967.87,178616.73,159649.44,60941.27,178342.63,191545.65,117977.45,49637.65,13921.82,173197.12,137696.25,80698.54,73018.74,79649.62,166194.53,102530.35,74265.38,125898.39,83681.2,99505.75,92748.16,28092.77,126145.08,188593.98,56410.17,84694.49,195429.92,137898.57,78774.36,148779.41,35300.08,197077.36,70140.8,196288.46,1557.82,23970.13,180243.56,148977.72,39934.41,133031.96,52856.88,937.15,193022.44,37490.84,111558.7,5669.31,68106.29,101834.58,73151.25,37196.15,7819.76,23129.46,189680.79,66586.56,2920.63,87684.93,199418.02,28515.17,92916.53,198313.69,36308.93,41730.37,31399.4,60192.14,29062.25,28805.09,133814.28,151902.78,167376.26,31022.56,188997.08,2085.32,70399.71,195771.95,166475.44,84106.17,81436.68,83256.26,117523.41,79476.63,173052.19,100995.68,122782.5,11631.34,168303.55,9308.1,153157.97,75408.24,153356.8,152987.42,5557.88,194313.93,94767.77,1540.89,5036.39,71776.76,23481.69,143022.31,161407.48,125939.22,76611.33,136985.08,140937.91,48161.18,130041.45,91652.43,125961.48,73225.31,20460.2,81602.02,8742.91,145789.71,129576.99,190040.29,87771.06,39519.53,190035.83,148948.52,184691.77,143458.31,27166.75,159456.87,70454.79,95421.0,187985.85,92621.9,150836.98,90177.3,34416.79,85231.88,118983.18,111868.23,83056.22,1676.92,32089.57,13455.43,24865.54,117644.36,98897.32,106174.7,46386.37,185054.14,47997.39,130846.79,40861.55,171840.24,101455.07,90747.94,2048.55,84421.34,78698.09,168544.85,39351.64,28204.98,22375.14,134942.45,134901.57,8693.8,42437.75,5893.23,36242.19,90076.85,150507.43,87422.15,192867.4,175674.01,72496.05,145250.43,180712.52,180622.43,86306.75,150156.82,101617.43,85424.34,197221.81,70196.57,110440.5,124389.61,3183.15,146723.72,2139.25,69228.2,115462.27,62375.1,91829.17,182547.04,14725.36,126996.67,133991.11,169920.92,80259.67,191035.18,40421.87,155643.04,78670.52,104240.77,95957.09,59595.66,46266.63,189085.07,123954.15,129803.08,18761.92,43540.59,62193.92,129130.09,16146.0,22442.13,78194.37,124297.32,104648.58,166423.66,157137.23,34134.14,112520.07,128481.5,16491.64,132979.43,196645.87,127506.76,147930.46,179689.05,2619.64,166799.93,133516.51,163736.09,179488.41,113291.75,64907.48,141364.27,101141.28,183490.99,4798.12,131807.14,97192.76,164128.58,176809.87,110059.38,108398.63,47117.03,124720.68,53328.7,82634.41,147059.16,141946.92,123583.85,155915.24,29076.27,97382.8,57643.55,66006.75,72350.47,197789.83,65520.74,31825.84,185561.89,25803.59,154337.47,138145.62,51565.98,71323.23,38882.34,676.06,72203.8,174094.24,2150.22,177783.04,44363.42,96847.91,148579.43,38308.34,142538.31,153122.58,169505.83,57929.9,175399.14,107964.36,94263.44,155921.81,137995.66,179631.85,166586.99,115116.35,23881.62,105837.38,101418.05,182266.01,28698.17,50422.36,151336.96,112979.6,36371.27,52166.25,147261.58,88724.49,190531.77,199953.33,144290.97,130514.78,53954.24,169802.73,146851.73,96832.82,57553.02,74800.99,192542.17,72990.62,31050.02,52795.56,27435.41,150266.81,40299.23,149369.41,120250.58,84760.32,156424.4,109355.73,184936.77,36560.51,165693.06,163666.85,35644.79,188203.58,6120.84,164484.78,164268.28,140136.1,121084.27,35156.54,103159.11,74858.3,91556.57,199203.21,27011.8,188637.05,61581.2,197529.23,182258.17,80778.5,155394.52,3408.7,19367.98,62282.99,65396.79,139712.81,60972.84,1375.46,22191.82,8973.67,118502.34,161802.82,90494.72,15470.91,65147.27,157886.6,85439.73,54038.62,25684.85,186116.54,166830.71,27886.06,5768.32,80575.44,68987.55,27097.82,199320.77,5566.6,133871.83,152843.53,41800.18,92053.75,100717.54,42935.15,149170.92,107499.39,153342.38,107825.08,47952.45,131007.18,33143.04,123304.62,141970.02,37136.15,199293.01,161388.22,70532.53,144290.25,96069.82,185662.84,17913.25,101039.53,156953.54,28276.83,84049.16,147822.44,9497.99,87067.73,23237.25,27239.28,151481.86,114669.79,116748.14,90877.76,133692.88,30662.91,191395.88,106648.58,50899.91,115452.51,64139.1,22030.72,38434.73,42774.84,158973.77,34551.35,101515.76,9561.73,168313.17,55100.09,31830.06,71519.4,32599.35,139946.68,110468.51,74042.0,151871.84,199693.84,58907.08,103799.77,93835.64,156425.57,123723.83,199464.08,83084.33,25488.43,9596.4,70370.24,86330.32,168507.68,111605.9,143317.42,27619.06,146573.66,69055.45,54453.72,33524.6,135083.73,137439.34,11205.5,60176.1,29552.7,188795.85,11638.17,93155.75,48986.18,116951.1,137041.26,44653.5,104035.41,110593.62,36099.7,12470.3,95403.41,151757.81,47536.46,101274.17,140268.45,11663.09,150784.29,119400.08,126188.42,89983.02,29761.29,27073.81,96399.67,45422.89,108699.59,38967.29,116466.19,17993.43,43250.54,125240.8,191415.94,90860.97,141872.52,49418.87,170426.65,51016.02,81175.25,99106.97,79134.78,163550.58,67769.94,126592.01,89602.81,179421.84,156906.15,168486.02,132730.07,39057.67,174606.35,79259.77,168515.61,161125.67,77878.62,80823.02,119348.28,178331.36,119174.88,82662.73,40441.1,109881.71,157937.35,38276.84,65222.48,2181.94,156249.06,45591.23,79458.12,103042.2,70209.83,176743.51,10703.53,151425.82,3894.34,28861.69,177703.15,136649.8,175894.24,76257.46,193668.49,125671.29,174098.28,187866.21,100862.36,10804.04,170893.85,22698.56,89822.48,175262.49,15705.27,170025.43,17242.79,79734.23,92712.97,99689.48,93336.3,175893.53,42840.18,140298.24,144000.59,113408.11,96420.58,125806.3,65720.92,31002.03,158248.71,94677.83,17257.72,101397.86,84870.23,183515.13,75969.19,146379.3,127154.8,2019.78,197885.72,138017.68,170984.97,55859.27,4459.5,102135.92,112771.95,32903.93,162260.93,87959.83,166476.95,25438.87,157230.06,197305.91,44435.76,181051.99,159069.37,155485.24,43852.05,140071.57,49089.36,55893.37,192660.55,137028.51,34430.16,108409.17,145325.32,81425.61,51553.43,52795.15,84270.09,145011.62,66245.44,36446.74,137136.29,117323.31,74157.71,104253.56,2748.72,195937.16,22101.86,126535.92,44692.63,112442.63,66331.01,16657.68,20081.3,93820.49,130795.52,160129.99,189969.91,9712.52,196062.01,125710.53,23054.51,170679.74,181258.76,22835.13,102397.22,115950.96,15876.52,117690.58,173792.77,80992.8,189398.18,56787.8,148309.98,179673.11,138470.21,163798.41,33693.78,48545.1,123427.98,174183.44,17938.0,90059.04,137694.23,65039.9,162858.29,35701.06,18826.06,130086.47,143360.56,159920.92,12099.67,53087.98,142839.82,178.19,105618.14,24734.25,82245.67,177695.67,107961.11,55207.41,182633.63,51587.04,115403.31,186392.99,44374.44,84033.35,82276.62,177528.92,56850.92,47972.65,104982.39,133535.29,25571.37,96075.55,81634.45,165008.97,138191.81,99136.49,63584.55,160532.88,162683.06,134878.19,134626.3,175480.93,174337.68,172524.51,25395.83,184856.89,182624.93,192505.62,112507.63,177295.92,12465.51,36122.96,37836.64,34747.43,131097.9,105280.55,149653.81,139390.99,132436.71,179705.13,15796.66,142754.71,2578.43,88992.05,32936.44,39122.58,191092.62,129149.06,13218.6,160589.18,179657.83,44335.54,29217.37,43651.49,159654.0,17992.94,141501.45,93825.78,41852.24,97629.31,37065.66,38614.69,87816.86,184866.86,160176.47,164357.1,17818.33,142680.64,85081.09,176450.19,121967.88,127187.04,108313.34,57205.55,157891.86,86927.53,107753.07,82158.14,29135.89,17095.49,100447.53,83470.4,121846.81,129107.59,54726.43,116141.72,124872.42,186438.86,134281.11,91044.47,74320.75,9704.66,128600.49,6468.24,57898.58,192120.66,164213.53,117547.76,26149.25,9181.66,166588.76,195053.58,85787.31,102428.51,71175.94,166440.32,148848.76,140286.69,104220.5,70778.63,65868.28,171482.56,143204.41,28427.84,78387.32,161076.92,54277.45,137180.95,21063.71,152210.81,88890.75,190534.76,83090.35,141426.78,51358.66,88703.04,116696.77,7156.09,49161.12,126743.33,65390.46,138835.91,36154.66,59755.14,125302.64,94274.72,102260.16,136028.97,110114.38,100442.22,193597.94,1871.25,42831.11,182156.86,151648.66,146738.83,12148.2,118029.09,50783.88,129891.66,9904.63,63213.31,137565.87,17185.95,143783.46,36823.28,154957.66,31892.82,191084.4,179718.17,159823.16,114110.97,60993.23,66408.01,136398.9,140709.25,8555.73,115022.94,187638.34,3829.13,119357.93,192175.52,128841.31,150422.35,188187.05,1775.52,85086.78,3797.79,150856.38,90537.47,166370.81,178994.13,195681.43,53277.15,172490.78,11819.84,82900.25,82709.8,180593.45,172363.41,91195.12,108987.25,44265.28,116613.26,148527.56,84239.46,62002.04,46044.48,169669.33,156346.84,157711.18,89087.4,8742.36,117038.96,164241.67,137720.56,106.67,1539.21,59659.53,173586.63,126033.9,62808.93,147007.33,196261.64,44560.17,18917.95,4525.4,93112.2,9658.41,182627.25,13177.4,43568.31,117830.57,117396.25,96929.24,36275.94,116706.0,168080.53,25887.89,122488.59,113171.61,100365.51,124151.37,112664.24,183494.87,198810.65,131259.6,116471.14,15336.4,99593.28,170514.21,34265.08,106977.53,164287.86,25292.53,51820.87,81452.29,1354.25,71379.92,154137.33,64308.49,31613.35,27738.01,163570.25,193878.51,147545.65,195906.59,178458.86,156125.72,11159.19,45738.94,140650.19,4733.94,10579.72,179655.87,77502.56,145759.93,56246.72,151335.24,179833.45,191627.85,173016.46,58469.75,28038.28,159576.75,151280.96,139953.94,105407.79,56865.62,198072.16,137791.18,103787.28,30912.89,78651.55,123309.57,174118.93,85736.26,121138.77,84199.78,181224.56,141230.07,158111.71,130639.01,17040.82,25662.27,193360.69,121485.1,162452.65,141137.53,185541.2,118383.18,8214.41,46521.45,10772.13,199290.68,85983.54,129870.93,63158.22,171070.52,53222.15,179834.45,114514.64,139162.15,50249.16,113469.65,147484.13,191448.96,119381.41,33277.31,73107.53,96590.39,6923.11,176403.33,64349.6,116097.26,29861.13,48426.98,32770.56,117060.2,136197.65,27438.83,192156.54,69409.37,58440.43,192519.39,144874.67,175373.46,440.2,76637.38,49480.66,10417.87,67976.57,140929.98,47139.06,126241.4,22614.19,48498.19,103511.26,122073.48,65535.56,160060.9,155879.57,194416.58,21630.21,157143.61,52796.31,121798.52,41104.82,10604.48,78563.66,170821.43,113266.09,171768.76,54416.18,130755.34,141180.66,183421.76,132770.11,24400.37,180318.6,111565.45,2002.5,82565.01,121789.3,193785.87,64593.07,196993.69,175518.31,17268.02,60901.72,100750.03,195224.91,3510.18,81250.79,91844.14,80676.83,129912.74,142029.17,137651.6,33877.29,78744.39,96734.46,164756.81,164394.65,162501.83,10541.38,59325.21,178187.28,142626.49,181893.31,156858.2,33074.51,50072.94,111340.36,100496.84,101371.05,180934.67,105152.17,706.5,101168.9,6795.61,196111.35,171960.76,177497.4,147995.96,36209.1,143614.01,14828.54,154775.7,70529.0,57896.27,69759.91,89938.08,89578.32,73464.88,138542.87,161888.63,86937.2,42241.54,121207.66,102930.46,65121.63,78498.04,104769.96,96498.14,38691.34,164804.02,104152.65,88866.92,129890.94,179258.67,72051.44,74580.8,123995.15,38960.59,94951.27,56642.97,50783.1,9149.96,21006.1,33759.41,196622.28,176353.87,176943.59,177966.24,162198.32,197643.24,60420.07,70550.0,198798.44,126310.39,64515.5,158580.05,129353.21,137273.97,171575.54,96528.0,64421.02,158444.61,66548.58,108008.05,128268.39,37464.0,157381.14,194257.11,139059.05,40893.61,40261.49,46203.31,13126.9,165675.01,5459.07,131919.48,182372.35,147600.54,92865.41,67142.97,65611.01,138564.48,187391.02,33656.35,100618.17,198134.9,50368.87,108787.0,33099.41,124550.88,5159.21,48228.1,108798.36,21085.12,28922.25,62514.65,177506.66,90605.05,132029.95,176903.35,29239.29,153662.88,154389.18,166224.39,21646.2,171037.63,112649.22,193014.26,118120.88,25650.04,113048.79,87372.49,146651.99,8227.91,57034.35,93003.21,165574.54,13566.48,82796.29,119830.08,72155.85,62762.12,183235.33,105206.48,22512.44,122305.91,173617.09,160670.37,158958.9,93073.04,67238.01,172576.56,122580.48,149043.78,105218.45,78463.99,160849.43,87834.24,166317.71,137309.06,166984.44,166996.46,188022.44,194467.23,125449.47,137452.57,123475.88,38941.44,177852.57,31532.96,136377.21,130541.1,65636.92,193305.35,47307.9,100809.99,109145.2,91167.19,175295.89,127433.47,71167.17,111184.67,141756.32,72678.75,172832.9,158086.33,168184.62,72950.14,48378.4,23135.65,65675.47,170676.67,27366.77,152479.64,105383.49,48189.94,100324.01,65657.29,17682.02,111342.66,134158.09,79176.09,83103.46,63908.86,90896.04,76076.2,103902.11,142223.94,147533.09,169156.64,141242.57,149458.73,86950.72,176925.69,40357.39,26687.22,78702.98,176163.74,4896.11,114899.13,92220.12,6251.3,43018.82,27548.06,120454.2,133961.19,131753.97,38019.74,28144.07,45959.86,189528.72,170481.98,94845.45,161253.08,115260.72,60721.4,121365.45,101693.73,54132.93,10666.05,41227.67,10712.82,98912.69,197202.48,150720.39,74780.13,79377.45,8763.87,177112.7,85016.64,88689.4,95985.64,166792.71,68730.91,146891.07,148727.42,43134.58,40318.33,97633.93,65069.03,166335.0,121904.44,175235.99,56185.05,131625.14,152323.04,165840.94,176692.65,121904.14,123663.63,119644.59,66825.33,94875.03,76304.73,39755.0,180142.42,83238.4,5078.9,132424.69,109057.56,115676.61,149401.33,89891.4,82500.84,6416.92,189428.75,178833.34,42766.03,90883.12,80619.09,120646.4,41409.36,112317.89,152128.36,177670.57,189159.97,159403.68,149536.15,155492.87,24847.02,115387.4,171971.25,126106.4,28228.35,138113.71,43018.98,83611.45,118863.38,91947.74,94488.82,47058.21,44719.5,174478.54,45611.51,73853.94,196517.43,92914.67,31372.91,109733.73,36083.96,188435.38,169963.2,69320.97,36145.53,137702.01,71594.26,65565.92,101828.39,39546.32,110805.79,2168.13,190067.12,77789.01,127654.37,79602.86,80619.17,160346.3,109638.78,1276.87,49374.82,31580.8,20560.69,84584.69,15246.83,32607.77,155846.69,3232.82,177668.55,134441.6,111032.79,45214.04,67208.3,80985.88,167573.06,160110.65,127825.25,123535.05,41595.3,97628.08,91359.79,97755.29,182528.44,142956.48,10789.3,130461.09,190994.48,159463.8,57589.29,40437.67,56459.45,39920.0,148798.45,63737.19,154997.64,34777.23,93718.16,133112.41,175479.92,96.27,30804.68,197193.49,96792.15,132719.8,112157.31,38015.34,164018.98,46774.94,189664.43,26106.39,191535.11,158937.55,25222.6,29296.74,54394.28,9234.06,26796.73,11796.89,128461.29,14278.18,46811.77,109393.19,3966.5,63173.64,66367.33,16274.67,180553.48,107563.16,100941.57,110230.4,142331.85,199099.51,85890.16,143938.27,131644.41,112395.98,71856.3,35770.84,124364.63,78101.29,143096.49,14073.11,47388.41,72306.07,184839.7,47886.44,130474.03,73181.39,65706.86,104379.36,192146.63,66977.68,158742.81,189414.74,159130.32,97640.2,86022.09,10014.72,17384.21,143315.57,31669.18,12761.16,93429.95,42012.55,15798.7,56408.14,4696.44,25042.1,130442.08,136521.82,199108.88,124596.63,134394.78,144275.39,123410.23,143298.06,129562.74,4595.05,146715.07,163558.36,6947.09,9170.54,199674.83,157166.79,46072.52,3524.69,45563.94,59103.13,189558.44,45779.9,21859.06,162699.7,8567.18,132943.88,12916.32,128799.86,99347.8,40980.87,40368.65,94738.54,88842.8,136934.91,109356.53,199635.93,158408.23,95936.84,126688.83,150850.29,27802.0,32430.94,137332.37,28601.68,108411.66,122518.5,9015.07,94433.08,110371.84,141364.62,16245.25,108348.94,171668.2,67364.42,107867.38,194310.1,33950.08,197588.32,428.23,34948.77,82084.3,64804.59,83556.65,71926.28,122925.44,13133.88,62845.64,28411.23,28640.92,156787.34,125307.87,131736.23,128262.14,91366.42,82290.81,66190.21,23920.65,45438.38,93360.35,14496.67,168521.72,103318.44,87219.41,197490.39,126812.63,94283.09,46857.52,81491.7,129107.97,49732.9,88728.47,86981.45,3740.93,67949.32,147636.46,188891.96,25482.62,18391.93,140168.36,161064.29,183542.08,194238.92,7900.46,51424.29,152450.84,55816.2,32909.13,100637.07,142911.99,26287.21,60775.76,146257.77,28332.0,100919.19,102591.9,25554.4,152107.93,69381.05,101728.46,89040.61,16910.98,150468.35,177613.19,120672.09,77142.85,127804.66,158344.63,167179.48,15404.64,156036.19,144725.14,22558.74,147342.03,85470.45,194656.11,48505.1,101491.23,164117.69,124626.57,34490.06,90967.37,24208.84,174873.09,170262.97,112289.06,93783.0,150026.79,102036.82,898.51,95124.4,11514.39,27468.72,37092.43,171587.9,80828.78,169287.99,13197.44,54439.53,38186.85,27274.6,65758.19,97767.63,115468.84,98293.14,182059.28,128538.05,108841.83,18581.84,146821.42,100727.68,39356.38,169921.11,42364.75,28823.04,182436.81,115700.2,16725.53,56875.76,56214.09,193412.05,83263.04,13404.4,184474.15,121124.53,152567.75,10722.54,58010.98,163440.8,102606.92,80591.18,177362.45,120257.7,180622.02,130404.53,147797.54,57844.26,162523.66,54495.82,169183.66,80262.91,8751.59,102628.98,94823.95,90821.66,153194.32,87310.59,146411.41,74048.1,23386.77,92898.17,45956.05,71738.56,103560.98,52367.29,152916.05,4410.77,74771.22,193817.63,26793.82,32526.64,824.0,85250.77,83508.93,173599.38,79342.31,57600.66,56191.99,6770.44,101694.67,69113.14,172674.36,26606.28,53353.36,63747.51,190112.05,110317.39,148623.43,125253.46,101954.78,168462.26,26215.85,97045.32,53534.8,8949.2,163116.75,140745.91,171515.84,150803.44,76884.05,170454.93,143104.3,55701.62,186370.3,24275.32,50774.81,154279.87,68462.59,91036.74,83681.97,199484.96,152491.22,134875.37,184366.14,189839.93,175643.44,3268.17,47089.72,46562.02,62487.97,181598.25,64815.05,70196.23,160383.47,35848.12,87278.48,94498.82,133486.36,73107.6,195333.98,121525.48,173843.21,185227.42,125244.18,163113.41,123006.91,40463.03,131363.57,188305.85,143994.86,89368.59,158365.89,78753.12,100408.31,24677.54,39570.78,155665.76,168294.27,87908.01,191198.92,191207.03,128954.05,59905.29,162012.6,19231.98,175749.36,60533.96,137508.42,189430.86,6723.66,41371.68,125140.72,143683.75,170770.44,157397.57,50595.15,50390.98,163150.03,138280.17,135067.02,163534.75,86657.48,162087.82,28879.3,169203.51,102426.12,54676.1,18369.33,159888.1,167636.15,138889.15,199392.14,189560.43,17375.27,140225.14,61018.85,51907.72,47018.75,33700.52,59636.43,157147.59,191393.26,199862.75,20016.59,30635.52,117832.88,22497.1,747.88,76870.81,107848.24,103726.71,178268.36,126281.83,196651.72,5962.3,21928.81,127022.87,162763.01,113950.51,104930.46,52337.97,179964.55,83753.64,182913.95,166720.28,192721.98,180241.44,48475.12,126551.48,64872.55,98031.53,93524.22,56991.66,183980.56,130234.63,32454.26,75396.43,167756.45,24799.47,60429.43,74241.09,78310.82,119419.37,91305.77,25136.95,193880.6,47856.78,4491.77,101311.95,38830.72,26817.23,199727.72,67445.85,161002.29,20778.39,41042.4,67484.16,121763.68,157358.43,110275.17,43801.27,9085.0,143086.09,100556.98,140000.29,186775.25,133570.43,154990.58,27654.44,137763.93,25723.73,186285.52,142208.5,169862.01,41365.85,30812.84,155023.93,159416.58,76259.23,105965.25,50743.83,147720.27,167387.36,95159.13,4654.28,130376.68,173486.39,93881.75,36376.97,128499.94,105898.69,11959.03,98810.78,65906.07,151516.7,37214.39,92033.98,195692.3,6342.84,95148.28,21215.67,19700.24,134396.64,135077.01,133600.89,99922.08,41399.33,159344.43,18364.19,98162.44,84663.21,36536.93,79101.67,16644.16,158420.14,48988.28,96862.56,96366.7,146123.19,135178.91,158615.41,71433.88,55672.09,150218.11,162734.31,21228.71,62027.9,60988.21,108675.01,72643.95,9241.52,153080.4,72196.57,199527.34,156598.23,74917.64,111249.62,59115.77,148218.86,77142.32,67484.6,63452.18,103660.31,163191.99,62905.29,44323.22,97938.59,126565.21,185360.4,183229.02,106024.02,167810.26,138536.09,184520.0,20492.16,134676.72,138478.2,125557.95,82969.61,158071.69,43615.67,119969.99,140201.21,80792.83,141359.11,23344.94,5075.17,95500.98,79082.62,199805.63,52709.55,56583.88,3385.04,12537.42,64722.61,75246.21,198929.84,69011.66,52404.47,163641.53,154598.56,173989.47,61315.37,143393.24,124210.53,151460.84,20734.81,43705.56,180736.24,104170.48,27867.59,55387.28,196332.45,116046.22,93874.87,76614.04,6076.62,122221.71,24156.03,135394.62,91340.02,146090.38,172096.08,135034.57,84008.66,91763.67,137001.1,106799.49,10494.64,79866.73,186172.85,91673.6,18458.2,8342.35,138578.37,38129.22,107155.4,29792.11,7063.6,21645.06,137079.86,172718.35,106691.02,72274.84,32246.63,80552.36,16733.59,1235.49,50168.41,33687.9,178705.45,66810.48,45859.55,63846.36,100236.02,19645.65,178393.68,78591.15,124954.56,3756.65,152723.23,187597.98,70381.49,156792.89,35534.68,151256.22,51011.29,111190.53,69664.35,63233.02,40855.79,95673.05,80234.14,189051.59,145490.85,196278.32,162889.1,174667.58,3476.38,19344.92,95270.83,107759.31,118368.2,52484.01,178153.65,49915.52,33747.03,59961.81,18613.52,198894.42,57014.17,131729.52,79169.73,106472.34,17013.54,150661.42,86622.56,115767.93,141998.89,182787.17,187915.7,133267.78,137476.09,77146.14,183271.15,26362.4,153373.71,70705.58,119759.24,42392.24,34670.62,82106.19,171774.5,149772.61,38866.85,35179.18,41788.37,17376.57,199428.19,16922.28,178291.89,152290.28,126809.15,40385.61,34350.54,199005.88,52629.73,180012.39,35342.33,109291.22,62746.54,173273.2,54340.24,19302.78,10883.52,17298.72,115779.48,93228.86,148704.77,150475.14,40914.32,38587.7,171260.66,94187.47,145900.89,152298.28,99828.45,34743.98,121189.3,129660.59,145477.36,151822.66,49656.24,73856.28,116757.0,16319.56,90273.85,161344.13,121061.89,69531.22,3756.23,114448.13,144045.08,58781.11,179227.52,127332.33,86642.38,184178.29,9551.49,56053.06,1118.31,195732.04,175070.94,112331.19,43956.83,115994.52,166682.57,99843.98,141175.18,175910.95,176984.34,43480.63,155047.11,176137.2,154843.4,8214.46,147075.69,116495.55,31165.06,192127.22,137491.23,186841.71,86776.38,72073.72,10662.58,91001.02,20555.21,123164.97,143463.28,92131.54,77178.42,193650.16,52861.89,35896.75,149418.41,46253.65,86609.37,91943.94,128892.36,44830.71,84508.44,84760.7,147661.47,82393.08,135995.58,159800.16,14379.01,74322.85,189016.24,136435.75,78488.39,113695.99,54628.11,150835.21,158891.79,160523.33,180595.02,16618.76,79919.97,186489.14,51999.5,121299.14,144593.3,178752.73,94148.3,77414.45,63236.97,108645.85,95153.24,136079.64,98273.01,113505.93,52525.15,194617.98,152541.89,142903.44,182257.61,135431.72,175697.87,59061.25,131283.6,152499.8,15523.09,186418.85,32262.28,128052.29,181419.29,109783.29,181879.56,74260.16,49865.04,103608.06,167564.82,41816.49,179066.58,109184.24,199841.32,83617.17,84863.85,114775.53,103557.93,85028.36,153064.87,38784.42,186526.12,28789.94,45038.29,150245.81,57762.0,4292.72,173365.89,119484.01,121821.16,151733.43,53784.22,62733.05,17671.78,188905.43,113079.19,83997.79,125424.42,143194.05,93132.61,76038.38,168658.3,108419.41,171657.57,22357.25,193903.06,141926.43,104079.62,93832.33,1568.91,60778.11,16119.96,60375.18,187946.55,195563.99,38196.24,179435.21,93208.22,61531.86,92826.35,23140.28,74287.53,101102.39,126933.73,68408.74,155356.34,3234.8,195209.4,169149.38,68075.14,93707.8,156153.27,58601.61,114448.77,126551.65,112350.21,185808.7,118235.52,183051.6,27922.45,196476.19,190429.52,35034.15,66389.43,107615.43,99692.65,88729.22,173321.65,139463.57,3769.71,149946.43,135768.25,31708.53,151677.31,170518.83,196582.19,3298.65,162878.96,64014.24,26257.01,126794.56,164162.44,179206.92,18254.75,83949.68,22684.78,7953.62,143952.24,158032.5,199104.52,87566.97,170563.73,157871.55,93203.43,54398.56,168779.47,1140.02,186476.91,29023.03,60021.34,180456.8,132498.39,109608.81,98570.01,160546.58,6139.74,6930.17,10674.62,71159.84,62413.01,166386.22,133086.45,192933.37,71359.78,79270.02,29583.48,88680.65,134691.2,75574.48,30252.3,111324.41,105425.18,36193.07,93081.87,107625.46,152733.89,110421.31,48486.25,72993.67,25744.13,46807.62,26772.04,150057.2,56028.79,147693.92,174032.0,153698.65,108301.45,22929.08,102665.92,56139.09,88391.29,149195.44,143357.03,168359.98,77335.75,93148.93,36687.11,146703.36,115927.85,104189.46,9902.39,16645.77,180134.88,148098.95,38798.79,153295.0,100687.67,111442.71,136902.01,105732.9,35884.91,73489.15,110114.19,40145.28,146398.51,160526.36,173516.71,88396.6,185821.41,108098.28,162267.91,193135.25,168034.9,163295.87,159553.27,99800.87,40250.82,83335.78,48382.4,165990.44,9002.8,188156.34,186785.01,184259.6,57817.84,144660.42,163112.9,136301.1,36176.63,65769.3,174123.16,161304.68,109394.62,190155.13,61450.96,8673.43,125912.77,151349.35,67972.45,71139.31,86350.97,118648.12,100995.11,147100.72,155495.63,196875.87,63176.77,105221.76,131924.38,23132.73,161428.25,181794.86,86634.3,29937.75,140130.22,17536.82,53157.16,143585.29,72402.0,39891.84,89804.83,136491.72,35593.18,58268.2,101778.9,185123.09,119927.81,195033.07,86480.29,198766.61,185144.08,3729.89,18988.58,119313.74,62627.55,197266.58,199992.48,16403.41,78854.57,189310.27,78088.17,19842.18,103305.01,116124.28,142730.27,58076.52,186123.57,29664.45,147963.07,38466.39,143301.49,31422.69,121505.61,89874.82,72500.68,182692.8,4993.94,124964.82,161971.42,39488.04,55313.44,187811.71,184514.01,121311.12,12873.39,157238.05,123242.11,184399.76,57323.18,68293.93,10288.24,179446.31,141453.62,93151.77,6554.97,38570.13,131048.36,127068.92,51721.52,46156.87,192950.6,180932.46,19596.73,46786.92,175820.91,198208.0,55362.45,47675.29,61326.43,71672.86,101168.3,144880.81,115037.67,187280.51,183540.22,28531.81,42730.12,104721.5,65219.85,118929.64,70563.9,139435.12,170347.1,131553.82,138344.7,169894.4,9770.97,74176.71,112668.06,186275.7,98463.99,2746.41,10928.3,91346.03,139844.04,105052.9,144366.83,19605.18,80483.76,154344.0,93503.02,153036.97,98029.58,193018.71,60810.64,87071.18,164064.44,4554.67,119924.8,170360.11,69850.04,47298.95,45443.68,198715.27,115611.97,40333.94,105997.25,134851.12,61666.87,196574.48,111097.39,48201.64,135096.78,15650.89,34097.22,174822.74,85937.52,49185.57,77742.38,34436.83,88279.6,157549.6,173386.95,82782.08,187758.5,176547.8,56585.2,125762.95,113868.4,24780.13,120259.41,175398.34,86767.48,71216.6,85240.61,160529.71,102806.6,144134.64,184017.98,195896.59,126722.57,176883.42,122960.98,9607.1,152643.48,95551.22,141860.62,76642.68,52301.15,29388.02,193408.43,58632.37,191076.22,645.61,144390.75,193580.32,126761.2,62368.33,131718.12,91098.76,67508.01,12156.93,65089.38,62370.67,18826.34,3342.62,178626.07,32845.32,134732.99,106095.82,57380.13,25951.91,69414.13,96123.72,119425.94,120138.27,150548.5,142492.04,14357.0,129569.92,55972.56,59497.01,181928.25,102517.83,88827.67,14161.3,56908.41,184474.72,94912.78,73069.59,136602.8,150093.32,168186.11,146230.63,79314.1,77965.67,128745.69,194767.3,10672.54,10627.21,122268.75,65482.94,146134.68,123300.38,122925.4,127744.02,118319.5,17104.0,164608.98,152108.47,23399.58,94711.43,7312.25,41876.98,96881.32,102402.91,176763.27,23548.45,33450.11,19658.43,104678.78,143203.78,6975.02,153771.8,85902.39,188037.76,52710.7,17034.37,131304.45,172576.43,99019.65,190160.04,3025.49,34689.77,2305.27,113228.82,171099.22,62023.1,36923.67,112256.57,198830.98,197963.46,31635.99,49594.02,170483.9,40339.9,3218.71,68569.89,29176.04,46758.42,171060.01,93550.53,89405.26,169804.4,83253.05,195813.81,121568.37,92144.09,126307.25,130784.2,166694.93,44001.11,185992.36,178997.89,141558.04,47921.22,104902.68,68479.6,1271.51,29346.1,184118.73,96013.5,103713.93,46632.87,135334.24,13482.28,130075.07,143544.48,187826.11,167058.75,79928.41,6075.36,43821.56,32125.98,141679.73,84133.48,9692.58,20708.6,85644.06,107674.3,134822.05,4606.97,51362.82,39704.14,195638.13,86413.11,116385.24,182076.97,67879.8,11417.26,65998.26,114774.35,126153.24,176091.31,87352.43,107074.81,69157.93,149970.59,153288.97,147700.78,188657.97,103764.55,140934.57,15118.2,63202.0,16081.62,523.0,181757.19,1173.23,86587.37,109545.56,174431.01,119368.99,23315.59,67539.85,185201.58,131827.15,10842.46,23768.01,117616.29,174027.3,115091.38,106340.66,198103.32,175314.87,150679.65,110043.88,194890.33,112366.98,167289.82,182099.71,49373.97,861.4,81718.37,49324.03,9751.03,78899.22,13889.73,11467.38,130789.15,108665.89,160303.08,115287.99,139094.12,20515.72,36642.65,104382.11,146448.01,166650.9,164223.7,149331.01,73066.72,15378.23,53072.49,3159.15,125920.54,124113.04,93716.38,155799.86,8814.69,164453.98,87803.32,183617.32,53584.03,1950.93,175025.27,13018.96,42537.59,62989.82,71692.8,823.96,169469.3,150159.95,32063.3,68794.15,75084.96,114685.92,143665.44,51099.56,5408.74,103006.27,44147.95,149278.96,193009.21,74898.8,116253.1,19374.08,64516.8,34475.14,57061.71,32301.88,136859.55,69244.24,156309.52,4989.33,190194.95,3529.72,81778.72,39297.48,176614.86,108684.65,145764.4,42135.28,16929.41,104393.78,192717.57,59650.42,63729.72,73679.59,174969.92,1703.58,163181.62,52319.26,51672.08,145355.11,51711.57,149535.97,94105.0,155905.79,138380.11,97734.3,173576.71,27596.39,16897.19,36895.99,113046.81,129933.5,133091.32,106282.74,57862.88,12628.61,198914.8,109127.54,22487.45,46791.09,158697.28,194138.36,35177.31,157015.5,136551.25,96517.97,93629.66,96097.65,156476.36,42964.63,122021.33,56311.39,150685.52,177740.58,71492.28,104492.83,47729.33,97593.16,186869.58,135227.23,135244.87,179473.26,50610.62,75232.02,89205.54,61761.77,103921.43,198802.9,9617.24,187905.12,121440.8,36292.94,20432.09,187051.23,148689.13,125445.8,22736.06,54947.51,167984.72,4802.27,72909.75,185488.81,88407.51,184544.59,136539.13,85045.92,85421.48,119903.2,138780.89,14789.9,131964.66,178709.98,20344.84,172852.06,103945.58,183656.12,10333.78,122109.58,125041.52,140003.0,183171.47,61128.29,52462.25,50839.85,61240.87,127429.56,68343.08,126511.94,8559.66,147822.81,39288.11,85179.48,190019.61,96405.88,83342.73,161333.13,81292.33,177747.72,187980.21,177235.21,29835.37,80204.38,189268.81,85411.01,154360.97,84460.18,65618.01,112928.74,142210.94,82559.77,127388.06,10160.23,64242.31,198355.28,79323.61,24113.91,41921.06,107472.99,143859.66,104120.17,79792.3,154639.72,57850.1,62868.33,92357.21,161083.53,91429.74,117031.2,44857.4,36483.52,34045.61,59981.62,152944.39,66979.06,28797.32,51670.82,41865.72,96015.53,103914.4,89199.51,48849.89,197444.69,145160.96,52309.8,50695.93,157891.11,181850.74,51345.39,137519.92,49653.37,55867.38,172749.4,90607.31,130861.95,5558.47,121537.91,57128.78,19409.77,88604.89,479.54,173837.54,487.3,35600.25,166929.43,98998.61,54229.74,105720.09,121151.46,154844.22,18785.48,64771.61,16250.61,131093.99,129188.18,47428.73,132973.21,84908.2,57338.56,161579.85,122625.68,52909.87,170226.47,191757.65,66652.75,195977.75,69056.26,12920.43,138552.74,22832.71,61811.1,191604.27,25445.0,129964.56,6209.51,134794.02,57549.65,28367.21,51703.09,66602.7,2739.71,69227.42,31445.03,150037.19,111448.92,51226.32,53581.14,149697.78,160348.31,154641.91,104331.76,135630.32,65361.66,56176.31,60059.47,51364.56,118752.6,116848.79,45026.23,189657.26,57213.46,63687.06,58761.33,14187.78,145115.95,187718.26,27150.35,111622.76,27244.35,57029.66,25183.01,129980.93,118716.63,20134.07,190208.23,68021.9,110881.56,132480.75,7032.95,27862.58,87008.17,27411.19,46395.21,194245.29,151317.27,118142.79,138700.75,6035.51,41263.69,63185.05,92536.0,158736.07,18633.4,71830.1,19525.65,110953.33,4466.21,105818.51,149558.83,4070.28,132741.13,61251.25,91347.76,171045.31,155850.4,27380.99,154208.96,93624.55,64746.07,82815.93,27308.58,104876.8,151316.37,91817.38,125311.17,14868.94,196112.45,24093.4,66263.87,100304.13,167909.52,16246.59,103603.65,7680.23,95215.73,148172.94,124382.9,159311.46,6787.48,197297.77,21556.95,56518.0,158840.99,126396.01,148087.88,33701.5,84622.37,185580.89,62768.8,38829.11,110748.88,54083.8,88658.73,177938.52,174235.06,82696.84,142415.97,62811.03,25339.29,176487.05,49833.5,55829.25,155823.2,60622.61,174196.68,56905.38,101178.85,73857.94,102325.19,55356.39,131284.93,88080.43,93266.01,75562.47,153747.73,163830.64,103456.47,95655.16,138350.74,31190.42,167553.06,59604.45,162223.67,196549.85,120373.84,92149.64,178361.48,170998.83,77216.48,121164.6,141841.31,104000.06,191419.32,28188.96,60407.93,130489.37,193040.32,109742.8,74760.32,61936.1,78650.95,168023.6,5571.59,118591.67,7824.31,38153.19,180829.99,143960.72,8788.35,103557.85,147168.28,58844.84,18094.96,162515.17,157921.25,68701.73,186778.89,66561.6,64831.36,6589.16,165370.66,184758.17,13911.27,34857.46,156192.43,53874.67,100183.05,4493.12,130610.78,63340.65,180066.59,95273.73,53511.74,109685.61,75664.56,71972.95,23702.42,112572.02,62424.46,131238.37,184350.78,13999.64,168152.76,35640.12,120088.17,74346.11,2955.46,146504.35,149602.54,53020.9,41788.25,74849.46,134417.31,75837.58,54869.54,35356.46,122141.13,119439.66,81999.53,120594.85,120770.75,134790.74,100137.7,158325.87,70007.67,88659.07,190889.13,56646.28,32999.1,178235.37,25448.31,84871.99,157822.54,84383.22,119216.46,82547.01,86764.46,197372.13,82872.64,129563.86,135388.89,4497.55,67885.37,111471.55,134407.93,108258.22,197528.62,139761.25,136119.96,197812.16,51972.92,99341.87,171345.02,119056.68,172601.62,104936.88,159044.1,83263.06,130910.78,126336.72,27980.8,47880.71,73882.49,162960.05,68807.47,144039.05,151192.18,120225.62,56118.81,130853.03,185156.94,35671.45,59568.24,139911.58,56770.76,157564.75,131473.31,90424.09,156660.21,88372.69,46200.71,160548.12,1262.83,188639.28,14665.28,156868.21,30461.55,123885.88,60688.38,21785.91,188135.69,154364.66,61312.15,47454.93,121102.9,137419.87,157664.02,148689.65,39789.62,165162.4,137674.55,101371.72,65066.48,107876.91,111180.3,115650.63,165035.17,193746.55,58458.26,52332.85,75959.1,123.07,167066.95,117572.59,7166.71,137173.39,116442.42,32421.32,104665.79,44215.86,20164.47,26691.31,107955.67,150048.37,192255.15,173245.68,121457.88,104804.74,69767.14,178373.43,99924.04,49594.19,186071.14,77511.45,54816.57,61290.99,191821.35,156768.45,73731.32,122190.22,123509.01,8199.5,14113.11,51705.01,161937.62,120892.96,65035.02,164257.37,51987.99,10899.63,177355.8,63889.1,176433.6,81313.51,13998.88,5771.56,42693.65,90839.61,54144.01,184312.88,20306.79,128256.18,182720.07,4082.52,102233.73,132002.83,126838.7,181461.46,195325.74,29132.43,131804.86,173784.04,26249.86,182650.15,196582.55,141977.54,55313.51,62944.75,72375.03,188324.01,133403.07,157378.5,101240.08,102502.5,37577.66,83456.67,199420.41,24748.89,121765.0,113666.48,134110.93,183095.87,159891.03,8316.19,63736.36,94715.24,68695.38,36899.62,182775.08,62390.59,76042.48,70956.75,67311.12,110454.46,88479.02,122639.73,79723.78,97677.52,100720.02,104730.52,22499.29,28257.89,109988.09,149991.32,45180.8,181605.85,126469.09,160810.85,88146.86,88333.74,90174.83,81298.09,60013.17,100940.91,12599.94,128590.73,23180.37,55796.83,152097.02,162443.05,55551.26,109496.69,72105.63,41815.22,74005.04,70224.34,145528.22,124486.28,10078.02,164967.21,91149.48,103379.31,128049.34,54342.83,13614.01,35521.63,40496.72,91903.9,178667.7,32202.61,117034.32,163746.09,20346.69,84710.65,120531.31,152273.57,144345.58,96961.0,170307.43,29880.99,195104.91,187756.24,67599.69,105983.09,25980.42,112222.64,59864.96,42581.09,4777.23,178038.17,128521.16,109029.72,2267.88,55054.48,76456.17,75478.95,179144.54,193471.74,103570.8,102628.56,55772.04,192070.16,144808.37,5008.23,173680.39,115753.94,38928.48,174381.23,49829.8,76169.68,133465.57,38761.61,176779.46,13159.9,48217.97,134964.85,184221.11,19264.33,92797.23,33114.24,154347.95,184842.21,155743.48,88815.25,193747.57,116548.02,166324.79,40199.01,51919.04,73329.08,145387.05,140763.18,67979.35,133051.64,86791.9,47579.25,151623.71,164039.51,16528.4,66753.1,19244.58,103832.58,502.7,1408.68,5985.36,37460.05,30396.43,2498.67,55346.14,148330.97,59237.72,48644.94,140759.03,107712.42,181718.73,37054.65,173940.59,99298.8,62933.03,55287.84,48197.06,178642.73,8282.22,33300.56,76515.79,33680.56,168886.39,191746.23,93091.02,23904.52,15807.07,83773.02,90162.35,36639.25,139469.11,198402.37,194584.48,159629.64,34231.48,69643.31,90270.16,47848.56,162865.52,168650.4,54372.37,133897.32,147878.05,118313.38,181224.24,7921.57,5708.19,56756.52,4121.04,97213.09,12799.23,50400.32,41447.86,185543.35,189988.65,170819.01,85547.33,137037.97,19283.14,169425.3,132038.65,3626.47,50881.51,149170.25,182505.68,194072.56,9209.21,167931.81,123096.56,3965.69,87711.61,49667.28,136675.22,35865.44,26136.13,33373.26,10096.25,188782.3,79775.19,152740.16,5791.85,13182.43,187551.24,110560.14,63795.62,62086.62,12483.56,10963.04,8247.0,156260.08,26927.69,84782.42,19842.11,95393.43,133995.59,108003.38,99154.86,49503.5,196533.72,188426.13,171340.68,79071.89,20940.76,34774.26,6865.41,51143.43,47031.4,47160.01,158666.99,65464.66,78255.86,103548.25,89609.26,193476.04,5199.02,52827.51,86507.88,100423.88,175611.5,19282.85,27448.33,183963.34,45113.92,110776.01,183042.2,161571.79,166692.03,71173.64,5353.12,86019.48,86383.82,31641.52,70548.96,24411.02,122254.86,186035.72,73133.82,187734.49,111590.35,15859.95,61324.87,176868.89,98896.06,108739.15,12266.06,163317.5,182247.77,168261.4,158590.66,102566.46,141827.83,161671.15,192013.23,127875.1,60811.56,131177.22,130862.11,72970.93,28123.99,140754.19,166650.32,45507.24,112202.64,37140.2,178256.58,100982.93,109626.13,99251.24,143345.69,59653.03,196864.61,109960.4,127256.7,1099.95,146192.4,48553.77,144407.1,195760.53,44827.47,88743.99,88837.11,62112.7,163563.07,174800.31,42429.88,82647.65,134175.15,92243.94,6175.53,29213.63,67214.02,169037.84,188809.23,79408.17,89222.66,86079.67,12944.17,166516.84,126419.8,89103.05,132973.17,93122.41,167522.19,157239.6,107429.71,75304.09,182944.47,5983.7,163655.01,89385.92,168773.54,96864.36,134455.84,28368.37,103898.59,63239.65,170138.68,3837.08,92977.75,191368.37,104889.2,60285.3,180693.61,126475.79,133535.99,87412.24,164886.64,116238.39,138051.19,101617.64,1985.41,165626.6,177784.68,65765.22,50759.8,163216.48,74850.93,23491.09,134272.57,155721.15,147230.77,133210.44,18986.12,100507.81,59346.4,95372.64,31805.49,51959.82,130824.57,157694.76,933.38,2560.11,12905.89,176692.87,102908.63,41291.05,119127.06,126434.61,103901.35,85153.0,12493.61,167336.78,186180.42,88566.9,172526.9,137985.69,19793.73,107874.39,171995.34,61829.89,31728.35,155221.05,130866.95,62199.78,24255.21,64679.07,88120.78,66463.62,15142.1,102908.91,48170.57,11597.69,172450.04,184061.17,21038.58,109538.35,129192.55,146516.86,181430.91,121451.21,131712.51,53294.17,96546.55,184524.65,195259.31,172618.52,59259.44,25899.21,3749.0,101918.96,57802.62,142454.77,143829.54,44114.88,186948.35,173629.78,49133.45,178122.71,20893.61,41303.29,199808.1,180490.53,87400.53,73686.75,172497.73,89286.29,180082.7,22102.25,76068.95,32159.46,159557.28,107673.35,33607.72,141035.65,115719.08,86128.21,147668.64,177480.45,190937.09,84531.79,161133.4,185555.63,33075.24,39806.75,26389.92,12162.76,167237.94,52067.37,184006.36,582.59,143274.41,54474.48,121428.2,79704.12,41055.71,41590.4,54019.93,76053.07,184977.2,127678.95,1243.97,76326.67,145338.61,57751.21,138880.24,136120.29,167621.18,173276.62,99661.46,66333.56,70240.79,113553.42,690.84,98802.76,130661.95,116378.82,186052.15,100101.06,169952.82,61792.76,37973.13,188974.81,86334.64,152845.99,146652.11,45482.04,168816.73,59297.34,125848.88,76264.27,3939.87,15306.29,58214.79,35877.03,21254.06,24533.89,23531.5,89099.18,807.06,121592.5,4700.66,161909.95,90389.61,2919.21,99086.74,163170.32,72757.33,73286.8,146056.29,167673.37,146011.55,103381.47,83022.92,46041.08,182843.24,171364.18,183399.12,152883.95,50560.45,54702.66,78365.75,68666.63,151375.73,19959.67,26955.72,76267.59,100998.5,191070.01,176858.5,45325.26,190958.48,78896.59,121964.46,11144.4,144181.48,32757.55,80320.3,185830.72,160095.31,52198.84,31811.44,104181.78,67667.19,193974.47,198055.94,43249.67,55218.02,131305.37,43117.1,186655.11,33266.29,555.28,150944.31,72846.58,35279.74,2101.89,94949.84,99061.75,74692.06,116692.8,32824.15,139607.61,115525.13,20955.03,52341.15,159813.18,169935.46,146033.52,153122.73,60335.24,163757.29,156648.81,176471.78,5388.3,93332.64,71192.82,170309.19,109794.31,166310.82,126728.27,30338.94,37935.83,25329.48,49676.33,169498.61,26500.29,166458.41,181294.39,21768.21,72849.29,24499.97,98994.92,141446.01,77864.41,115115.32,168605.96,38550.4,160618.61,3701.63,88659.44,44273.91,156495.39,182988.94,175082.2,148811.14,85901.09,199255.32,107973.44,128028.6,104610.86,69676.55,35982.42,117939.17,95140.62,167682.57,56562.57,90305.97,109895.16,1843.24,102747.02,97465.89,105352.55,85801.77,69370.05,176945.96,21597.2,152039.67,111893.09,195074.62,15959.01,72628.84,64157.24,23860.5,85687.09,179451.42,93180.09,157097.09,80344.96,26080.54,31406.93,32044.64,132734.87,61602.42,41304.44,57962.41,42862.82,152992.04,91193.65,130132.41,88751.45,104118.93,42028.16,75632.78,53710.23,13066.3,152417.97,3299.01,198091.81,103934.12,70403.65,102179.86,30375.18,184796.84,166264.89,88391.97,115186.97,13935.53,83910.4,34712.34,13871.34,139494.75,140724.64,20682.46,124202.26,159638.77,171056.65,25333.03,29372.62,38533.79,156122.13,57904.22,31257.1,193214.05,137757.69,13308.2,132861.9,125083.29,12405.2,37697.29,105599.65,142783.98,168412.07,184036.47,48478.47,3896.08,132370.75,128260.86,106534.15,102515.42,83643.87,138906.85,29995.83,164081.42,187976.88,158171.36,155711.64,85890.75,83844.79,41777.9,81908.09,139377.24,73562.05,165786.1,174921.91,120790.02,56092.51,158816.03,125660.99,128400.62,107181.22,77203.72,129740.11,187604.97,184754.26,63981.37,192831.67,70849.47,27914.95,173568.3,9324.31,26628.88,145601.8,144496.07,11779.98,83983.39,123318.37,65481.86,47728.0,59195.05,98060.51,90106.94,13549.34,113436.08,42442.21,68297.61,80134.65,96051.1,80682.35,111149.98,182612.38,109201.43,151146.67,93901.61,36342.79,98302.57,84972.9,108747.12,21862.19,121551.93,177065.24,140460.01,35337.31,193502.93,32174.03,5811.9,149593.61,37439.9,142763.51,45038.74,172097.4,180344.69,37392.56,36864.05,132418.59,60894.26,143913.33,172240.27,86619.77,164074.89,69039.43,132468.76,65316.5,57164.19,34397.08,177431.59,142009.46,80618.47,124218.27,85286.3,40889.14,107236.87,168085.97,146663.43,4791.8,120819.58,114539.67,154000.99,137980.58,83343.73,82195.15,149550.95,197688.5,72929.96,171045.35,27731.05,126131.9,103931.49,147635.33,61961.57,125435.47,42240.54,57942.88,153419.62,189727.12,165385.55,19687.99,39473.63,144723.38,194895.57,77271.91,105096.82,176780.39,153786.46,43612.06,79479.74,92320.37,193201.86,126353.13,135008.92,17135.6,60651.77,188343.05,23291.83,64443.75,287.99,137961.41,72169.95,39608.58,175458.21,89524.83,13221.25,102889.34,166468.21,27149.27,59601.15,22026.18,153059.62,167313.07,12833.96,197582.79,4033.39,125877.22,176913.42,105476.65,59172.42,108731.02,175310.38,38170.04,105887.04,95625.03,9541.15,148516.79,113907.8,164647.72,98621.04,37479.97,15846.42,5104.08,61937.6,170008.74,165000.68,76197.05,118045.98,157360.9,196226.38,44384.57,72993.65,124571.09,43640.16,31121.42,22372.78,170338.35,158845.49,67926.18,194783.12,176036.01,198826.03,168683.57,6936.27,179230.23,103421.91,147578.26,130504.49,16149.13,118862.08,143397.14,137959.0,93702.96,172939.3,108162.13,35896.09,104852.6,188850.89,28615.8,172001.44,60116.57,170528.63,189683.7,49734.94,121529.59,71071.47,142995.32,13054.25,89402.54,111241.37,119638.85,151581.79,73881.68,176902.83,7034.94,122547.58,161559.12,137510.41,185366.56,182224.14,42581.04,31921.95,102460.84,109681.29,106345.05,102472.9,36249.76,32996.89,195123.94,57014.43,159483.76,100929.59,12513.07,74900.9,137111.89,60212.51,187343.4,183284.53,8125.39,103220.56,96885.19,8877.06,147530.06,33389.42,45309.24,35230.61,59816.41,69080.46,143450.61,40774.01,99377.27,133617.43,101495.0,119333.95,167682.37,152884.85,70400.86,65413.41,182728.8,81442.6,144251.38,40207.06,54530.51,32683.88,104703.96,26907.43,180591.32,60905.51,47777.15,108222.68,3554.63,78616.92,100566.81,183259.35,159131.21,160976.85,42933.26,91291.2,52471.36,108804.28,122449.18,41682.3,148887.69,137784.25,190573.91,102076.03,56307.51,49775.58,4395.45,28461.29,28184.7,3149.1,194273.12,148537.07,116378.31,6761.84,81995.92,14392.68,468.94,122379.54,13228.93,154002.02,112777.38,128528.83,170122.22,2803.89,181918.26,115241.96,129956.13,45858.49,131083.56,46422.46,57675.88,169741.96,26022.37,125334.16,21343.74,139971.01,47455.82,55593.8,191756.54,76373.38,169278.51,136909.88,54865.92,156529.44,113482.2,63446.47,13624.02,148814.54,65567.91,6409.55,126997.53,171762.87,129031.19,182691.31,12351.01,135123.96,181490.42,186490.37,41248.8,116267.28,9201.53,80630.32,159165.7,86490.09,197572.41,105159.89,40807.26,143.34,125823.79,138465.7,44008.91,66893.28,76503.06,56784.11,175657.55,105155.66,47468.56,64729.51,101108.85,140938.95,37662.49,86414.41,41820.65,127734.16,123872.0,113050.92,131389.39,26589.56,195463.35,108876.75,136054.45,182262.66,129209.09,64853.51,148989.15,71047.51,185341.63,137793.35,198317.23,162137.5,109688.82,36320.87,31384.86,114083.73,163331.65,50777.77,30772.86,113796.15,188729.08,86701.4,153129.22,19825.09,12186.83,86920.97,35408.77,165576.55,48226.76,199454.37,118749.58,151623.91,172097.95,87677.15,21858.28,123866.28,74694.41,16770.31,49424.6,172031.22,183021.06,73979.85,26265.18,24857.25,167969.15,189307.7,99770.3,119712.78,168607.74,83087.13,130664.79,133267.69,67029.82,141031.08,125110.02,117832.39,198817.72,146411.6,131312.56,141652.2,64477.25,191215.61,37090.44,57517.71,63241.21,44567.83,135337.11,33964.03,61623.19,168989.77,74425.41,178929.84,101382.86,180769.55,92378.54,38252.25,146111.35,72350.17,48242.38,148305.82,8270.06,41549.64,138656.81,12510.53,43889.41,192800.25,75762.0,9854.72,115724.78,106303.4,183868.01,153895.46,66695.71,173851.11,177423.02,109096.71,166656.18,176921.0,98413.1,77500.81,119747.08,160387.98,193715.0,28045.77,150757.35,82252.28,154395.56,83866.35,39830.1,12429.22,18772.5,9574.83,188486.94,64716.08,84749.96,180551.76,60907.49,174107.04,110405.9,187636.06,66580.13,178779.52,70783.61,46772.36,163327.27,103760.53,107839.03,32900.41,193984.6,140889.32,125646.82,20344.02,174268.87,108500.66,83247.14,121840.2,132908.07,100075.1,119327.75,136737.13,22356.97,10137.34,158379.25,94570.56,980.93,95583.45,86044.98,166236.38,5240.53,150684.23,129508.96,70665.16,102085.35,195052.12,93739.71,65612.12,160095.48,49506.82,92406.22,7415.96,25059.06,116816.54,144078.02,126675.62,183682.09,166850.57,27359.19,101314.65,27979.16,109470.34,93713.13,74870.99,192387.51,73457.55,61120.75,90964.54,116969.73,92118.75,48357.9,197325.4,135853.62,169122.54,164170.46,199909.32,83295.09,39382.06,184748.23,62280.91,196794.11,144682.17,196342.66,41516.44,112026.1,52035.29,185466.85,80149.27,170980.86,185827.74,113407.26,67734.79,3363.36,135757.27,22314.55,129526.57,37266.43,60017.46,153015.42,54209.02,114603.96,165849.49,16392.72,162719.69,107112.25,41823.22,99907.29,178229.04,22095.73,197861.16,138328.24,137276.83,21834.4,119890.86,24564.7,10209.8,83449.65,81508.1,32626.21,43982.41,124874.23,118324.75,22113.93,31962.77,105746.94,39925.52,127630.88,28778.98,10008.68,24482.16,98618.79,16281.94,121239.65,42669.37,164924.11,157337.29,153831.6,168781.8,168469.65,170829.87,86207.49,61164.45,133287.73,77128.23,77660.03,56897.1,72945.32,45418.12,158527.45,111312.96,138759.15,190588.59,79099.64,138613.21,194230.82,110252.53,106117.3,169642.13,116179.92,91.75,187839.9,121098.65,30972.06,30314.04,14479.29,196395.25,19512.38,72318.77,96615.23,30772.22,161217.18,66795.78,123969.64,13783.77,168924.41,134778.01,119782.89,52167.97,167689.56,140800.66,19823.02,72969.9,143711.02,180862.26,125658.28,125870.5,15126.32,22457.25,82614.89,32919.42,126223.84,112010.02,180962.32,128882.66,177614.17,174570.55,178373.93,103396.08,59129.72,683.37,145567.34,48137.08,90876.95,198543.09,106202.07,166896.01,74804.36,116971.05,163783.0,70221.13,107841.77,79623.28,138399.67,182765.14,186648.19,149587.92,129050.67,47764.99,172792.43,64436.16,167461.5,98348.66,41536.59,72462.25,112465.19,64511.44,91830.75,190806.36,112311.15,72276.24,84920.49,17348.56,82870.75,32080.69,120512.08,179032.68,95623.28,110035.88,168822.01,77705.75,49815.62,65632.33,169361.89,4721.3,23974.85,199929.17,40023.7,72946.95,170421.13,58879.11,25059.05,29909.84,158043.11,14032.62,49809.88,28806.32,90490.33,75825.57,158336.36,143454.95,117279.49,114283.33,994.86,124795.84,77592.8,105986.01,33606.52,134188.11,159718.27,85148.78,119059.13,122998.26,117841.06,160593.41,174189.04,68260.27,58854.88,87994.95,150659.35,109098.39,104112.0,122949.71,21807.16,32319.93,190457.87,177738.98,80425.65,9445.42,174825.57,175743.92,54949.73,183752.91,46038.28,78941.59,198398.68,188892.19,169286.74,145004.39,55809.92,54272.12,192440.54,103697.57,119110.03,194681.6,158948.63,165122.55,189402.71,158027.57,3815.48,162809.2,89519.47,25165.36,126012.57,20109.21,58257.23,172269.21,29818.2,114659.81,147184.74,15039.41,76621.49,92985.78,6009.27,191370.97,188225.67,11743.89,136846.75,164248.33,154631.35,149665.65,91574.92,127233.39,56650.47,84644.76,148238.16,193502.9,38020.05,176750.81,176580.63,133059.15,100843.82,30484.19,42330.58,193309.58,112813.79,68008.85,132673.22,22001.91,100200.4,122604.44,100564.37,5419.31,123587.83,13935.32,87060.77,4859.59,21085.17,26733.86,89734.7,179540.73,173219.09,37411.35,80852.11,43174.49,70927.11,54265.55,41872.17,15068.53,25950.49,197727.14,79555.08,15607.27,134612.48,159830.58,162961.79,192427.16,92647.94,180022.39,183584.14,28750.67,74846.67,89729.3,61843.73,24770.22,80587.27,116286.25,129333.69,129372.94,18149.03,168369.37,67431.28,177092.16,93736.69,131647.31,175722.31,85606.83,64945.57,190347.72,100791.36,167873.49,25289.23,20388.77,145089.64,179093.26,16025.17,9087.81,21472.42,146752.67,132562.23,139537.43,133672.61,38984.37,115217.59,93844.82,22068.83,123846.07,172638.13,1591.19,91775.51,153920.22,71420.16,172149.76,54706.75,183358.21,57098.0,156910.46,130224.73,13946.66,38652.96,140041.78,166187.1,139919.38,28137.03,50368.63,94978.1,69903.93,177607.77,196731.08,65234.6,186281.0,111573.3,196767.83,72985.61,143265.65,159268.67,54448.41,31928.5,21793.59,21903.62,49405.93,154908.52,182867.84,16957.45,93717.55,61636.22,95864.5,167400.29,131534.96,92934.41,119808.64,9439.31,18732.91,160162.42,53630.9,36405.21,61446.92,194686.78,134483.07,37769.98,2382.61,106826.92,39511.61,196371.13,122506.78,61994.2,192464.21,5194.95,198256.15,62634.94,114006.35,107994.99,48571.14,76016.49,180808.39,4225.11,135841.35,183536.24,88791.83,63732.9,1364.54,149184.15,53394.12,97910.06,101433.76,116944.3,113267.48,181449.51,179913.98,98586.14,120321.09,100538.8,98931.5,194493.57,143628.31,167030.51,77786.37,81014.5,41866.26,11302.7,149384.43,169303.65,37264.11,19515.48,103068.22,134459.12,70496.66,175877.7,106390.01,52138.49,18522.91,32231.6,174225.88,102021.39,31484.76,82469.06,110900.43,105105.35,12674.68,93255.85,145299.5,47139.44,167723.25,185900.88,85876.67,1787.85,23231.93,187740.04,100060.54,80130.54,132467.54,96202.44,94977.3,178827.3,192852.67,177238.35,199753.97,66193.61,181270.84,25407.59,20973.8,76544.9,110509.9,164247.51,105149.8,55868.97,178747.43,134720.51,978.66,183387.12,155876.06,119259.34,133720.57,170634.49,125692.07,19150.14,86894.67,57975.8,82938.99,79189.4,5177.62,44510.26,190611.92,177834.79,119446.64,50267.69,144849.1,81901.6,42576.86,87609.5,82820.85,155144.12,9578.24,170392.59,3946.29,102184.66,75609.84,26170.08,144727.45,58134.97,94620.0,108764.69,149503.54,120314.75,44205.95,6129.61,126796.69,27509.52,42143.55,87985.2,81884.8,2705.31,30546.4,149402.59,118429.02,58442.25,30414.17,58814.41,155304.53,187943.6,43036.6,26543.28,171928.04,35611.35,19047.23,39820.13,129013.59,113810.12,34749.65,56268.98,46630.47,124906.59,134869.93,36697.48,172200.91,137136.46,57594.78,36548.0,182960.46,42117.9,199478.05,91092.84,14090.4,178267.07,85808.22,109659.12,161642.08,3830.59,146636.44,144413.92,65801.44,192486.24,120852.85,146191.82,148412.24,164119.35,163457.55,144978.47,67288.89,103269.0,106969.98,117632.63,189777.66,66032.65,98661.27,74687.37,149604.18,79888.78,138775.69,154695.57,168834.38,105817.63,48682.1,147955.91,56185.98,81861.1,69826.8,118059.19,112333.22,14546.76,126172.11,3560.0,88878.15,84605.0,78268.61,120668.46,10063.75,163989.66,60584.33,94170.84,167181.77,38914.51,91196.67,85869.89,57337.79,175347.28,63092.65,109742.55,124489.88,56971.41,130752.01,191457.06,96442.86,122584.29,57215.85,195940.96,105448.74,37870.29,52534.81,141533.19,50568.02,26116.82,152054.33,1528.4,127939.26,2605.65,57841.89,186995.17,5549.11,11682.36,106939.34,53172.02,114388.98,2151.17,183492.9,76582.95,104217.96,8982.75,9984.4,19500.1,79146.36,191694.77,59645.24,55207.88,166177.3,136356.97,148611.52,85516.37,55120.79,131778.58,153269.98,164864.67,20367.68,39542.0,19412.8,127977.66,20508.85,176244.87,105013.63,27597.76,121073.23,101089.76,114258.18,22762.23,7008.65,81299.17,147521.35,6177.83,59374.82,157648.12,75685.59,136540.09,97939.4,36267.21,186064.34,176152.7,82117.2,151925.25,142287.65,36557.55,129975.34,21967.15,53477.76,178067.33,171039.56,150802.41,82951.12,57064.57,45755.0,176882.08,88838.14,88592.8,26261.42,29586.73,172321.21,158036.72,115733.16,59927.99,44377.65,79691.4,51503.51,62830.97,90346.1,40467.82,51620.94,65466.93,667.66,172437.12,106061.47,177622.38,191520.5,95686.6,173776.5,113089.43,149614.81,99537.68,97893.4,90.07,161154.85,332.81,66285.18,163477.22,170332.67,126144.96,53437.1,26920.43,52314.71,116885.59,126263.97,64613.81,89216.29,83419.15,123998.52,96985.58,146154.06,18471.86,95009.6,121175.86,77047.78,158049.9,147040.25,142566.75,185483.24,155870.82,121555.51,40223.74,75503.6,186942.49,117173.8,3453.4,48876.84,11830.53,162820.6,36540.63,6959.0,10828.78,80272.06,22184.14,186335.07,105715.01,68393.64,82868.34,196257.67,93439.75,150319.49,46523.6,199138.84,79559.02,116893.87,153983.99,63531.19,126253.31,73922.95,64679.3,157072.91,108377.82,88827.31,37674.47,106327.85,84475.13,33998.7,20491.15,197827.06,96687.25,46044.7,98949.85,185599.34,198341.15,119348.76,149614.17,12328.08,33245.97,2243.41,86786.41,12706.67,41295.1,177357.16,190663.89,115262.54,170099.23,189143.94,163257.44,95562.81,75272.63,20881.96,161845.81,49978.67,107292.91,32863.24,179608.96,70223.22,77951.84,55043.93,101677.46,79366.98,8037.03,176254.12,192743.06,56793.02,187900.12,92920.04,140166.95,155782.89,186574.68,3258.6,106714.28,144532.85,13591.52,74854.97,125451.01,149740.22,17355.36,50294.09,156394.74,77977.69,43678.06,13906.34,12766.74,51308.54,127444.14,72577.33,82438.13,60485.98,132798.78,71823.15,117144.15,141706.43,54517.25,183147.17,138360.29,79580.56,157458.61,171770.58,104263.82,167183.07,70774.97,114869.56,109159.58,59351.68,199657.46,121151.1,26342.33,102799.14,90928.48,141152.28,105568.6,183045.46,194792.42,21852.91,78250.13,47114.18,33230.37,114279.63,38802.03,72504.76,43943.09,68141.92,109179.89,48224.72,61538.43,94544.88,2850.01,163484.8,129629.41,133141.34,188078.55,174729.3,78700.03,198269.08,55266.96,51636.7,198251.52,171442.36,49778.79,19262.05,32349.29,137402.27,64038.34,68814.23,173632.92,128384.11,99475.95,89935.73,94142.35,171681.86,8222.96,170409.45,46555.15,161655.55,74267.35,34101.06,109572.58,106642.97,18897.29,189607.71,148750.16,105279.74,167916.35,8646.58,124592.84,50016.17,125422.66,81123.59,80408.59,146366.08,24402.87,60552.44,76476.05,92075.01,184125.1,96170.38,98208.62,157932.75,3497.43,51387.1,50123.44,180329.83,13238.93,167554.86,51454.06,19842.22,38315.04,187816.59,197148.24,163471.01,653.58,45414.09,45445.78,139024.31,168034.83,25669.1,8207.36,16281.68,14083.12,30165.06,39451.09,60270.87,22527.27,175072.47,114565.35,48930.8,187008.45,113581.85,124095.69,49054.1,80593.49,183044.86,159938.82,95483.48,198069.71,61793.47,86383.61,144099.48,155641.46,135784.94,123982.14,193130.55,145215.96,164741.81,72168.53,95022.02,23766.4,119374.74,139049.24,180844.81,143980.29,137392.77,123646.57,158054.49,105784.85,738.88,64539.64,79871.16,190776.83,6985.34,85522.84,149370.93,188516.45,2444.29,19762.88,172646.88,33501.98,114858.9,162668.33,161241.65,114957.22,18708.76,105305.72,58111.71,135502.77,10792.42,123866.43,129181.27,6847.73,138361.48,166707.22,107221.03,73124.53,12913.92,44351.77,96444.88,60739.16,118570.53,97057.28,3449.22,37605.9,117369.52,100598.98,17802.42,91094.46,120853.83,107124.17,59207.41,136869.31,113308.29,159334.93,20393.44,158590.25,23101.13,112585.19,119377.36,166472.81,171552.02,157474.1,13549.24,196526.55,84419.78,24991.92,191608.97,2988.28,99595.67,53445.17,115146.4,151325.24,51695.41,96833.0,34047.54,1914.41,49337.84,179436.6,53667.08,69384.71,195192.4,29179.52,167773.55,96270.64,101699.77,42085.58,92888.52,38190.78],\"yaxis\":\"y\",\"type\":\"scattergl\"}],                        {\"template\":{\"data\":{\"histogram2dcontour\":[{\"type\":\"histogram2dcontour\",\"colorbar\":{\"outlinewidth\":0,\"ticks\":\"\"},\"colorscale\":[[0.0,\"#0d0887\"],[0.1111111111111111,\"#46039f\"],[0.2222222222222222,\"#7201a8\"],[0.3333333333333333,\"#9c179e\"],[0.4444444444444444,\"#bd3786\"],[0.5555555555555556,\"#d8576b\"],[0.6666666666666666,\"#ed7953\"],[0.7777777777777778,\"#fb9f3a\"],[0.8888888888888888,\"#fdca26\"],[1.0,\"#f0f921\"]]}],\"choropleth\":[{\"type\":\"choropleth\",\"colorbar\":{\"outlinewidth\":0,\"ticks\":\"\"}}],\"histogram2d\":[{\"type\":\"histogram2d\",\"colorbar\":{\"outlinewidth\":0,\"ticks\":\"\"},\"colorscale\":[[0.0,\"#0d0887\"],[0.1111111111111111,\"#46039f\"],[0.2222222222222222,\"#7201a8\"],[0.3333333333333333,\"#9c179e\"],[0.4444444444444444,\"#bd3786\"],[0.5555555555555556,\"#d8576b\"],[0.6666666666666666,\"#ed7953\"],[0.7777777777777778,\"#fb9f3a\"],[0.8888888888888888,\"#fdca26\"],[1.0,\"#f0f921\"]]}],\"heatmap\":[{\"type\":\"heatmap\",\"colorbar\":{\"outlinewidth\":0,\"ticks\":\"\"},\"colorscale\":[[0.0,\"#0d0887\"],[0.1111111111111111,\"#46039f\"],[0.2222222222222222,\"#7201a8\"],[0.3333333333333333,\"#9c179e\"],[0.4444444444444444,\"#bd3786\"],[0.5555555555555556,\"#d8576b\"],[0.6666666666666666,\"#ed7953\"],[0.7777777777777778,\"#fb9f3a\"],[0.8888888888888888,\"#fdca26\"],[1.0,\"#f0f921\"]]}],\"heatmapgl\":[{\"type\":\"heatmapgl\",\"colorbar\":{\"outlinewidth\":0,\"ticks\":\"\"},\"colorscale\":[[0.0,\"#0d0887\"],[0.1111111111111111,\"#46039f\"],[0.2222222222222222,\"#7201a8\"],[0.3333333333333333,\"#9c179e\"],[0.4444444444444444,\"#bd3786\"],[0.5555555555555556,\"#d8576b\"],[0.6666666666666666,\"#ed7953\"],[0.7777777777777778,\"#fb9f3a\"],[0.8888888888888888,\"#fdca26\"],[1.0,\"#f0f921\"]]}],\"contourcarpet\":[{\"type\":\"contourcarpet\",\"colorbar\":{\"outlinewidth\":0,\"ticks\":\"\"}}],\"contour\":[{\"type\":\"contour\",\"colorbar\":{\"outlinewidth\":0,\"ticks\":\"\"},\"colorscale\":[[0.0,\"#0d0887\"],[0.1111111111111111,\"#46039f\"],[0.2222222222222222,\"#7201a8\"],[0.3333333333333333,\"#9c179e\"],[0.4444444444444444,\"#bd3786\"],[0.5555555555555556,\"#d8576b\"],[0.6666666666666666,\"#ed7953\"],[0.7777777777777778,\"#fb9f3a\"],[0.8888888888888888,\"#fdca26\"],[1.0,\"#f0f921\"]]}],\"surface\":[{\"type\":\"surface\",\"colorbar\":{\"outlinewidth\":0,\"ticks\":\"\"},\"colorscale\":[[0.0,\"#0d0887\"],[0.1111111111111111,\"#46039f\"],[0.2222222222222222,\"#7201a8\"],[0.3333333333333333,\"#9c179e\"],[0.4444444444444444,\"#bd3786\"],[0.5555555555555556,\"#d8576b\"],[0.6666666666666666,\"#ed7953\"],[0.7777777777777778,\"#fb9f3a\"],[0.8888888888888888,\"#fdca26\"],[1.0,\"#f0f921\"]]}],\"mesh3d\":[{\"type\":\"mesh3d\",\"colorbar\":{\"outlinewidth\":0,\"ticks\":\"\"}}],\"scatter\":[{\"fillpattern\":{\"fillmode\":\"overlay\",\"size\":10,\"solidity\":0.2},\"type\":\"scatter\"}],\"parcoords\":[{\"type\":\"parcoords\",\"line\":{\"colorbar\":{\"outlinewidth\":0,\"ticks\":\"\"}}}],\"scatterpolargl\":[{\"type\":\"scatterpolargl\",\"marker\":{\"colorbar\":{\"outlinewidth\":0,\"ticks\":\"\"}}}],\"bar\":[{\"error_x\":{\"color\":\"#2a3f5f\"},\"error_y\":{\"color\":\"#2a3f5f\"},\"marker\":{\"line\":{\"color\":\"#E5ECF6\",\"width\":0.5},\"pattern\":{\"fillmode\":\"overlay\",\"size\":10,\"solidity\":0.2}},\"type\":\"bar\"}],\"scattergeo\":[{\"type\":\"scattergeo\",\"marker\":{\"colorbar\":{\"outlinewidth\":0,\"ticks\":\"\"}}}],\"scatterpolar\":[{\"type\":\"scatterpolar\",\"marker\":{\"colorbar\":{\"outlinewidth\":0,\"ticks\":\"\"}}}],\"histogram\":[{\"marker\":{\"pattern\":{\"fillmode\":\"overlay\",\"size\":10,\"solidity\":0.2}},\"type\":\"histogram\"}],\"scattergl\":[{\"type\":\"scattergl\",\"marker\":{\"colorbar\":{\"outlinewidth\":0,\"ticks\":\"\"}}}],\"scatter3d\":[{\"type\":\"scatter3d\",\"line\":{\"colorbar\":{\"outlinewidth\":0,\"ticks\":\"\"}},\"marker\":{\"colorbar\":{\"outlinewidth\":0,\"ticks\":\"\"}}}],\"scattermapbox\":[{\"type\":\"scattermapbox\",\"marker\":{\"colorbar\":{\"outlinewidth\":0,\"ticks\":\"\"}}}],\"scatterternary\":[{\"type\":\"scatterternary\",\"marker\":{\"colorbar\":{\"outlinewidth\":0,\"ticks\":\"\"}}}],\"scattercarpet\":[{\"type\":\"scattercarpet\",\"marker\":{\"colorbar\":{\"outlinewidth\":0,\"ticks\":\"\"}}}],\"carpet\":[{\"aaxis\":{\"endlinecolor\":\"#2a3f5f\",\"gridcolor\":\"white\",\"linecolor\":\"white\",\"minorgridcolor\":\"white\",\"startlinecolor\":\"#2a3f5f\"},\"baxis\":{\"endlinecolor\":\"#2a3f5f\",\"gridcolor\":\"white\",\"linecolor\":\"white\",\"minorgridcolor\":\"white\",\"startlinecolor\":\"#2a3f5f\"},\"type\":\"carpet\"}],\"table\":[{\"cells\":{\"fill\":{\"color\":\"#EBF0F8\"},\"line\":{\"color\":\"white\"}},\"header\":{\"fill\":{\"color\":\"#C8D4E3\"},\"line\":{\"color\":\"white\"}},\"type\":\"table\"}],\"barpolar\":[{\"marker\":{\"line\":{\"color\":\"#E5ECF6\",\"width\":0.5},\"pattern\":{\"fillmode\":\"overlay\",\"size\":10,\"solidity\":0.2}},\"type\":\"barpolar\"}],\"pie\":[{\"automargin\":true,\"type\":\"pie\"}]},\"layout\":{\"autotypenumbers\":\"strict\",\"colorway\":[\"#636efa\",\"#EF553B\",\"#00cc96\",\"#ab63fa\",\"#FFA15A\",\"#19d3f3\",\"#FF6692\",\"#B6E880\",\"#FF97FF\",\"#FECB52\"],\"font\":{\"color\":\"#2a3f5f\"},\"hovermode\":\"closest\",\"hoverlabel\":{\"align\":\"left\"},\"paper_bgcolor\":\"white\",\"plot_bgcolor\":\"#E5ECF6\",\"polar\":{\"bgcolor\":\"#E5ECF6\",\"angularaxis\":{\"gridcolor\":\"white\",\"linecolor\":\"white\",\"ticks\":\"\"},\"radialaxis\":{\"gridcolor\":\"white\",\"linecolor\":\"white\",\"ticks\":\"\"}},\"ternary\":{\"bgcolor\":\"#E5ECF6\",\"aaxis\":{\"gridcolor\":\"white\",\"linecolor\":\"white\",\"ticks\":\"\"},\"baxis\":{\"gridcolor\":\"white\",\"linecolor\":\"white\",\"ticks\":\"\"},\"caxis\":{\"gridcolor\":\"white\",\"linecolor\":\"white\",\"ticks\":\"\"}},\"coloraxis\":{\"colorbar\":{\"outlinewidth\":0,\"ticks\":\"\"}},\"colorscale\":{\"sequential\":[[0.0,\"#0d0887\"],[0.1111111111111111,\"#46039f\"],[0.2222222222222222,\"#7201a8\"],[0.3333333333333333,\"#9c179e\"],[0.4444444444444444,\"#bd3786\"],[0.5555555555555556,\"#d8576b\"],[0.6666666666666666,\"#ed7953\"],[0.7777777777777778,\"#fb9f3a\"],[0.8888888888888888,\"#fdca26\"],[1.0,\"#f0f921\"]],\"sequentialminus\":[[0.0,\"#0d0887\"],[0.1111111111111111,\"#46039f\"],[0.2222222222222222,\"#7201a8\"],[0.3333333333333333,\"#9c179e\"],[0.4444444444444444,\"#bd3786\"],[0.5555555555555556,\"#d8576b\"],[0.6666666666666666,\"#ed7953\"],[0.7777777777777778,\"#fb9f3a\"],[0.8888888888888888,\"#fdca26\"],[1.0,\"#f0f921\"]],\"diverging\":[[0,\"#8e0152\"],[0.1,\"#c51b7d\"],[0.2,\"#de77ae\"],[0.3,\"#f1b6da\"],[0.4,\"#fde0ef\"],[0.5,\"#f7f7f7\"],[0.6,\"#e6f5d0\"],[0.7,\"#b8e186\"],[0.8,\"#7fbc41\"],[0.9,\"#4d9221\"],[1,\"#276419\"]]},\"xaxis\":{\"gridcolor\":\"white\",\"linecolor\":\"white\",\"ticks\":\"\",\"title\":{\"standoff\":15},\"zerolinecolor\":\"white\",\"automargin\":true,\"zerolinewidth\":2},\"yaxis\":{\"gridcolor\":\"white\",\"linecolor\":\"white\",\"ticks\":\"\",\"title\":{\"standoff\":15},\"zerolinecolor\":\"white\",\"automargin\":true,\"zerolinewidth\":2},\"scene\":{\"xaxis\":{\"backgroundcolor\":\"#E5ECF6\",\"gridcolor\":\"white\",\"linecolor\":\"white\",\"showbackground\":true,\"ticks\":\"\",\"zerolinecolor\":\"white\",\"gridwidth\":2},\"yaxis\":{\"backgroundcolor\":\"#E5ECF6\",\"gridcolor\":\"white\",\"linecolor\":\"white\",\"showbackground\":true,\"ticks\":\"\",\"zerolinecolor\":\"white\",\"gridwidth\":2},\"zaxis\":{\"backgroundcolor\":\"#E5ECF6\",\"gridcolor\":\"white\",\"linecolor\":\"white\",\"showbackground\":true,\"ticks\":\"\",\"zerolinecolor\":\"white\",\"gridwidth\":2}},\"shapedefaults\":{\"line\":{\"color\":\"#2a3f5f\"}},\"annotationdefaults\":{\"arrowcolor\":\"#2a3f5f\",\"arrowhead\":0,\"arrowwidth\":1},\"geo\":{\"bgcolor\":\"white\",\"landcolor\":\"#E5ECF6\",\"subunitcolor\":\"white\",\"showland\":true,\"showlakes\":true,\"lakecolor\":\"white\"},\"title\":{\"x\":0.05},\"mapbox\":{\"style\":\"light\"}}},\"xaxis\":{\"anchor\":\"y\",\"domain\":[0.0,1.0],\"title\":{\"text\":\"CreditScore\"}},\"yaxis\":{\"anchor\":\"x\",\"domain\":[0.0,1.0],\"title\":{\"text\":\"EstimatedSalary\"}},\"coloraxis\":{\"colorbar\":{\"title\":{\"text\":\"Exited\"}},\"colorscale\":[[0.0,\"#0d0887\"],[0.1111111111111111,\"#46039f\"],[0.2222222222222222,\"#7201a8\"],[0.3333333333333333,\"#9c179e\"],[0.4444444444444444,\"#bd3786\"],[0.5555555555555556,\"#d8576b\"],[0.6666666666666666,\"#ed7953\"],[0.7777777777777778,\"#fb9f3a\"],[0.8888888888888888,\"#fdca26\"],[1.0,\"#f0f921\"]]},\"legend\":{\"tracegroupgap\":0},\"title\":{\"text\":\"\\u0412\\u0437\\u0430\\u0438\\u043c\\u043e\\u0441\\u0432\\u044f\\u0437\\u044c \\u043a\\u0440\\u0435\\u0434\\u0438\\u0442\\u043d\\u043e\\u0433\\u043e \\u0440\\u0435\\u0439\\u0442\\u0438\\u043d\\u0433\\u0430 \\u043a\\u043b\\u0438\\u0435\\u043d\\u0442\\u0430 \\u0438 \\u0435\\u0433\\u043e \\u043f\\u0440\\u0435\\u0434\\u043f\\u043e\\u043b\\u0430\\u0433\\u0430\\u0435\\u043c\\u043e\\u0439 \\u0437\\u0430\\u0440\\u043f\\u043b\\u0430\\u0442\\u044b\"}},                        {\"responsive\": true}                    ).then(function(){\n",
       "                            \n",
       "var gd = document.getElementById('6599660f-38f2-402e-ba17-bb8d0bfa625b');\n",
       "var x = new MutationObserver(function (mutations, observer) {{\n",
       "        var display = window.getComputedStyle(gd).display;\n",
       "        if (!display || display === 'none') {{\n",
       "            console.log([gd, 'removed!']);\n",
       "            Plotly.purge(gd);\n",
       "            observer.disconnect();\n",
       "        }}\n",
       "}});\n",
       "\n",
       "// Listen for the removal of the full notebook cells\n",
       "var notebookContainer = gd.closest('#notebook-container');\n",
       "if (notebookContainer) {{\n",
       "    x.observe(notebookContainer, {childList: true});\n",
       "}}\n",
       "\n",
       "// Listen for the clearing of the current output cell\n",
       "var outputEl = gd.closest('.output');\n",
       "if (outputEl) {{\n",
       "    x.observe(outputEl, {childList: true});\n",
       "}}\n",
       "\n",
       "                        })                };                });            </script>        </div>"
      ]
     },
     "metadata": {},
     "output_type": "display_data"
    }
   ],
   "source": [
    "from plotly.offline import plot, iplot, init_notebook_mode\n",
    "init_notebook_mode(connected=True)\n",
    "import plotly.express as px\n",
    "import plotly.graph_objects as go\n",
    "import plotly.io as pio\n",
    "pio.renderers.default = \"notebook_connected\"\n",
    "\n",
    "fig = px.scatter(\n",
    "    churn_data,\n",
    "    x=\"CreditScore\",\n",
    "    y=\"EstimatedSalary\",\n",
    "    color=\"Exited\",\n",
    "    title=\"Взаимосвязь кредитного рейтинга клиента и его предполагаемой зарплаты\"\n",
    ")\n",
    "fig.show()"
   ]
  },
  {
   "cell_type": "code",
   "execution_count": 142,
   "metadata": {},
   "outputs": [],
   "source": [
    "#Из графика хорошо видно что на границах значений оси Х расположились ушедшие и лояльные клиенты.\n",
    "#Чем ниже оказывался кредитный рейтинг, тем чаще уходили клиенты и наоборот - при высоком рейтинге\n",
    "#все клиенты выделены синим цветом т.е их значение равно 0 в столбце Exited - они являются лояльными клиентами.\n",
    "#Также плотность рапределения показывает что кредитный рейтинг находится в пределах 500 - 800 для большинства\n",
    "#клиентов имеющих заработную плату от порядка 5 до 195 тысяч т.е люди независимо от величины заработной платы\n",
    "#стараются иметь свою кредитную историю положительной."
   ]
  },
  {
   "cell_type": "code",
   "execution_count": 47,
   "metadata": {},
   "outputs": [
    {
     "data": {
      "text/plain": [
       "Renderers configuration\n",
       "-----------------------\n",
       "    Default renderer: 'browser'\n",
       "    Available renderers:\n",
       "        ['plotly_mimetype', 'jupyterlab', 'nteract', 'vscode',\n",
       "         'notebook', 'notebook_connected', 'kaggle', 'azure', 'colab',\n",
       "         'cocalc', 'databricks', 'json', 'png', 'jpeg', 'jpg', 'svg',\n",
       "         'pdf', 'browser', 'firefox', 'chrome', 'chromium', 'iframe',\n",
       "         'iframe_connected', 'sphinx_gallery', 'sphinx_gallery_png']"
      ]
     },
     "execution_count": 47,
     "metadata": {},
     "output_type": "execute_result"
    }
   ],
   "source": [
    "pio.renderers"
   ]
  },
  {
   "cell_type": "code",
   "execution_count": null,
   "metadata": {},
   "outputs": [],
   "source": [
    "import plotly\n",
    "import cufflinks as cf\n",
    "import chart_studio.plotly as py\n",
    "import plotly.express as px\n",
    "import plotly.graph_objects as go\n",
    "import plotly.figure_factory as ff\n",
    "import plotly.io as pio\n",
    "pio.renderers.default = \"notebook_connected\"\n",
    "\n",
    "cf.go_offline()"
   ]
  },
  {
   "cell_type": "markdown",
   "metadata": {},
   "source": [
    "Задание 9.6 Кто чаще уходит, мужчины или женщины? Постройте график, который иллюстрирует это."
   ]
  },
  {
   "cell_type": "code",
   "execution_count": 73,
   "metadata": {},
   "outputs": [
    {
     "data": {
      "application/vnd.plotly.v1+json": {
       "config": {
        "plotlyServerURL": "https://plot.ly"
       },
       "data": [
        {
         "alignmentgroup": "True",
         "hovertemplate": "Gender=%{x}<br>CustomerId=%{y}<br>Exited=%{marker.color}<extra></extra>",
         "legendgroup": "",
         "marker": {
          "color": [
           0,
           1,
           0,
           1
          ],
          "coloraxis": "coloraxis",
          "pattern": {
           "shape": ""
          }
         },
         "name": "",
         "offsetgroup": "",
         "orientation": "v",
         "showlegend": false,
         "textposition": "auto",
         "type": "bar",
         "x": [
          "Female",
          "Female",
          "Male",
          "Male"
         ],
         "xaxis": "x",
         "y": [
          3404,
          1139,
          4559,
          898
         ],
         "yaxis": "y"
        }
       ],
       "layout": {
        "barmode": "group",
        "coloraxis": {
         "colorbar": {
          "title": {
           "text": "Exited"
          }
         },
         "colorscale": [
          [
           0,
           "#0d0887"
          ],
          [
           0.1111111111111111,
           "#46039f"
          ],
          [
           0.2222222222222222,
           "#7201a8"
          ],
          [
           0.3333333333333333,
           "#9c179e"
          ],
          [
           0.4444444444444444,
           "#bd3786"
          ],
          [
           0.5555555555555556,
           "#d8576b"
          ],
          [
           0.6666666666666666,
           "#ed7953"
          ],
          [
           0.7777777777777778,
           "#fb9f3a"
          ],
          [
           0.8888888888888888,
           "#fdca26"
          ],
          [
           1,
           "#f0f921"
          ]
         ]
        },
        "height": 500,
        "legend": {
         "tracegroupgap": 0
        },
        "template": {
         "data": {
          "bar": [
           {
            "error_x": {
             "color": "#2a3f5f"
            },
            "error_y": {
             "color": "#2a3f5f"
            },
            "marker": {
             "line": {
              "color": "#E5ECF6",
              "width": 0.5
             },
             "pattern": {
              "fillmode": "overlay",
              "size": 10,
              "solidity": 0.2
             }
            },
            "type": "bar"
           }
          ],
          "barpolar": [
           {
            "marker": {
             "line": {
              "color": "#E5ECF6",
              "width": 0.5
             },
             "pattern": {
              "fillmode": "overlay",
              "size": 10,
              "solidity": 0.2
             }
            },
            "type": "barpolar"
           }
          ],
          "carpet": [
           {
            "aaxis": {
             "endlinecolor": "#2a3f5f",
             "gridcolor": "white",
             "linecolor": "white",
             "minorgridcolor": "white",
             "startlinecolor": "#2a3f5f"
            },
            "baxis": {
             "endlinecolor": "#2a3f5f",
             "gridcolor": "white",
             "linecolor": "white",
             "minorgridcolor": "white",
             "startlinecolor": "#2a3f5f"
            },
            "type": "carpet"
           }
          ],
          "choropleth": [
           {
            "colorbar": {
             "outlinewidth": 0,
             "ticks": ""
            },
            "type": "choropleth"
           }
          ],
          "contour": [
           {
            "colorbar": {
             "outlinewidth": 0,
             "ticks": ""
            },
            "colorscale": [
             [
              0,
              "#0d0887"
             ],
             [
              0.1111111111111111,
              "#46039f"
             ],
             [
              0.2222222222222222,
              "#7201a8"
             ],
             [
              0.3333333333333333,
              "#9c179e"
             ],
             [
              0.4444444444444444,
              "#bd3786"
             ],
             [
              0.5555555555555556,
              "#d8576b"
             ],
             [
              0.6666666666666666,
              "#ed7953"
             ],
             [
              0.7777777777777778,
              "#fb9f3a"
             ],
             [
              0.8888888888888888,
              "#fdca26"
             ],
             [
              1,
              "#f0f921"
             ]
            ],
            "type": "contour"
           }
          ],
          "contourcarpet": [
           {
            "colorbar": {
             "outlinewidth": 0,
             "ticks": ""
            },
            "type": "contourcarpet"
           }
          ],
          "heatmap": [
           {
            "colorbar": {
             "outlinewidth": 0,
             "ticks": ""
            },
            "colorscale": [
             [
              0,
              "#0d0887"
             ],
             [
              0.1111111111111111,
              "#46039f"
             ],
             [
              0.2222222222222222,
              "#7201a8"
             ],
             [
              0.3333333333333333,
              "#9c179e"
             ],
             [
              0.4444444444444444,
              "#bd3786"
             ],
             [
              0.5555555555555556,
              "#d8576b"
             ],
             [
              0.6666666666666666,
              "#ed7953"
             ],
             [
              0.7777777777777778,
              "#fb9f3a"
             ],
             [
              0.8888888888888888,
              "#fdca26"
             ],
             [
              1,
              "#f0f921"
             ]
            ],
            "type": "heatmap"
           }
          ],
          "heatmapgl": [
           {
            "colorbar": {
             "outlinewidth": 0,
             "ticks": ""
            },
            "colorscale": [
             [
              0,
              "#0d0887"
             ],
             [
              0.1111111111111111,
              "#46039f"
             ],
             [
              0.2222222222222222,
              "#7201a8"
             ],
             [
              0.3333333333333333,
              "#9c179e"
             ],
             [
              0.4444444444444444,
              "#bd3786"
             ],
             [
              0.5555555555555556,
              "#d8576b"
             ],
             [
              0.6666666666666666,
              "#ed7953"
             ],
             [
              0.7777777777777778,
              "#fb9f3a"
             ],
             [
              0.8888888888888888,
              "#fdca26"
             ],
             [
              1,
              "#f0f921"
             ]
            ],
            "type": "heatmapgl"
           }
          ],
          "histogram": [
           {
            "marker": {
             "pattern": {
              "fillmode": "overlay",
              "size": 10,
              "solidity": 0.2
             }
            },
            "type": "histogram"
           }
          ],
          "histogram2d": [
           {
            "colorbar": {
             "outlinewidth": 0,
             "ticks": ""
            },
            "colorscale": [
             [
              0,
              "#0d0887"
             ],
             [
              0.1111111111111111,
              "#46039f"
             ],
             [
              0.2222222222222222,
              "#7201a8"
             ],
             [
              0.3333333333333333,
              "#9c179e"
             ],
             [
              0.4444444444444444,
              "#bd3786"
             ],
             [
              0.5555555555555556,
              "#d8576b"
             ],
             [
              0.6666666666666666,
              "#ed7953"
             ],
             [
              0.7777777777777778,
              "#fb9f3a"
             ],
             [
              0.8888888888888888,
              "#fdca26"
             ],
             [
              1,
              "#f0f921"
             ]
            ],
            "type": "histogram2d"
           }
          ],
          "histogram2dcontour": [
           {
            "colorbar": {
             "outlinewidth": 0,
             "ticks": ""
            },
            "colorscale": [
             [
              0,
              "#0d0887"
             ],
             [
              0.1111111111111111,
              "#46039f"
             ],
             [
              0.2222222222222222,
              "#7201a8"
             ],
             [
              0.3333333333333333,
              "#9c179e"
             ],
             [
              0.4444444444444444,
              "#bd3786"
             ],
             [
              0.5555555555555556,
              "#d8576b"
             ],
             [
              0.6666666666666666,
              "#ed7953"
             ],
             [
              0.7777777777777778,
              "#fb9f3a"
             ],
             [
              0.8888888888888888,
              "#fdca26"
             ],
             [
              1,
              "#f0f921"
             ]
            ],
            "type": "histogram2dcontour"
           }
          ],
          "mesh3d": [
           {
            "colorbar": {
             "outlinewidth": 0,
             "ticks": ""
            },
            "type": "mesh3d"
           }
          ],
          "parcoords": [
           {
            "line": {
             "colorbar": {
              "outlinewidth": 0,
              "ticks": ""
             }
            },
            "type": "parcoords"
           }
          ],
          "pie": [
           {
            "automargin": true,
            "type": "pie"
           }
          ],
          "scatter": [
           {
            "fillpattern": {
             "fillmode": "overlay",
             "size": 10,
             "solidity": 0.2
            },
            "type": "scatter"
           }
          ],
          "scatter3d": [
           {
            "line": {
             "colorbar": {
              "outlinewidth": 0,
              "ticks": ""
             }
            },
            "marker": {
             "colorbar": {
              "outlinewidth": 0,
              "ticks": ""
             }
            },
            "type": "scatter3d"
           }
          ],
          "scattercarpet": [
           {
            "marker": {
             "colorbar": {
              "outlinewidth": 0,
              "ticks": ""
             }
            },
            "type": "scattercarpet"
           }
          ],
          "scattergeo": [
           {
            "marker": {
             "colorbar": {
              "outlinewidth": 0,
              "ticks": ""
             }
            },
            "type": "scattergeo"
           }
          ],
          "scattergl": [
           {
            "marker": {
             "colorbar": {
              "outlinewidth": 0,
              "ticks": ""
             }
            },
            "type": "scattergl"
           }
          ],
          "scattermapbox": [
           {
            "marker": {
             "colorbar": {
              "outlinewidth": 0,
              "ticks": ""
             }
            },
            "type": "scattermapbox"
           }
          ],
          "scatterpolar": [
           {
            "marker": {
             "colorbar": {
              "outlinewidth": 0,
              "ticks": ""
             }
            },
            "type": "scatterpolar"
           }
          ],
          "scatterpolargl": [
           {
            "marker": {
             "colorbar": {
              "outlinewidth": 0,
              "ticks": ""
             }
            },
            "type": "scatterpolargl"
           }
          ],
          "scatterternary": [
           {
            "marker": {
             "colorbar": {
              "outlinewidth": 0,
              "ticks": ""
             }
            },
            "type": "scatterternary"
           }
          ],
          "surface": [
           {
            "colorbar": {
             "outlinewidth": 0,
             "ticks": ""
            },
            "colorscale": [
             [
              0,
              "#0d0887"
             ],
             [
              0.1111111111111111,
              "#46039f"
             ],
             [
              0.2222222222222222,
              "#7201a8"
             ],
             [
              0.3333333333333333,
              "#9c179e"
             ],
             [
              0.4444444444444444,
              "#bd3786"
             ],
             [
              0.5555555555555556,
              "#d8576b"
             ],
             [
              0.6666666666666666,
              "#ed7953"
             ],
             [
              0.7777777777777778,
              "#fb9f3a"
             ],
             [
              0.8888888888888888,
              "#fdca26"
             ],
             [
              1,
              "#f0f921"
             ]
            ],
            "type": "surface"
           }
          ],
          "table": [
           {
            "cells": {
             "fill": {
              "color": "#EBF0F8"
             },
             "line": {
              "color": "white"
             }
            },
            "header": {
             "fill": {
              "color": "#C8D4E3"
             },
             "line": {
              "color": "white"
             }
            },
            "type": "table"
           }
          ]
         },
         "layout": {
          "annotationdefaults": {
           "arrowcolor": "#2a3f5f",
           "arrowhead": 0,
           "arrowwidth": 1
          },
          "autotypenumbers": "strict",
          "coloraxis": {
           "colorbar": {
            "outlinewidth": 0,
            "ticks": ""
           }
          },
          "colorscale": {
           "diverging": [
            [
             0,
             "#8e0152"
            ],
            [
             0.1,
             "#c51b7d"
            ],
            [
             0.2,
             "#de77ae"
            ],
            [
             0.3,
             "#f1b6da"
            ],
            [
             0.4,
             "#fde0ef"
            ],
            [
             0.5,
             "#f7f7f7"
            ],
            [
             0.6,
             "#e6f5d0"
            ],
            [
             0.7,
             "#b8e186"
            ],
            [
             0.8,
             "#7fbc41"
            ],
            [
             0.9,
             "#4d9221"
            ],
            [
             1,
             "#276419"
            ]
           ],
           "sequential": [
            [
             0,
             "#0d0887"
            ],
            [
             0.1111111111111111,
             "#46039f"
            ],
            [
             0.2222222222222222,
             "#7201a8"
            ],
            [
             0.3333333333333333,
             "#9c179e"
            ],
            [
             0.4444444444444444,
             "#bd3786"
            ],
            [
             0.5555555555555556,
             "#d8576b"
            ],
            [
             0.6666666666666666,
             "#ed7953"
            ],
            [
             0.7777777777777778,
             "#fb9f3a"
            ],
            [
             0.8888888888888888,
             "#fdca26"
            ],
            [
             1,
             "#f0f921"
            ]
           ],
           "sequentialminus": [
            [
             0,
             "#0d0887"
            ],
            [
             0.1111111111111111,
             "#46039f"
            ],
            [
             0.2222222222222222,
             "#7201a8"
            ],
            [
             0.3333333333333333,
             "#9c179e"
            ],
            [
             0.4444444444444444,
             "#bd3786"
            ],
            [
             0.5555555555555556,
             "#d8576b"
            ],
            [
             0.6666666666666666,
             "#ed7953"
            ],
            [
             0.7777777777777778,
             "#fb9f3a"
            ],
            [
             0.8888888888888888,
             "#fdca26"
            ],
            [
             1,
             "#f0f921"
            ]
           ]
          },
          "colorway": [
           "#636efa",
           "#EF553B",
           "#00cc96",
           "#ab63fa",
           "#FFA15A",
           "#19d3f3",
           "#FF6692",
           "#B6E880",
           "#FF97FF",
           "#FECB52"
          ],
          "font": {
           "color": "#2a3f5f"
          },
          "geo": {
           "bgcolor": "white",
           "lakecolor": "white",
           "landcolor": "#E5ECF6",
           "showlakes": true,
           "showland": true,
           "subunitcolor": "white"
          },
          "hoverlabel": {
           "align": "left"
          },
          "hovermode": "closest",
          "mapbox": {
           "style": "light"
          },
          "paper_bgcolor": "white",
          "plot_bgcolor": "#E5ECF6",
          "polar": {
           "angularaxis": {
            "gridcolor": "white",
            "linecolor": "white",
            "ticks": ""
           },
           "bgcolor": "#E5ECF6",
           "radialaxis": {
            "gridcolor": "white",
            "linecolor": "white",
            "ticks": ""
           }
          },
          "scene": {
           "xaxis": {
            "backgroundcolor": "#E5ECF6",
            "gridcolor": "white",
            "gridwidth": 2,
            "linecolor": "white",
            "showbackground": true,
            "ticks": "",
            "zerolinecolor": "white"
           },
           "yaxis": {
            "backgroundcolor": "#E5ECF6",
            "gridcolor": "white",
            "gridwidth": 2,
            "linecolor": "white",
            "showbackground": true,
            "ticks": "",
            "zerolinecolor": "white"
           },
           "zaxis": {
            "backgroundcolor": "#E5ECF6",
            "gridcolor": "white",
            "gridwidth": 2,
            "linecolor": "white",
            "showbackground": true,
            "ticks": "",
            "zerolinecolor": "white"
           }
          },
          "shapedefaults": {
           "line": {
            "color": "#2a3f5f"
           }
          },
          "ternary": {
           "aaxis": {
            "gridcolor": "white",
            "linecolor": "white",
            "ticks": ""
           },
           "baxis": {
            "gridcolor": "white",
            "linecolor": "white",
            "ticks": ""
           },
           "bgcolor": "#E5ECF6",
           "caxis": {
            "gridcolor": "white",
            "linecolor": "white",
            "ticks": ""
           }
          },
          "title": {
           "x": 0.05
          },
          "xaxis": {
           "automargin": true,
           "gridcolor": "white",
           "linecolor": "white",
           "ticks": "",
           "title": {
            "standoff": 15
           },
           "zerolinecolor": "white",
           "zerolinewidth": 2
          },
          "yaxis": {
           "automargin": true,
           "gridcolor": "white",
           "linecolor": "white",
           "ticks": "",
           "title": {
            "standoff": 15
           },
           "zerolinecolor": "white",
           "zerolinewidth": 2
          }
         }
        },
        "title": {
         "text": "Зависимость ушедших и оставшихся клиентов от пола"
        },
        "width": 550,
        "xaxis": {
         "anchor": "y",
         "domain": [
          0,
          1
         ],
         "title": {
          "text": "Gender"
         }
        },
        "yaxis": {
         "anchor": "x",
         "domain": [
          0,
          1
         ],
         "title": {
          "text": "CustomerId"
         }
        }
       }
      },
      "text/html": [
       "<div>                            <div id=\"e42d9b5a-ceaa-48c3-8e93-22027fa23415\" class=\"plotly-graph-div\" style=\"height:500px; width:550px;\"></div>            <script type=\"text/javascript\">                require([\"plotly\"], function(Plotly) {                    window.PLOTLYENV=window.PLOTLYENV || {};                                    if (document.getElementById(\"e42d9b5a-ceaa-48c3-8e93-22027fa23415\")) {                    Plotly.newPlot(                        \"e42d9b5a-ceaa-48c3-8e93-22027fa23415\",                        [{\"alignmentgroup\":\"True\",\"hovertemplate\":\"Gender=%{x}<br>CustomerId=%{y}<br>Exited=%{marker.color}<extra></extra>\",\"legendgroup\":\"\",\"marker\":{\"color\":[0,1,0,1],\"coloraxis\":\"coloraxis\",\"pattern\":{\"shape\":\"\"}},\"name\":\"\",\"offsetgroup\":\"\",\"orientation\":\"v\",\"showlegend\":false,\"textposition\":\"auto\",\"x\":[\"Female\",\"Female\",\"Male\",\"Male\"],\"xaxis\":\"x\",\"y\":[3404,1139,4559,898],\"yaxis\":\"y\",\"type\":\"bar\"}],                        {\"template\":{\"data\":{\"histogram2dcontour\":[{\"type\":\"histogram2dcontour\",\"colorbar\":{\"outlinewidth\":0,\"ticks\":\"\"},\"colorscale\":[[0.0,\"#0d0887\"],[0.1111111111111111,\"#46039f\"],[0.2222222222222222,\"#7201a8\"],[0.3333333333333333,\"#9c179e\"],[0.4444444444444444,\"#bd3786\"],[0.5555555555555556,\"#d8576b\"],[0.6666666666666666,\"#ed7953\"],[0.7777777777777778,\"#fb9f3a\"],[0.8888888888888888,\"#fdca26\"],[1.0,\"#f0f921\"]]}],\"choropleth\":[{\"type\":\"choropleth\",\"colorbar\":{\"outlinewidth\":0,\"ticks\":\"\"}}],\"histogram2d\":[{\"type\":\"histogram2d\",\"colorbar\":{\"outlinewidth\":0,\"ticks\":\"\"},\"colorscale\":[[0.0,\"#0d0887\"],[0.1111111111111111,\"#46039f\"],[0.2222222222222222,\"#7201a8\"],[0.3333333333333333,\"#9c179e\"],[0.4444444444444444,\"#bd3786\"],[0.5555555555555556,\"#d8576b\"],[0.6666666666666666,\"#ed7953\"],[0.7777777777777778,\"#fb9f3a\"],[0.8888888888888888,\"#fdca26\"],[1.0,\"#f0f921\"]]}],\"heatmap\":[{\"type\":\"heatmap\",\"colorbar\":{\"outlinewidth\":0,\"ticks\":\"\"},\"colorscale\":[[0.0,\"#0d0887\"],[0.1111111111111111,\"#46039f\"],[0.2222222222222222,\"#7201a8\"],[0.3333333333333333,\"#9c179e\"],[0.4444444444444444,\"#bd3786\"],[0.5555555555555556,\"#d8576b\"],[0.6666666666666666,\"#ed7953\"],[0.7777777777777778,\"#fb9f3a\"],[0.8888888888888888,\"#fdca26\"],[1.0,\"#f0f921\"]]}],\"heatmapgl\":[{\"type\":\"heatmapgl\",\"colorbar\":{\"outlinewidth\":0,\"ticks\":\"\"},\"colorscale\":[[0.0,\"#0d0887\"],[0.1111111111111111,\"#46039f\"],[0.2222222222222222,\"#7201a8\"],[0.3333333333333333,\"#9c179e\"],[0.4444444444444444,\"#bd3786\"],[0.5555555555555556,\"#d8576b\"],[0.6666666666666666,\"#ed7953\"],[0.7777777777777778,\"#fb9f3a\"],[0.8888888888888888,\"#fdca26\"],[1.0,\"#f0f921\"]]}],\"contourcarpet\":[{\"type\":\"contourcarpet\",\"colorbar\":{\"outlinewidth\":0,\"ticks\":\"\"}}],\"contour\":[{\"type\":\"contour\",\"colorbar\":{\"outlinewidth\":0,\"ticks\":\"\"},\"colorscale\":[[0.0,\"#0d0887\"],[0.1111111111111111,\"#46039f\"],[0.2222222222222222,\"#7201a8\"],[0.3333333333333333,\"#9c179e\"],[0.4444444444444444,\"#bd3786\"],[0.5555555555555556,\"#d8576b\"],[0.6666666666666666,\"#ed7953\"],[0.7777777777777778,\"#fb9f3a\"],[0.8888888888888888,\"#fdca26\"],[1.0,\"#f0f921\"]]}],\"surface\":[{\"type\":\"surface\",\"colorbar\":{\"outlinewidth\":0,\"ticks\":\"\"},\"colorscale\":[[0.0,\"#0d0887\"],[0.1111111111111111,\"#46039f\"],[0.2222222222222222,\"#7201a8\"],[0.3333333333333333,\"#9c179e\"],[0.4444444444444444,\"#bd3786\"],[0.5555555555555556,\"#d8576b\"],[0.6666666666666666,\"#ed7953\"],[0.7777777777777778,\"#fb9f3a\"],[0.8888888888888888,\"#fdca26\"],[1.0,\"#f0f921\"]]}],\"mesh3d\":[{\"type\":\"mesh3d\",\"colorbar\":{\"outlinewidth\":0,\"ticks\":\"\"}}],\"scatter\":[{\"fillpattern\":{\"fillmode\":\"overlay\",\"size\":10,\"solidity\":0.2},\"type\":\"scatter\"}],\"parcoords\":[{\"type\":\"parcoords\",\"line\":{\"colorbar\":{\"outlinewidth\":0,\"ticks\":\"\"}}}],\"scatterpolargl\":[{\"type\":\"scatterpolargl\",\"marker\":{\"colorbar\":{\"outlinewidth\":0,\"ticks\":\"\"}}}],\"bar\":[{\"error_x\":{\"color\":\"#2a3f5f\"},\"error_y\":{\"color\":\"#2a3f5f\"},\"marker\":{\"line\":{\"color\":\"#E5ECF6\",\"width\":0.5},\"pattern\":{\"fillmode\":\"overlay\",\"size\":10,\"solidity\":0.2}},\"type\":\"bar\"}],\"scattergeo\":[{\"type\":\"scattergeo\",\"marker\":{\"colorbar\":{\"outlinewidth\":0,\"ticks\":\"\"}}}],\"scatterpolar\":[{\"type\":\"scatterpolar\",\"marker\":{\"colorbar\":{\"outlinewidth\":0,\"ticks\":\"\"}}}],\"histogram\":[{\"marker\":{\"pattern\":{\"fillmode\":\"overlay\",\"size\":10,\"solidity\":0.2}},\"type\":\"histogram\"}],\"scattergl\":[{\"type\":\"scattergl\",\"marker\":{\"colorbar\":{\"outlinewidth\":0,\"ticks\":\"\"}}}],\"scatter3d\":[{\"type\":\"scatter3d\",\"line\":{\"colorbar\":{\"outlinewidth\":0,\"ticks\":\"\"}},\"marker\":{\"colorbar\":{\"outlinewidth\":0,\"ticks\":\"\"}}}],\"scattermapbox\":[{\"type\":\"scattermapbox\",\"marker\":{\"colorbar\":{\"outlinewidth\":0,\"ticks\":\"\"}}}],\"scatterternary\":[{\"type\":\"scatterternary\",\"marker\":{\"colorbar\":{\"outlinewidth\":0,\"ticks\":\"\"}}}],\"scattercarpet\":[{\"type\":\"scattercarpet\",\"marker\":{\"colorbar\":{\"outlinewidth\":0,\"ticks\":\"\"}}}],\"carpet\":[{\"aaxis\":{\"endlinecolor\":\"#2a3f5f\",\"gridcolor\":\"white\",\"linecolor\":\"white\",\"minorgridcolor\":\"white\",\"startlinecolor\":\"#2a3f5f\"},\"baxis\":{\"endlinecolor\":\"#2a3f5f\",\"gridcolor\":\"white\",\"linecolor\":\"white\",\"minorgridcolor\":\"white\",\"startlinecolor\":\"#2a3f5f\"},\"type\":\"carpet\"}],\"table\":[{\"cells\":{\"fill\":{\"color\":\"#EBF0F8\"},\"line\":{\"color\":\"white\"}},\"header\":{\"fill\":{\"color\":\"#C8D4E3\"},\"line\":{\"color\":\"white\"}},\"type\":\"table\"}],\"barpolar\":[{\"marker\":{\"line\":{\"color\":\"#E5ECF6\",\"width\":0.5},\"pattern\":{\"fillmode\":\"overlay\",\"size\":10,\"solidity\":0.2}},\"type\":\"barpolar\"}],\"pie\":[{\"automargin\":true,\"type\":\"pie\"}]},\"layout\":{\"autotypenumbers\":\"strict\",\"colorway\":[\"#636efa\",\"#EF553B\",\"#00cc96\",\"#ab63fa\",\"#FFA15A\",\"#19d3f3\",\"#FF6692\",\"#B6E880\",\"#FF97FF\",\"#FECB52\"],\"font\":{\"color\":\"#2a3f5f\"},\"hovermode\":\"closest\",\"hoverlabel\":{\"align\":\"left\"},\"paper_bgcolor\":\"white\",\"plot_bgcolor\":\"#E5ECF6\",\"polar\":{\"bgcolor\":\"#E5ECF6\",\"angularaxis\":{\"gridcolor\":\"white\",\"linecolor\":\"white\",\"ticks\":\"\"},\"radialaxis\":{\"gridcolor\":\"white\",\"linecolor\":\"white\",\"ticks\":\"\"}},\"ternary\":{\"bgcolor\":\"#E5ECF6\",\"aaxis\":{\"gridcolor\":\"white\",\"linecolor\":\"white\",\"ticks\":\"\"},\"baxis\":{\"gridcolor\":\"white\",\"linecolor\":\"white\",\"ticks\":\"\"},\"caxis\":{\"gridcolor\":\"white\",\"linecolor\":\"white\",\"ticks\":\"\"}},\"coloraxis\":{\"colorbar\":{\"outlinewidth\":0,\"ticks\":\"\"}},\"colorscale\":{\"sequential\":[[0.0,\"#0d0887\"],[0.1111111111111111,\"#46039f\"],[0.2222222222222222,\"#7201a8\"],[0.3333333333333333,\"#9c179e\"],[0.4444444444444444,\"#bd3786\"],[0.5555555555555556,\"#d8576b\"],[0.6666666666666666,\"#ed7953\"],[0.7777777777777778,\"#fb9f3a\"],[0.8888888888888888,\"#fdca26\"],[1.0,\"#f0f921\"]],\"sequentialminus\":[[0.0,\"#0d0887\"],[0.1111111111111111,\"#46039f\"],[0.2222222222222222,\"#7201a8\"],[0.3333333333333333,\"#9c179e\"],[0.4444444444444444,\"#bd3786\"],[0.5555555555555556,\"#d8576b\"],[0.6666666666666666,\"#ed7953\"],[0.7777777777777778,\"#fb9f3a\"],[0.8888888888888888,\"#fdca26\"],[1.0,\"#f0f921\"]],\"diverging\":[[0,\"#8e0152\"],[0.1,\"#c51b7d\"],[0.2,\"#de77ae\"],[0.3,\"#f1b6da\"],[0.4,\"#fde0ef\"],[0.5,\"#f7f7f7\"],[0.6,\"#e6f5d0\"],[0.7,\"#b8e186\"],[0.8,\"#7fbc41\"],[0.9,\"#4d9221\"],[1,\"#276419\"]]},\"xaxis\":{\"gridcolor\":\"white\",\"linecolor\":\"white\",\"ticks\":\"\",\"title\":{\"standoff\":15},\"zerolinecolor\":\"white\",\"automargin\":true,\"zerolinewidth\":2},\"yaxis\":{\"gridcolor\":\"white\",\"linecolor\":\"white\",\"ticks\":\"\",\"title\":{\"standoff\":15},\"zerolinecolor\":\"white\",\"automargin\":true,\"zerolinewidth\":2},\"scene\":{\"xaxis\":{\"backgroundcolor\":\"#E5ECF6\",\"gridcolor\":\"white\",\"linecolor\":\"white\",\"showbackground\":true,\"ticks\":\"\",\"zerolinecolor\":\"white\",\"gridwidth\":2},\"yaxis\":{\"backgroundcolor\":\"#E5ECF6\",\"gridcolor\":\"white\",\"linecolor\":\"white\",\"showbackground\":true,\"ticks\":\"\",\"zerolinecolor\":\"white\",\"gridwidth\":2},\"zaxis\":{\"backgroundcolor\":\"#E5ECF6\",\"gridcolor\":\"white\",\"linecolor\":\"white\",\"showbackground\":true,\"ticks\":\"\",\"zerolinecolor\":\"white\",\"gridwidth\":2}},\"shapedefaults\":{\"line\":{\"color\":\"#2a3f5f\"}},\"annotationdefaults\":{\"arrowcolor\":\"#2a3f5f\",\"arrowhead\":0,\"arrowwidth\":1},\"geo\":{\"bgcolor\":\"white\",\"landcolor\":\"#E5ECF6\",\"subunitcolor\":\"white\",\"showland\":true,\"showlakes\":true,\"lakecolor\":\"white\"},\"title\":{\"x\":0.05},\"mapbox\":{\"style\":\"light\"}}},\"xaxis\":{\"anchor\":\"y\",\"domain\":[0.0,1.0],\"title\":{\"text\":\"Gender\"}},\"yaxis\":{\"anchor\":\"x\",\"domain\":[0.0,1.0],\"title\":{\"text\":\"CustomerId\"}},\"coloraxis\":{\"colorbar\":{\"title\":{\"text\":\"Exited\"}},\"colorscale\":[[0.0,\"#0d0887\"],[0.1111111111111111,\"#46039f\"],[0.2222222222222222,\"#7201a8\"],[0.3333333333333333,\"#9c179e\"],[0.4444444444444444,\"#bd3786\"],[0.5555555555555556,\"#d8576b\"],[0.6666666666666666,\"#ed7953\"],[0.7777777777777778,\"#fb9f3a\"],[0.8888888888888888,\"#fdca26\"],[1.0,\"#f0f921\"]]},\"legend\":{\"tracegroupgap\":0},\"title\":{\"text\":\"\\u0417\\u0430\\u0432\\u0438\\u0441\\u0438\\u043c\\u043e\\u0441\\u0442\\u044c \\u0443\\u0448\\u0435\\u0434\\u0448\\u0438\\u0445 \\u0438 \\u043e\\u0441\\u0442\\u0430\\u0432\\u0448\\u0438\\u0445\\u0441\\u044f \\u043a\\u043b\\u0438\\u0435\\u043d\\u0442\\u043e\\u0432 \\u043e\\u0442 \\u043f\\u043e\\u043b\\u0430\"},\"barmode\":\"group\",\"height\":500,\"width\":550},                        {\"responsive\": true}                    ).then(function(){\n",
       "                            \n",
       "var gd = document.getElementById('e42d9b5a-ceaa-48c3-8e93-22027fa23415');\n",
       "var x = new MutationObserver(function (mutations, observer) {{\n",
       "        var display = window.getComputedStyle(gd).display;\n",
       "        if (!display || display === 'none') {{\n",
       "            console.log([gd, 'removed!']);\n",
       "            Plotly.purge(gd);\n",
       "            observer.disconnect();\n",
       "        }}\n",
       "}});\n",
       "\n",
       "// Listen for the removal of the full notebook cells\n",
       "var notebookContainer = gd.closest('#notebook-container');\n",
       "if (notebookContainer) {{\n",
       "    x.observe(notebookContainer, {childList: true});\n",
       "}}\n",
       "\n",
       "// Listen for the clearing of the current output cell\n",
       "var outputEl = gd.closest('.output');\n",
       "if (outputEl) {{\n",
       "    x.observe(outputEl, {childList: true});\n",
       "}}\n",
       "\n",
       "                        })                };                });            </script>        </div>"
      ]
     },
     "metadata": {},
     "output_type": "display_data"
    }
   ],
   "source": [
    "#сгруппируем данные,  по гендерному признаку, а также по признаку лояльности укажем количество клиентов\n",
    "grouped_row = churn_data.groupby(['Gender', 'Exited'], as_index=False)['CustomerId'].count()\n",
    "\n",
    "#и теперь уже можно строить px.bar() , передаем данные\n",
    "fig = px.bar(\n",
    "    data_frame=grouped_row, \n",
    "    x=\"Gender\", \n",
    "    y=\"CustomerId\", \n",
    "    color='Exited', \n",
    "    orientation='v', \n",
    "    height=500, \n",
    "    width=550, \n",
    "    title='Зависимость ушедших и оставшихся клиентов от пола', \n",
    "    barmode = 'group',\n",
    ")\n",
    "fig.show()"
   ]
  },
  {
   "cell_type": "code",
   "execution_count": 15,
   "metadata": {},
   "outputs": [],
   "source": [
    "#В результате анализа графика можно сделать вывод что женщин ушло больше чем мужчин, мужчины же наоборот\n",
    "#более лояльны, поэтому вероятнее что женщины уходят чаще мужчин."
   ]
  },
  {
   "cell_type": "markdown",
   "metadata": {},
   "source": [
    "Задание 9.7 Как отток клиентов зависит от числа приобретённых у банка услуг? Для ответа на этот вопрос постройте многоуровневую столбчатую диаграмму."
   ]
  },
  {
   "cell_type": "code",
   "execution_count": 31,
   "metadata": {},
   "outputs": [
    {
     "data": {
      "text/html": [
       "<div>\n",
       "<style scoped>\n",
       "    .dataframe tbody tr th:only-of-type {\n",
       "        vertical-align: middle;\n",
       "    }\n",
       "\n",
       "    .dataframe tbody tr th {\n",
       "        vertical-align: top;\n",
       "    }\n",
       "\n",
       "    .dataframe thead th {\n",
       "        text-align: right;\n",
       "    }\n",
       "</style>\n",
       "<table border=\"1\" class=\"dataframe\">\n",
       "  <thead>\n",
       "    <tr style=\"text-align: right;\">\n",
       "      <th></th>\n",
       "      <th>NumOfProducts</th>\n",
       "      <th>Exited</th>\n",
       "      <th>CustomerId</th>\n",
       "    </tr>\n",
       "  </thead>\n",
       "  <tbody>\n",
       "    <tr>\n",
       "      <th>0</th>\n",
       "      <td>1</td>\n",
       "      <td>0</td>\n",
       "      <td>3675</td>\n",
       "    </tr>\n",
       "    <tr>\n",
       "      <th>1</th>\n",
       "      <td>1</td>\n",
       "      <td>1</td>\n",
       "      <td>1409</td>\n",
       "    </tr>\n",
       "    <tr>\n",
       "      <th>2</th>\n",
       "      <td>2</td>\n",
       "      <td>0</td>\n",
       "      <td>4242</td>\n",
       "    </tr>\n",
       "    <tr>\n",
       "      <th>3</th>\n",
       "      <td>2</td>\n",
       "      <td>1</td>\n",
       "      <td>348</td>\n",
       "    </tr>\n",
       "    <tr>\n",
       "      <th>4</th>\n",
       "      <td>3</td>\n",
       "      <td>0</td>\n",
       "      <td>46</td>\n",
       "    </tr>\n",
       "    <tr>\n",
       "      <th>5</th>\n",
       "      <td>3</td>\n",
       "      <td>1</td>\n",
       "      <td>220</td>\n",
       "    </tr>\n",
       "    <tr>\n",
       "      <th>6</th>\n",
       "      <td>4</td>\n",
       "      <td>1</td>\n",
       "      <td>60</td>\n",
       "    </tr>\n",
       "  </tbody>\n",
       "</table>\n",
       "</div>"
      ],
      "text/plain": [
       "   NumOfProducts  Exited  CustomerId\n",
       "0              1       0        3675\n",
       "1              1       1        1409\n",
       "2              2       0        4242\n",
       "3              2       1         348\n",
       "4              3       0          46\n",
       "5              3       1         220\n",
       "6              4       1          60"
      ]
     },
     "metadata": {},
     "output_type": "display_data"
    },
    {
     "data": {
      "image/png": "[encoded data removed]",
      "text/plain": [
       "<Figure size 500x500 with 1 Axes>"
      ]
     },
     "metadata": {},
     "output_type": "display_data"
    }
   ],
   "source": [
    "grouped_row = churn_data.groupby(['NumOfProducts', 'Exited'], as_index=False)['CustomerId'].count()\n",
    "display(grouped_row)\n",
    "\n",
    "#строим диаграмму\n",
    "fig = plt.figure(figsize=(5, 5))\n",
    "barplot = sns.barplot(\n",
    "    data=grouped_row,\n",
    "    x='NumOfProducts',\n",
    "    y='CustomerId',\n",
    "    hue='Exited',\n",
    "    orient='v'\n",
    ")\n",
    "barplot.set_title('Статус лояльности клиентов к банковским услугам');"
   ]
  },
  {
   "cell_type": "code",
   "execution_count": 195,
   "metadata": {},
   "outputs": [],
   "source": [
    "#Банковские услуги под номерами 3 и 4 вызывают больший отток клиентов. Услуги же под номерами 1 и 2 наоборот\n",
    "#привлекают клиентов и ими охотно пользуются."
   ]
  },
  {
   "cell_type": "markdown",
   "metadata": {},
   "source": [
    "Задание 9.8 Как влияет наличие статуса активного клиента на отток клиентов? Постройте диаграмму, иллюстрирующую это. Что бы вы предложили банку, чтобы уменьшить отток клиентов среди неактивных?"
   ]
  },
  {
   "cell_type": "code",
   "execution_count": 32,
   "metadata": {},
   "outputs": [
    {
     "data": {
      "text/html": [
       "<div>\n",
       "<style scoped>\n",
       "    .dataframe tbody tr th:only-of-type {\n",
       "        vertical-align: middle;\n",
       "    }\n",
       "\n",
       "    .dataframe tbody tr th {\n",
       "        vertical-align: top;\n",
       "    }\n",
       "\n",
       "    .dataframe thead th {\n",
       "        text-align: right;\n",
       "    }\n",
       "</style>\n",
       "<table border=\"1\" class=\"dataframe\">\n",
       "  <thead>\n",
       "    <tr style=\"text-align: right;\">\n",
       "      <th></th>\n",
       "      <th>IsActiveMember</th>\n",
       "      <th>Exited</th>\n",
       "      <th>CustomerId</th>\n",
       "    </tr>\n",
       "  </thead>\n",
       "  <tbody>\n",
       "    <tr>\n",
       "      <th>0</th>\n",
       "      <td>0</td>\n",
       "      <td>0</td>\n",
       "      <td>3547</td>\n",
       "    </tr>\n",
       "    <tr>\n",
       "      <th>1</th>\n",
       "      <td>0</td>\n",
       "      <td>1</td>\n",
       "      <td>1302</td>\n",
       "    </tr>\n",
       "    <tr>\n",
       "      <th>2</th>\n",
       "      <td>1</td>\n",
       "      <td>0</td>\n",
       "      <td>4416</td>\n",
       "    </tr>\n",
       "    <tr>\n",
       "      <th>3</th>\n",
       "      <td>1</td>\n",
       "      <td>1</td>\n",
       "      <td>735</td>\n",
       "    </tr>\n",
       "  </tbody>\n",
       "</table>\n",
       "</div>"
      ],
      "text/plain": [
       "   IsActiveMember  Exited  CustomerId\n",
       "0               0       0        3547\n",
       "1               0       1        1302\n",
       "2               1       0        4416\n",
       "3               1       1         735"
      ]
     },
     "metadata": {},
     "output_type": "display_data"
    },
    {
     "data": {
      "image/png": "[encoded data removed]",
      "text/plain": [
       "<Figure size 1000x700 with 1 Axes>"
      ]
     },
     "metadata": {},
     "output_type": "display_data"
    }
   ],
   "source": [
    "grouped_row = churn_data.groupby(['IsActiveMember', 'Exited'], as_index=False)['CustomerId'].count()\n",
    "display(grouped_row)\n",
    "\n",
    "fig = plt.figure(figsize=(10, 7))\n",
    "barplot = sns.barplot(\n",
    "    data=grouped_row,\n",
    "    x='IsActiveMember',\n",
    "    y='CustomerId',\n",
    "    hue='Exited',\n",
    ")\n",
    "barplot.set_title('График влияния статуса активного клиента в разрезе признака оттока');"
   ]
  },
  {
   "cell_type": "code",
   "execution_count": 50,
   "metadata": {},
   "outputs": [],
   "source": [
    "#В результате анализа полученных графиков можно сделать вывод что наименьший отток наблюдается среди \n",
    "#активных клиентов. Среди неактивных клиентов величина оттока значительно больше, в порядка полутора раз.\n",
    "#Тем самым можно порекомендовать банку увеличить активность клиентов для получения наименьшей величины оттока."
   ]
  },
  {
   "cell_type": "markdown",
   "metadata": {},
   "source": [
    "Задание 9.9 В какой стране доля ушедших клиентов больше? Постройте тепловую картограмму, которая покажет это соотношение на карте мира. Предположите, с чем это может быть связано."
   ]
  },
  {
   "cell_type": "code",
   "execution_count": 74,
   "metadata": {},
   "outputs": [
    {
     "data": {
      "text/html": [
       "<div>\n",
       "<style scoped>\n",
       "    .dataframe tbody tr th:only-of-type {\n",
       "        vertical-align: middle;\n",
       "    }\n",
       "\n",
       "    .dataframe tbody tr th {\n",
       "        vertical-align: top;\n",
       "    }\n",
       "\n",
       "    .dataframe thead th {\n",
       "        text-align: right;\n",
       "    }\n",
       "</style>\n",
       "<table border=\"1\" class=\"dataframe\">\n",
       "  <thead>\n",
       "    <tr style=\"text-align: right;\">\n",
       "      <th></th>\n",
       "      <th>Geography</th>\n",
       "      <th>Exited</th>\n",
       "    </tr>\n",
       "  </thead>\n",
       "  <tbody>\n",
       "    <tr>\n",
       "      <th>0</th>\n",
       "      <td>France</td>\n",
       "      <td>0.161548</td>\n",
       "    </tr>\n",
       "    <tr>\n",
       "      <th>1</th>\n",
       "      <td>Germany</td>\n",
       "      <td>0.324432</td>\n",
       "    </tr>\n",
       "    <tr>\n",
       "      <th>2</th>\n",
       "      <td>Spain</td>\n",
       "      <td>0.166734</td>\n",
       "    </tr>\n",
       "  </tbody>\n",
       "</table>\n",
       "</div>"
      ],
      "text/plain": [
       "  Geography    Exited\n",
       "0    France  0.161548\n",
       "1   Germany  0.324432\n",
       "2     Spain  0.166734"
      ]
     },
     "metadata": {},
     "output_type": "display_data"
    },
    {
     "data": {
      "application/vnd.plotly.v1+json": {
       "config": {
        "plotlyServerURL": "https://plot.ly"
       },
       "data": [
        {
         "coloraxis": "coloraxis",
         "geo": "geo",
         "hovertemplate": "Geography=%{location}<br>Exited=%{z}<extra></extra>",
         "locationmode": "country names",
         "locations": [
          "France",
          "Germany",
          "Spain"
         ],
         "name": "",
         "type": "choropleth",
         "z": [
          0.16154766653370561,
          0.32443204463929853,
          0.1667339523617279
         ]
        }
       ],
       "layout": {
        "coloraxis": {
         "cmax": 0.4,
         "cmin": 0,
         "colorbar": {
          "title": {
           "text": "Exited"
          }
         },
         "colorscale": [
          [
           0,
           "rgb(255,245,240)"
          ],
          [
           0.125,
           "rgb(254,224,210)"
          ],
          [
           0.25,
           "rgb(252,187,161)"
          ],
          [
           0.375,
           "rgb(252,146,114)"
          ],
          [
           0.5,
           "rgb(251,106,74)"
          ],
          [
           0.625,
           "rgb(239,59,44)"
          ],
          [
           0.75,
           "rgb(203,24,29)"
          ],
          [
           0.875,
           "rgb(165,15,21)"
          ],
          [
           1,
           "rgb(103,0,13)"
          ]
         ]
        },
        "geo": {
         "center": {},
         "domain": {
          "x": [
           0,
           1
          ],
          "y": [
           0,
           1
          ]
         }
        },
        "height": 500,
        "legend": {
         "tracegroupgap": 0
        },
        "template": {
         "data": {
          "bar": [
           {
            "error_x": {
             "color": "#2a3f5f"
            },
            "error_y": {
             "color": "#2a3f5f"
            },
            "marker": {
             "line": {
              "color": "#E5ECF6",
              "width": 0.5
             },
             "pattern": {
              "fillmode": "overlay",
              "size": 10,
              "solidity": 0.2
             }
            },
            "type": "bar"
           }
          ],
          "barpolar": [
           {
            "marker": {
             "line": {
              "color": "#E5ECF6",
              "width": 0.5
             },
             "pattern": {
              "fillmode": "overlay",
              "size": 10,
              "solidity": 0.2
             }
            },
            "type": "barpolar"
           }
          ],
          "carpet": [
           {
            "aaxis": {
             "endlinecolor": "#2a3f5f",
             "gridcolor": "white",
             "linecolor": "white",
             "minorgridcolor": "white",
             "startlinecolor": "#2a3f5f"
            },
            "baxis": {
             "endlinecolor": "#2a3f5f",
             "gridcolor": "white",
             "linecolor": "white",
             "minorgridcolor": "white",
             "startlinecolor": "#2a3f5f"
            },
            "type": "carpet"
           }
          ],
          "choropleth": [
           {
            "colorbar": {
             "outlinewidth": 0,
             "ticks": ""
            },
            "type": "choropleth"
           }
          ],
          "contour": [
           {
            "colorbar": {
             "outlinewidth": 0,
             "ticks": ""
            },
            "colorscale": [
             [
              0,
              "#0d0887"
             ],
             [
              0.1111111111111111,
              "#46039f"
             ],
             [
              0.2222222222222222,
              "#7201a8"
             ],
             [
              0.3333333333333333,
              "#9c179e"
             ],
             [
              0.4444444444444444,
              "#bd3786"
             ],
             [
              0.5555555555555556,
              "#d8576b"
             ],
             [
              0.6666666666666666,
              "#ed7953"
             ],
             [
              0.7777777777777778,
              "#fb9f3a"
             ],
             [
              0.8888888888888888,
              "#fdca26"
             ],
             [
              1,
              "#f0f921"
             ]
            ],
            "type": "contour"
           }
          ],
          "contourcarpet": [
           {
            "colorbar": {
             "outlinewidth": 0,
             "ticks": ""
            },
            "type": "contourcarpet"
           }
          ],
          "heatmap": [
           {
            "colorbar": {
             "outlinewidth": 0,
             "ticks": ""
            },
            "colorscale": [
             [
              0,
              "#0d0887"
             ],
             [
              0.1111111111111111,
              "#46039f"
             ],
             [
              0.2222222222222222,
              "#7201a8"
             ],
             [
              0.3333333333333333,
              "#9c179e"
             ],
             [
              0.4444444444444444,
              "#bd3786"
             ],
             [
              0.5555555555555556,
              "#d8576b"
             ],
             [
              0.6666666666666666,
              "#ed7953"
             ],
             [
              0.7777777777777778,
              "#fb9f3a"
             ],
             [
              0.8888888888888888,
              "#fdca26"
             ],
             [
              1,
              "#f0f921"
             ]
            ],
            "type": "heatmap"
           }
          ],
          "heatmapgl": [
           {
            "colorbar": {
             "outlinewidth": 0,
             "ticks": ""
            },
            "colorscale": [
             [
              0,
              "#0d0887"
             ],
             [
              0.1111111111111111,
              "#46039f"
             ],
             [
              0.2222222222222222,
              "#7201a8"
             ],
             [
              0.3333333333333333,
              "#9c179e"
             ],
             [
              0.4444444444444444,
              "#bd3786"
             ],
             [
              0.5555555555555556,
              "#d8576b"
             ],
             [
              0.6666666666666666,
              "#ed7953"
             ],
             [
              0.7777777777777778,
              "#fb9f3a"
             ],
             [
              0.8888888888888888,
              "#fdca26"
             ],
             [
              1,
              "#f0f921"
             ]
            ],
            "type": "heatmapgl"
           }
          ],
          "histogram": [
           {
            "marker": {
             "pattern": {
              "fillmode": "overlay",
              "size": 10,
              "solidity": 0.2
             }
            },
            "type": "histogram"
           }
          ],
          "histogram2d": [
           {
            "colorbar": {
             "outlinewidth": 0,
             "ticks": ""
            },
            "colorscale": [
             [
              0,
              "#0d0887"
             ],
             [
              0.1111111111111111,
              "#46039f"
             ],
             [
              0.2222222222222222,
              "#7201a8"
             ],
             [
              0.3333333333333333,
              "#9c179e"
             ],
             [
              0.4444444444444444,
              "#bd3786"
             ],
             [
              0.5555555555555556,
              "#d8576b"
             ],
             [
              0.6666666666666666,
              "#ed7953"
             ],
             [
              0.7777777777777778,
              "#fb9f3a"
             ],
             [
              0.8888888888888888,
              "#fdca26"
             ],
             [
              1,
              "#f0f921"
             ]
            ],
            "type": "histogram2d"
           }
          ],
          "histogram2dcontour": [
           {
            "colorbar": {
             "outlinewidth": 0,
             "ticks": ""
            },
            "colorscale": [
             [
              0,
              "#0d0887"
             ],
             [
              0.1111111111111111,
              "#46039f"
             ],
             [
              0.2222222222222222,
              "#7201a8"
             ],
             [
              0.3333333333333333,
              "#9c179e"
             ],
             [
              0.4444444444444444,
              "#bd3786"
             ],
             [
              0.5555555555555556,
              "#d8576b"
             ],
             [
              0.6666666666666666,
              "#ed7953"
             ],
             [
              0.7777777777777778,
              "#fb9f3a"
             ],
             [
              0.8888888888888888,
              "#fdca26"
             ],
             [
              1,
              "#f0f921"
             ]
            ],
            "type": "histogram2dcontour"
           }
          ],
          "mesh3d": [
           {
            "colorbar": {
             "outlinewidth": 0,
             "ticks": ""
            },
            "type": "mesh3d"
           }
          ],
          "parcoords": [
           {
            "line": {
             "colorbar": {
              "outlinewidth": 0,
              "ticks": ""
             }
            },
            "type": "parcoords"
           }
          ],
          "pie": [
           {
            "automargin": true,
            "type": "pie"
           }
          ],
          "scatter": [
           {
            "fillpattern": {
             "fillmode": "overlay",
             "size": 10,
             "solidity": 0.2
            },
            "type": "scatter"
           }
          ],
          "scatter3d": [
           {
            "line": {
             "colorbar": {
              "outlinewidth": 0,
              "ticks": ""
             }
            },
            "marker": {
             "colorbar": {
              "outlinewidth": 0,
              "ticks": ""
             }
            },
            "type": "scatter3d"
           }
          ],
          "scattercarpet": [
           {
            "marker": {
             "colorbar": {
              "outlinewidth": 0,
              "ticks": ""
             }
            },
            "type": "scattercarpet"
           }
          ],
          "scattergeo": [
           {
            "marker": {
             "colorbar": {
              "outlinewidth": 0,
              "ticks": ""
             }
            },
            "type": "scattergeo"
           }
          ],
          "scattergl": [
           {
            "marker": {
             "colorbar": {
              "outlinewidth": 0,
              "ticks": ""
             }
            },
            "type": "scattergl"
           }
          ],
          "scattermapbox": [
           {
            "marker": {
             "colorbar": {
              "outlinewidth": 0,
              "ticks": ""
             }
            },
            "type": "scattermapbox"
           }
          ],
          "scatterpolar": [
           {
            "marker": {
             "colorbar": {
              "outlinewidth": 0,
              "ticks": ""
             }
            },
            "type": "scatterpolar"
           }
          ],
          "scatterpolargl": [
           {
            "marker": {
             "colorbar": {
              "outlinewidth": 0,
              "ticks": ""
             }
            },
            "type": "scatterpolargl"
           }
          ],
          "scatterternary": [
           {
            "marker": {
             "colorbar": {
              "outlinewidth": 0,
              "ticks": ""
             }
            },
            "type": "scatterternary"
           }
          ],
          "surface": [
           {
            "colorbar": {
             "outlinewidth": 0,
             "ticks": ""
            },
            "colorscale": [
             [
              0,
              "#0d0887"
             ],
             [
              0.1111111111111111,
              "#46039f"
             ],
             [
              0.2222222222222222,
              "#7201a8"
             ],
             [
              0.3333333333333333,
              "#9c179e"
             ],
             [
              0.4444444444444444,
              "#bd3786"
             ],
             [
              0.5555555555555556,
              "#d8576b"
             ],
             [
              0.6666666666666666,
              "#ed7953"
             ],
             [
              0.7777777777777778,
              "#fb9f3a"
             ],
             [
              0.8888888888888888,
              "#fdca26"
             ],
             [
              1,
              "#f0f921"
             ]
            ],
            "type": "surface"
           }
          ],
          "table": [
           {
            "cells": {
             "fill": {
              "color": "#EBF0F8"
             },
             "line": {
              "color": "white"
             }
            },
            "header": {
             "fill": {
              "color": "#C8D4E3"
             },
             "line": {
              "color": "white"
             }
            },
            "type": "table"
           }
          ]
         },
         "layout": {
          "annotationdefaults": {
           "arrowcolor": "#2a3f5f",
           "arrowhead": 0,
           "arrowwidth": 1
          },
          "autotypenumbers": "strict",
          "coloraxis": {
           "colorbar": {
            "outlinewidth": 0,
            "ticks": ""
           }
          },
          "colorscale": {
           "diverging": [
            [
             0,
             "#8e0152"
            ],
            [
             0.1,
             "#c51b7d"
            ],
            [
             0.2,
             "#de77ae"
            ],
            [
             0.3,
             "#f1b6da"
            ],
            [
             0.4,
             "#fde0ef"
            ],
            [
             0.5,
             "#f7f7f7"
            ],
            [
             0.6,
             "#e6f5d0"
            ],
            [
             0.7,
             "#b8e186"
            ],
            [
             0.8,
             "#7fbc41"
            ],
            [
             0.9,
             "#4d9221"
            ],
            [
             1,
             "#276419"
            ]
           ],
           "sequential": [
            [
             0,
             "#0d0887"
            ],
            [
             0.1111111111111111,
             "#46039f"
            ],
            [
             0.2222222222222222,
             "#7201a8"
            ],
            [
             0.3333333333333333,
             "#9c179e"
            ],
            [
             0.4444444444444444,
             "#bd3786"
            ],
            [
             0.5555555555555556,
             "#d8576b"
            ],
            [
             0.6666666666666666,
             "#ed7953"
            ],
            [
             0.7777777777777778,
             "#fb9f3a"
            ],
            [
             0.8888888888888888,
             "#fdca26"
            ],
            [
             1,
             "#f0f921"
            ]
           ],
           "sequentialminus": [
            [
             0,
             "#0d0887"
            ],
            [
             0.1111111111111111,
             "#46039f"
            ],
            [
             0.2222222222222222,
             "#7201a8"
            ],
            [
             0.3333333333333333,
             "#9c179e"
            ],
            [
             0.4444444444444444,
             "#bd3786"
            ],
            [
             0.5555555555555556,
             "#d8576b"
            ],
            [
             0.6666666666666666,
             "#ed7953"
            ],
            [
             0.7777777777777778,
             "#fb9f3a"
            ],
            [
             0.8888888888888888,
             "#fdca26"
            ],
            [
             1,
             "#f0f921"
            ]
           ]
          },
          "colorway": [
           "#636efa",
           "#EF553B",
           "#00cc96",
           "#ab63fa",
           "#FFA15A",
           "#19d3f3",
           "#FF6692",
           "#B6E880",
           "#FF97FF",
           "#FECB52"
          ],
          "font": {
           "color": "#2a3f5f"
          },
          "geo": {
           "bgcolor": "white",
           "lakecolor": "white",
           "landcolor": "#E5ECF6",
           "showlakes": true,
           "showland": true,
           "subunitcolor": "white"
          },
          "hoverlabel": {
           "align": "left"
          },
          "hovermode": "closest",
          "mapbox": {
           "style": "light"
          },
          "paper_bgcolor": "white",
          "plot_bgcolor": "#E5ECF6",
          "polar": {
           "angularaxis": {
            "gridcolor": "white",
            "linecolor": "white",
            "ticks": ""
           },
           "bgcolor": "#E5ECF6",
           "radialaxis": {
            "gridcolor": "white",
            "linecolor": "white",
            "ticks": ""
           }
          },
          "scene": {
           "xaxis": {
            "backgroundcolor": "#E5ECF6",
            "gridcolor": "white",
            "gridwidth": 2,
            "linecolor": "white",
            "showbackground": true,
            "ticks": "",
            "zerolinecolor": "white"
           },
           "yaxis": {
            "backgroundcolor": "#E5ECF6",
            "gridcolor": "white",
            "gridwidth": 2,
            "linecolor": "white",
            "showbackground": true,
            "ticks": "",
            "zerolinecolor": "white"
           },
           "zaxis": {
            "backgroundcolor": "#E5ECF6",
            "gridcolor": "white",
            "gridwidth": 2,
            "linecolor": "white",
            "showbackground": true,
            "ticks": "",
            "zerolinecolor": "white"
           }
          },
          "shapedefaults": {
           "line": {
            "color": "#2a3f5f"
           }
          },
          "ternary": {
           "aaxis": {
            "gridcolor": "white",
            "linecolor": "white",
            "ticks": ""
           },
           "baxis": {
            "gridcolor": "white",
            "linecolor": "white",
            "ticks": ""
           },
           "bgcolor": "#E5ECF6",
           "caxis": {
            "gridcolor": "white",
            "linecolor": "white",
            "ticks": ""
           }
          },
          "title": {
           "x": 0.05
          },
          "xaxis": {
           "automargin": true,
           "gridcolor": "white",
           "linecolor": "white",
           "ticks": "",
           "title": {
            "standoff": 15
           },
           "zerolinecolor": "white",
           "zerolinewidth": 2
          },
          "yaxis": {
           "automargin": true,
           "gridcolor": "white",
           "linecolor": "white",
           "ticks": "",
           "title": {
            "standoff": 15
           },
           "zerolinecolor": "white",
           "zerolinewidth": 2
          }
         }
        },
        "title": {
         "text": "Распределение оттока клиентов по странам"
        },
        "width": 800
       }
      },
      "text/html": [
       "<div>                            <div id=\"b4b371f3-fce5-4ea3-87d0-13d77a699377\" class=\"plotly-graph-div\" style=\"height:500px; width:800px;\"></div>            <script type=\"text/javascript\">                require([\"plotly\"], function(Plotly) {                    window.PLOTLYENV=window.PLOTLYENV || {};                                    if (document.getElementById(\"b4b371f3-fce5-4ea3-87d0-13d77a699377\")) {                    Plotly.newPlot(                        \"b4b371f3-fce5-4ea3-87d0-13d77a699377\",                        [{\"coloraxis\":\"coloraxis\",\"geo\":\"geo\",\"hovertemplate\":\"Geography=%{location}<br>Exited=%{z}<extra></extra>\",\"locationmode\":\"country names\",\"locations\":[\"France\",\"Germany\",\"Spain\"],\"name\":\"\",\"z\":[0.16154766653370561,0.32443204463929853,0.1667339523617279],\"type\":\"choropleth\"}],                        {\"template\":{\"data\":{\"histogram2dcontour\":[{\"type\":\"histogram2dcontour\",\"colorbar\":{\"outlinewidth\":0,\"ticks\":\"\"},\"colorscale\":[[0.0,\"#0d0887\"],[0.1111111111111111,\"#46039f\"],[0.2222222222222222,\"#7201a8\"],[0.3333333333333333,\"#9c179e\"],[0.4444444444444444,\"#bd3786\"],[0.5555555555555556,\"#d8576b\"],[0.6666666666666666,\"#ed7953\"],[0.7777777777777778,\"#fb9f3a\"],[0.8888888888888888,\"#fdca26\"],[1.0,\"#f0f921\"]]}],\"choropleth\":[{\"type\":\"choropleth\",\"colorbar\":{\"outlinewidth\":0,\"ticks\":\"\"}}],\"histogram2d\":[{\"type\":\"histogram2d\",\"colorbar\":{\"outlinewidth\":0,\"ticks\":\"\"},\"colorscale\":[[0.0,\"#0d0887\"],[0.1111111111111111,\"#46039f\"],[0.2222222222222222,\"#7201a8\"],[0.3333333333333333,\"#9c179e\"],[0.4444444444444444,\"#bd3786\"],[0.5555555555555556,\"#d8576b\"],[0.6666666666666666,\"#ed7953\"],[0.7777777777777778,\"#fb9f3a\"],[0.8888888888888888,\"#fdca26\"],[1.0,\"#f0f921\"]]}],\"heatmap\":[{\"type\":\"heatmap\",\"colorbar\":{\"outlinewidth\":0,\"ticks\":\"\"},\"colorscale\":[[0.0,\"#0d0887\"],[0.1111111111111111,\"#46039f\"],[0.2222222222222222,\"#7201a8\"],[0.3333333333333333,\"#9c179e\"],[0.4444444444444444,\"#bd3786\"],[0.5555555555555556,\"#d8576b\"],[0.6666666666666666,\"#ed7953\"],[0.7777777777777778,\"#fb9f3a\"],[0.8888888888888888,\"#fdca26\"],[1.0,\"#f0f921\"]]}],\"heatmapgl\":[{\"type\":\"heatmapgl\",\"colorbar\":{\"outlinewidth\":0,\"ticks\":\"\"},\"colorscale\":[[0.0,\"#0d0887\"],[0.1111111111111111,\"#46039f\"],[0.2222222222222222,\"#7201a8\"],[0.3333333333333333,\"#9c179e\"],[0.4444444444444444,\"#bd3786\"],[0.5555555555555556,\"#d8576b\"],[0.6666666666666666,\"#ed7953\"],[0.7777777777777778,\"#fb9f3a\"],[0.8888888888888888,\"#fdca26\"],[1.0,\"#f0f921\"]]}],\"contourcarpet\":[{\"type\":\"contourcarpet\",\"colorbar\":{\"outlinewidth\":0,\"ticks\":\"\"}}],\"contour\":[{\"type\":\"contour\",\"colorbar\":{\"outlinewidth\":0,\"ticks\":\"\"},\"colorscale\":[[0.0,\"#0d0887\"],[0.1111111111111111,\"#46039f\"],[0.2222222222222222,\"#7201a8\"],[0.3333333333333333,\"#9c179e\"],[0.4444444444444444,\"#bd3786\"],[0.5555555555555556,\"#d8576b\"],[0.6666666666666666,\"#ed7953\"],[0.7777777777777778,\"#fb9f3a\"],[0.8888888888888888,\"#fdca26\"],[1.0,\"#f0f921\"]]}],\"surface\":[{\"type\":\"surface\",\"colorbar\":{\"outlinewidth\":0,\"ticks\":\"\"},\"colorscale\":[[0.0,\"#0d0887\"],[0.1111111111111111,\"#46039f\"],[0.2222222222222222,\"#7201a8\"],[0.3333333333333333,\"#9c179e\"],[0.4444444444444444,\"#bd3786\"],[0.5555555555555556,\"#d8576b\"],[0.6666666666666666,\"#ed7953\"],[0.7777777777777778,\"#fb9f3a\"],[0.8888888888888888,\"#fdca26\"],[1.0,\"#f0f921\"]]}],\"mesh3d\":[{\"type\":\"mesh3d\",\"colorbar\":{\"outlinewidth\":0,\"ticks\":\"\"}}],\"scatter\":[{\"fillpattern\":{\"fillmode\":\"overlay\",\"size\":10,\"solidity\":0.2},\"type\":\"scatter\"}],\"parcoords\":[{\"type\":\"parcoords\",\"line\":{\"colorbar\":{\"outlinewidth\":0,\"ticks\":\"\"}}}],\"scatterpolargl\":[{\"type\":\"scatterpolargl\",\"marker\":{\"colorbar\":{\"outlinewidth\":0,\"ticks\":\"\"}}}],\"bar\":[{\"error_x\":{\"color\":\"#2a3f5f\"},\"error_y\":{\"color\":\"#2a3f5f\"},\"marker\":{\"line\":{\"color\":\"#E5ECF6\",\"width\":0.5},\"pattern\":{\"fillmode\":\"overlay\",\"size\":10,\"solidity\":0.2}},\"type\":\"bar\"}],\"scattergeo\":[{\"type\":\"scattergeo\",\"marker\":{\"colorbar\":{\"outlinewidth\":0,\"ticks\":\"\"}}}],\"scatterpolar\":[{\"type\":\"scatterpolar\",\"marker\":{\"colorbar\":{\"outlinewidth\":0,\"ticks\":\"\"}}}],\"histogram\":[{\"marker\":{\"pattern\":{\"fillmode\":\"overlay\",\"size\":10,\"solidity\":0.2}},\"type\":\"histogram\"}],\"scattergl\":[{\"type\":\"scattergl\",\"marker\":{\"colorbar\":{\"outlinewidth\":0,\"ticks\":\"\"}}}],\"scatter3d\":[{\"type\":\"scatter3d\",\"line\":{\"colorbar\":{\"outlinewidth\":0,\"ticks\":\"\"}},\"marker\":{\"colorbar\":{\"outlinewidth\":0,\"ticks\":\"\"}}}],\"scattermapbox\":[{\"type\":\"scattermapbox\",\"marker\":{\"colorbar\":{\"outlinewidth\":0,\"ticks\":\"\"}}}],\"scatterternary\":[{\"type\":\"scatterternary\",\"marker\":{\"colorbar\":{\"outlinewidth\":0,\"ticks\":\"\"}}}],\"scattercarpet\":[{\"type\":\"scattercarpet\",\"marker\":{\"colorbar\":{\"outlinewidth\":0,\"ticks\":\"\"}}}],\"carpet\":[{\"aaxis\":{\"endlinecolor\":\"#2a3f5f\",\"gridcolor\":\"white\",\"linecolor\":\"white\",\"minorgridcolor\":\"white\",\"startlinecolor\":\"#2a3f5f\"},\"baxis\":{\"endlinecolor\":\"#2a3f5f\",\"gridcolor\":\"white\",\"linecolor\":\"white\",\"minorgridcolor\":\"white\",\"startlinecolor\":\"#2a3f5f\"},\"type\":\"carpet\"}],\"table\":[{\"cells\":{\"fill\":{\"color\":\"#EBF0F8\"},\"line\":{\"color\":\"white\"}},\"header\":{\"fill\":{\"color\":\"#C8D4E3\"},\"line\":{\"color\":\"white\"}},\"type\":\"table\"}],\"barpolar\":[{\"marker\":{\"line\":{\"color\":\"#E5ECF6\",\"width\":0.5},\"pattern\":{\"fillmode\":\"overlay\",\"size\":10,\"solidity\":0.2}},\"type\":\"barpolar\"}],\"pie\":[{\"automargin\":true,\"type\":\"pie\"}]},\"layout\":{\"autotypenumbers\":\"strict\",\"colorway\":[\"#636efa\",\"#EF553B\",\"#00cc96\",\"#ab63fa\",\"#FFA15A\",\"#19d3f3\",\"#FF6692\",\"#B6E880\",\"#FF97FF\",\"#FECB52\"],\"font\":{\"color\":\"#2a3f5f\"},\"hovermode\":\"closest\",\"hoverlabel\":{\"align\":\"left\"},\"paper_bgcolor\":\"white\",\"plot_bgcolor\":\"#E5ECF6\",\"polar\":{\"bgcolor\":\"#E5ECF6\",\"angularaxis\":{\"gridcolor\":\"white\",\"linecolor\":\"white\",\"ticks\":\"\"},\"radialaxis\":{\"gridcolor\":\"white\",\"linecolor\":\"white\",\"ticks\":\"\"}},\"ternary\":{\"bgcolor\":\"#E5ECF6\",\"aaxis\":{\"gridcolor\":\"white\",\"linecolor\":\"white\",\"ticks\":\"\"},\"baxis\":{\"gridcolor\":\"white\",\"linecolor\":\"white\",\"ticks\":\"\"},\"caxis\":{\"gridcolor\":\"white\",\"linecolor\":\"white\",\"ticks\":\"\"}},\"coloraxis\":{\"colorbar\":{\"outlinewidth\":0,\"ticks\":\"\"}},\"colorscale\":{\"sequential\":[[0.0,\"#0d0887\"],[0.1111111111111111,\"#46039f\"],[0.2222222222222222,\"#7201a8\"],[0.3333333333333333,\"#9c179e\"],[0.4444444444444444,\"#bd3786\"],[0.5555555555555556,\"#d8576b\"],[0.6666666666666666,\"#ed7953\"],[0.7777777777777778,\"#fb9f3a\"],[0.8888888888888888,\"#fdca26\"],[1.0,\"#f0f921\"]],\"sequentialminus\":[[0.0,\"#0d0887\"],[0.1111111111111111,\"#46039f\"],[0.2222222222222222,\"#7201a8\"],[0.3333333333333333,\"#9c179e\"],[0.4444444444444444,\"#bd3786\"],[0.5555555555555556,\"#d8576b\"],[0.6666666666666666,\"#ed7953\"],[0.7777777777777778,\"#fb9f3a\"],[0.8888888888888888,\"#fdca26\"],[1.0,\"#f0f921\"]],\"diverging\":[[0,\"#8e0152\"],[0.1,\"#c51b7d\"],[0.2,\"#de77ae\"],[0.3,\"#f1b6da\"],[0.4,\"#fde0ef\"],[0.5,\"#f7f7f7\"],[0.6,\"#e6f5d0\"],[0.7,\"#b8e186\"],[0.8,\"#7fbc41\"],[0.9,\"#4d9221\"],[1,\"#276419\"]]},\"xaxis\":{\"gridcolor\":\"white\",\"linecolor\":\"white\",\"ticks\":\"\",\"title\":{\"standoff\":15},\"zerolinecolor\":\"white\",\"automargin\":true,\"zerolinewidth\":2},\"yaxis\":{\"gridcolor\":\"white\",\"linecolor\":\"white\",\"ticks\":\"\",\"title\":{\"standoff\":15},\"zerolinecolor\":\"white\",\"automargin\":true,\"zerolinewidth\":2},\"scene\":{\"xaxis\":{\"backgroundcolor\":\"#E5ECF6\",\"gridcolor\":\"white\",\"linecolor\":\"white\",\"showbackground\":true,\"ticks\":\"\",\"zerolinecolor\":\"white\",\"gridwidth\":2},\"yaxis\":{\"backgroundcolor\":\"#E5ECF6\",\"gridcolor\":\"white\",\"linecolor\":\"white\",\"showbackground\":true,\"ticks\":\"\",\"zerolinecolor\":\"white\",\"gridwidth\":2},\"zaxis\":{\"backgroundcolor\":\"#E5ECF6\",\"gridcolor\":\"white\",\"linecolor\":\"white\",\"showbackground\":true,\"ticks\":\"\",\"zerolinecolor\":\"white\",\"gridwidth\":2}},\"shapedefaults\":{\"line\":{\"color\":\"#2a3f5f\"}},\"annotationdefaults\":{\"arrowcolor\":\"#2a3f5f\",\"arrowhead\":0,\"arrowwidth\":1},\"geo\":{\"bgcolor\":\"white\",\"landcolor\":\"#E5ECF6\",\"subunitcolor\":\"white\",\"showland\":true,\"showlakes\":true,\"lakecolor\":\"white\"},\"title\":{\"x\":0.05},\"mapbox\":{\"style\":\"light\"}}},\"geo\":{\"domain\":{\"x\":[0.0,1.0],\"y\":[0.0,1.0]},\"center\":{}},\"coloraxis\":{\"colorbar\":{\"title\":{\"text\":\"Exited\"}},\"colorscale\":[[0.0,\"rgb(255,245,240)\"],[0.125,\"rgb(254,224,210)\"],[0.25,\"rgb(252,187,161)\"],[0.375,\"rgb(252,146,114)\"],[0.5,\"rgb(251,106,74)\"],[0.625,\"rgb(239,59,44)\"],[0.75,\"rgb(203,24,29)\"],[0.875,\"rgb(165,15,21)\"],[1.0,\"rgb(103,0,13)\"]],\"cmin\":0,\"cmax\":0.4},\"legend\":{\"tracegroupgap\":0},\"title\":{\"text\":\"\\u0420\\u0430\\u0441\\u043f\\u0440\\u0435\\u0434\\u0435\\u043b\\u0435\\u043d\\u0438\\u0435 \\u043e\\u0442\\u0442\\u043e\\u043a\\u0430 \\u043a\\u043b\\u0438\\u0435\\u043d\\u0442\\u043e\\u0432 \\u043f\\u043e \\u0441\\u0442\\u0440\\u0430\\u043d\\u0430\\u043c\"},\"height\":500,\"width\":800},                        {\"responsive\": true}                    ).then(function(){\n",
       "                            \n",
       "var gd = document.getElementById('b4b371f3-fce5-4ea3-87d0-13d77a699377');\n",
       "var x = new MutationObserver(function (mutations, observer) {{\n",
       "        var display = window.getComputedStyle(gd).display;\n",
       "        if (!display || display === 'none') {{\n",
       "            console.log([gd, 'removed!']);\n",
       "            Plotly.purge(gd);\n",
       "            observer.disconnect();\n",
       "        }}\n",
       "}});\n",
       "\n",
       "// Listen for the removal of the full notebook cells\n",
       "var notebookContainer = gd.closest('#notebook-container');\n",
       "if (notebookContainer) {{\n",
       "    x.observe(notebookContainer, {childList: true});\n",
       "}}\n",
       "\n",
       "// Listen for the clearing of the current output cell\n",
       "var outputEl = gd.closest('.output');\n",
       "if (outputEl) {{\n",
       "    x.observe(outputEl, {childList: true});\n",
       "}}\n",
       "\n",
       "                        })                };                });            </script>        </div>"
      ]
     },
     "metadata": {},
     "output_type": "display_data"
    }
   ],
   "source": [
    "new_data = churn_data.groupby('Geography', as_index=False)['Exited'].mean()\n",
    "display(new_data)\n",
    "\n",
    "fig = px.choropleth(\n",
    "    data_frame=new_data, #DataFrame\n",
    "    locations=\"Geography\", #столбец с локациями\n",
    "    locationmode = \"country names\", #режим сопоставления локаций с базой Plotly\n",
    "    color=\"Exited\", #от чего зависит цвет\n",
    "    range_color=[0, 0.4], #диапазон цвета\n",
    "    title='Распределение оттока клиентов по странам', #заголовок\n",
    "    width=800, #ширина\n",
    "    height=500, #высота\n",
    "    color_continuous_scale='Reds' #палитра цветов\n",
    ")\n",
    "\n",
    "#отображаем график\n",
    "fig.show()"
   ]
  },
  {
   "cell_type": "code",
   "execution_count": 60,
   "metadata": {},
   "outputs": [],
   "source": [
    "#Доля ушедших клиентов больше в Германии. Это может быть связано с тем, что большинство из клиентов\n",
    "#этой страны - женщины с низким кредитным рейтингом."
   ]
  },
  {
   "cell_type": "markdown",
   "metadata": {},
   "source": [
    "Задание 9.10 Переведите числовой признак CreditScore в категориальный. Для этого воспользуйтесь функцией get_credit_score_cat(), которая приведена ниже. Примените её к столбцу CreditScore и создайте новый признак CreditScoreCat — категории кредитного рейтинга.\n",
    "\n",
    "Постройте сводную таблицу, строками которой являются категории кредитного рейтинга (CreditScoreCat), а столбцами — количество лет, в течение которых клиент пользуется услугами банка (Tenure). В ячейках сводной таблицы должно находиться среднее по признаку оттока (Exited) — доля ушедших пользователей.\n",
    "\n",
    "На основе полученной сводной таблицы постройте тепловую карту с аннотацией. Найдите на тепловой карте категории клиентов, которые уходят чаще всего."
   ]
  },
  {
   "cell_type": "code",
   "execution_count": 34,
   "metadata": {},
   "outputs": [
    {
     "data": {
      "text/html": [
       "<div>\n",
       "<style scoped>\n",
       "    .dataframe tbody tr th:only-of-type {\n",
       "        vertical-align: middle;\n",
       "    }\n",
       "\n",
       "    .dataframe tbody tr th {\n",
       "        vertical-align: top;\n",
       "    }\n",
       "\n",
       "    .dataframe thead th {\n",
       "        text-align: right;\n",
       "    }\n",
       "</style>\n",
       "<table border=\"1\" class=\"dataframe\">\n",
       "  <thead>\n",
       "    <tr style=\"text-align: right;\">\n",
       "      <th>Tenure</th>\n",
       "      <th>0</th>\n",
       "      <th>1</th>\n",
       "      <th>2</th>\n",
       "      <th>3</th>\n",
       "      <th>4</th>\n",
       "      <th>5</th>\n",
       "      <th>6</th>\n",
       "      <th>7</th>\n",
       "      <th>8</th>\n",
       "      <th>9</th>\n",
       "      <th>10</th>\n",
       "    </tr>\n",
       "    <tr>\n",
       "      <th>CreditScoreCat</th>\n",
       "      <th></th>\n",
       "      <th></th>\n",
       "      <th></th>\n",
       "      <th></th>\n",
       "      <th></th>\n",
       "      <th></th>\n",
       "      <th></th>\n",
       "      <th></th>\n",
       "      <th></th>\n",
       "      <th></th>\n",
       "      <th></th>\n",
       "    </tr>\n",
       "  </thead>\n",
       "  <tbody>\n",
       "    <tr>\n",
       "      <th>Excellent</th>\n",
       "      <td>11</td>\n",
       "      <td>20</td>\n",
       "      <td>14</td>\n",
       "      <td>17</td>\n",
       "      <td>12</td>\n",
       "      <td>21</td>\n",
       "      <td>21</td>\n",
       "      <td>12</td>\n",
       "      <td>20</td>\n",
       "      <td>26</td>\n",
       "      <td>13</td>\n",
       "    </tr>\n",
       "    <tr>\n",
       "      <th>Fair</th>\n",
       "      <td>20</td>\n",
       "      <td>47</td>\n",
       "      <td>49</td>\n",
       "      <td>50</td>\n",
       "      <td>43</td>\n",
       "      <td>48</td>\n",
       "      <td>52</td>\n",
       "      <td>45</td>\n",
       "      <td>51</td>\n",
       "      <td>42</td>\n",
       "      <td>23</td>\n",
       "    </tr>\n",
       "    <tr>\n",
       "      <th>Good</th>\n",
       "      <td>32</td>\n",
       "      <td>79</td>\n",
       "      <td>74</td>\n",
       "      <td>76</td>\n",
       "      <td>72</td>\n",
       "      <td>83</td>\n",
       "      <td>64</td>\n",
       "      <td>71</td>\n",
       "      <td>55</td>\n",
       "      <td>73</td>\n",
       "      <td>36</td>\n",
       "    </tr>\n",
       "    <tr>\n",
       "      <th>Poor</th>\n",
       "      <td>24</td>\n",
       "      <td>69</td>\n",
       "      <td>54</td>\n",
       "      <td>52</td>\n",
       "      <td>59</td>\n",
       "      <td>47</td>\n",
       "      <td>43</td>\n",
       "      <td>36</td>\n",
       "      <td>53</td>\n",
       "      <td>58</td>\n",
       "      <td>20</td>\n",
       "    </tr>\n",
       "    <tr>\n",
       "      <th>Very_Poor</th>\n",
       "      <td>8</td>\n",
       "      <td>17</td>\n",
       "      <td>10</td>\n",
       "      <td>18</td>\n",
       "      <td>17</td>\n",
       "      <td>10</td>\n",
       "      <td>16</td>\n",
       "      <td>13</td>\n",
       "      <td>18</td>\n",
       "      <td>14</td>\n",
       "      <td>9</td>\n",
       "    </tr>\n",
       "  </tbody>\n",
       "</table>\n",
       "</div>"
      ],
      "text/plain": [
       "Tenure          0   1   2   3   4   5   6   7   8   9   10\n",
       "CreditScoreCat                                            \n",
       "Excellent       11  20  14  17  12  21  21  12  20  26  13\n",
       "Fair            20  47  49  50  43  48  52  45  51  42  23\n",
       "Good            32  79  74  76  72  83  64  71  55  73  36\n",
       "Poor            24  69  54  52  59  47  43  36  53  58  20\n",
       "Very_Poor        8  17  10  18  17  10  16  13  18  14   9"
      ]
     },
     "metadata": {},
     "output_type": "display_data"
    },
    {
     "data": {
      "text/plain": [
       "Text(0.5, 1.0, 'Тепловая карта оттока клиентов')"
      ]
     },
     "execution_count": 34,
     "metadata": {},
     "output_type": "execute_result"
    },
    {
     "data": {
      "image/png": "[encoded data removed]",
      "text/plain": [
       "<Figure size 1000x500 with 2 Axes>"
      ]
     },
     "metadata": {},
     "output_type": "display_data"
    }
   ],
   "source": [
    "def get_credit_score_cat(CreditScore):\n",
    "    if CreditScore >= 300 and CreditScore < 500:\n",
    "        return \"Very_Poor\"\n",
    "    elif CreditScore >= 500 and CreditScore < 601:\n",
    "        return \"Poor\"\n",
    "    elif CreditScore >= 601 and CreditScore < 661:\n",
    "        return \"Fair\"\n",
    "    elif CreditScore >= 661 and CreditScore < 781:\n",
    "        return \"Good\"\n",
    "    elif CreditScore >= 781 and CreditScore < 851:\n",
    "        return \"Excellent\"\n",
    "    elif CreditScore >= 851:\n",
    "        return \"Top\"\n",
    "    elif CreditScore < 300:\n",
    "        return \"Deep\"\n",
    "\n",
    "churn_data['CreditScoreCat'] = churn_data['CreditScore'].apply(get_credit_score_cat)\n",
    "filtered = churn_data[churn_data['Exited'] == 1].copy()\n",
    "\n",
    "pivot_1=filtered.pivot_table(\n",
    "    values='Exited',\n",
    "    index='CreditScoreCat',\n",
    "    columns='Tenure',\n",
    "    aggfunc='count'\n",
    ")\n",
    "pivot_1=pivot_1.fillna(0)\n",
    "display(pivot_1)\n",
    "\n",
    "fig = plt.figure(figsize=(10, 5))\n",
    "heatmap = sns.heatmap(data=pivot_1, annot=True, cmap='plasma')\n",
    "heatmap.set_title('Тепловая карта оттока клиентов', fontsize=16)\n"
   ]
  },
  {
   "cell_type": "code",
   "execution_count": 40,
   "metadata": {},
   "outputs": [],
   "source": [
    "#На полученной тепловой карте зависимости оттока клиентов от категории кредитного рейтинга и времени \n",
    "#в течение которого клиент пользовался услугами банка - видно, что на границах кредитного рейтинга\n",
    "#(категории Very_Poor и Excellent) количество ушедших клиентов - минимально. И по мере приближения \n",
    "#кредитного рейтинга к его среднему значению (Good) - количество ушедших клиентов - возрастает, достигая\n",
    "#максимальных значений в категории Good. Причем количество лет, в течение которых клиент пользовался\n",
    "#услугами банка для данной категории ушедших клиентов имеет значение также только на его границах\n",
    "#(0 и 10 лет - клиенты уходят реже), а в остальных случаях не влияет на решение клиента уйти."
   ]
  }
 ],
 "metadata": {
  "kernelspec": {
   "display_name": "Python 3.8.10 64-bit",
   "language": "python",
   "name": "python3"
  },
  "language_info": {
   "codemirror_mode": {
    "name": "ipython",
    "version": 3
   },
   "file_extension": ".py",
   "mimetype": "text/x-python",
   "name": "python",
   "nbconvert_exporter": "python",
   "pygments_lexer": "ipython3",
   "version": "3.8.10"
  },
  "orig_nbformat": 4,
  "vscode": {
   "interpreter": {
    "hash": "8b3d7094b871ef431966986253c7aaa7a37d6aeda07332e182c6c3c7870940fe"
   }
  }
 },
 "nbformat": 4,
 "nbformat_minor": 2
}
